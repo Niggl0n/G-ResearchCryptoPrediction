{
  "metadata": {
    "kernelspec": {
      "language": "python",
      "display_name": "Python 3",
      "name": "python3"
    },
    "language_info": {
      "pygments_lexer": "ipython3",
      "nbconvert_exporter": "python",
      "version": "3.6.4",
      "file_extension": ".py",
      "codemirror_mode": {
        "name": "ipython",
        "version": 3
      },
      "name": "python",
      "mimetype": "text/x-python"
    },
    "colab": {
      "name": "transformer-model_colab.ipynb",
      "provenance": []
    },
    "accelerator": "GPU"
  },
  "nbformat_minor": 0,
  "nbformat": 4,
  "cells": [
    {
      "cell_type": "markdown",
      "source": [
        "# VERSION \n",
        "\n",
        "**Transfromer Colab v2**"
      ],
      "metadata": {
        "id": "u04TwdXA9xSW"
      }
    },
    {
      "cell_type": "markdown",
      "source": [
        "## Todos\n",
        "\n",
        "- Save model\n",
        "- check for other necessray callbacks\n",
        "- run version 8 with 16 shift\n",
        "- Embedding\n",
        "    - evaluate embedding\n",
        "    - run new embedding version on full asset data\n",
        "    - search an try alternatives\n",
        "        - add sin / cos signals\n",
        "- Check for other LR scheduler\n",
        "- Read for decoder necessety \n",
        "- Add normalization layer aftere Dens layers at model head\n",
        "\n",
        "- What are GARCH models? \n",
        "\n",
        "\n",
        "Paper:\n",
        "  - Multi-Transformer: A New Neural Network-Based Architecture\n",
        "for Forecasting S&P Volatility\n",
        "  - file:///tmp/mozilla_niggl0/mathematics-09-01794.pdf\n",
        "    - the input variables of the models proposed are the daily logarithmic returns (rt−i)\n",
        "  and the standard deviation of the last five daily logarithmic returns:\n",
        "    - In accordance with other studies such as [38] or [50], the realized volatility is used as\n",
        "  response variable for the models based on ANNs\n",
        "    - Positional encoding adapted compared to original papaer in order to make it independent of feature/timeseries used "
      ],
      "metadata": {
        "id": "IeHbanPQgdZ8"
      }
    },
    {
      "cell_type": "markdown",
      "source": [
        "## Kernel"
      ],
      "metadata": {
        "id": "bqI4QtfZgdaC"
      }
    },
    {
      "cell_type": "code",
      "source": [
        "!pip install datatable\n",
        "!pip install tensorflow-addons\n",
        "\n",
        "# memory footprint support libraries/code\n",
        "!ln -sf /opt/bin/nvidia-smi /usr/bin/nvidia-smi\n",
        "!pip install gputil\n",
        "!pip install psutil\n",
        "!pip install humanize\n",
        "import psutil\n",
        "import humanize\n",
        "import os\n",
        "import GPUtil as GPU\n",
        "GPUs = GPU.getGPUs()\n",
        "# XXX: only one GPU on Colab and isn’t guaranteed\n",
        "gpu = GPUs[0]\n",
        "def printm():\n",
        " process = psutil.Process(os.getpid())\n",
        " print(\"Gen RAM Free: \" + humanize.naturalsize( psutil.virtual_memory().available ), \" | Proc size: \" + humanize.naturalsize( process.memory_info().rss))\n",
        " print(\"GPU RAM Free: {0:.0f}MB | Used: {1:.0f}MB | Util {2:3.0f}% | Total {3:.0f}MB\".format(gpu.memoryFree, gpu.memoryUsed, gpu.memoryUtil*100, gpu.memoryTotal))\n",
        "printm() \n",
        "\n"
      ],
      "metadata": {
        "colab": {
          "base_uri": "https://localhost:8080/"
        },
        "id": "i5r1geHXmBGX",
        "outputId": "b6bb007b-cb9e-4c57-a662-e20df7c059f3"
      },
      "execution_count": 1,
      "outputs": [
        {
          "output_type": "stream",
          "name": "stdout",
          "text": [
            "Collecting datatable\n",
            "  Downloading datatable-1.0.0-cp37-cp37m-manylinux_2_12_x86_64.whl (96.9 MB)\n",
            "\u001b[K     |████████████████████████████████| 96.9 MB 107 kB/s \n",
            "\u001b[?25hInstalling collected packages: datatable\n",
            "Successfully installed datatable-1.0.0\n",
            "Collecting tensorflow-addons\n",
            "  Downloading tensorflow_addons-0.16.1-cp37-cp37m-manylinux_2_12_x86_64.manylinux2010_x86_64.whl (1.1 MB)\n",
            "\u001b[K     |████████████████████████████████| 1.1 MB 5.0 MB/s \n",
            "\u001b[?25hRequirement already satisfied: typeguard>=2.7 in /usr/local/lib/python3.7/dist-packages (from tensorflow-addons) (2.7.1)\n",
            "Installing collected packages: tensorflow-addons\n",
            "Successfully installed tensorflow-addons-0.16.1\n",
            "Collecting gputil\n",
            "  Downloading GPUtil-1.4.0.tar.gz (5.5 kB)\n",
            "Building wheels for collected packages: gputil\n",
            "  Building wheel for gputil (setup.py) ... \u001b[?25l\u001b[?25hdone\n",
            "  Created wheel for gputil: filename=GPUtil-1.4.0-py3-none-any.whl size=7411 sha256=9799a25ac21f12d98d7e6268e001fd522ecdec402419615a74a2ee36df99dbd5\n",
            "  Stored in directory: /root/.cache/pip/wheels/6e/f8/83/534c52482d6da64622ddbf72cd93c35d2ef2881b78fd08ff0c\n",
            "Successfully built gputil\n",
            "Installing collected packages: gputil\n",
            "Successfully installed gputil-1.4.0\n",
            "Requirement already satisfied: psutil in /usr/local/lib/python3.7/dist-packages (5.4.8)\n",
            "Requirement already satisfied: humanize in /usr/local/lib/python3.7/dist-packages (0.5.1)\n",
            "Gen RAM Free: 11.6 GB  | Proc size: 146.6 MB\n",
            "GPU RAM Free: 15109MB | Used: 0MB | Util   0% | Total 15109MB\n"
          ]
        }
      ]
    },
    {
      "cell_type": "code",
      "source": [
        "# Only if necessary to kill the session again\n",
        "\n",
        "# !kill -9 -1\n"
      ],
      "metadata": {
        "id": "Rgjhemutvhtc"
      },
      "execution_count": 4,
      "outputs": []
    },
    {
      "cell_type": "code",
      "source": [
        "# %load_ext google.colab.data_table#To diable the display\n",
        "# %unload_ext google.colab.data_table"
      ],
      "metadata": {
        "_kg_hide-input": true,
        "_kg_hide-output": true,
        "papermill": {
          "duration": 0.072966,
          "end_time": "2021-11-29T18:05:23.845682",
          "exception": false,
          "start_time": "2021-11-29T18:05:23.772716",
          "status": "completed"
        },
        "tags": [],
        "execution": {
          "iopub.status.busy": "2022-02-17T00:37:26.676103Z",
          "iopub.execute_input": "2022-02-17T00:37:26.676697Z",
          "iopub.status.idle": "2022-02-17T00:37:26.700579Z",
          "shell.execute_reply.started": "2022-02-17T00:37:26.676605Z",
          "shell.execute_reply": "2022-02-17T00:37:26.69995Z"
        },
        "trusted": true,
        "id": "V7tOVJGxgdaF"
      },
      "execution_count": 5,
      "outputs": []
    },
    {
      "cell_type": "code",
      "source": [
        "import os\n",
        "import gc\n",
        "import datatable as dt\n",
        "import traceback\n",
        "import pdb\n",
        "import numpy as np\n",
        "import pandas as pd\n",
        "import seaborn as sns\n",
        "from IPython.core.display import display, HTML, Javascript\n",
        "\n",
        "import tensorflow as tf\n",
        "import tensorflow_probability as tfp\n",
        "import tensorflow.keras.backend as K\n",
        "from tensorflow import keras\n",
        "from tensorflow.keras import layers\n",
        "from tensorflow.keras.preprocessing.sequence import TimeseriesGenerator\n",
        "from tensorflow_addons.layers import MultiHeadAttention\n",
        "\n",
        "import matplotlib.pyplot as plt\n",
        "import pandas as pd, numpy as np\n",
        "from functools import partial\n",
        "from scipy.stats import pearsonr\n",
        "from sklearn.metrics import r2_score\n",
        "\n",
        "from sklearn.model_selection import KFold\n",
        "from sklearn.metrics import mean_squared_error\n",
        "from sklearn.preprocessing import RobustScaler, MinMaxScaler\n",
        "from sklearn.metrics import mean_absolute_error as mae\n",
        "\n",
        "pd.set_option('display.max_columns', None)\n",
        "\n",
        "from google.colab import drive\n",
        "drive.mount('/content/gdrive')\n",
        "\n",
        "%cd /content/gdrive/MyDrive/Github/GResearch/\n",
        "# if not os.path.exists(\"../input/g-research-crypto-forecasting/\"): os.chdir('/t/Datasets/kaggle_crypto/internal')"
      ],
      "metadata": {
        "papermill": {
          "duration": 9.261664,
          "end_time": "2021-11-29T18:05:34.914352",
          "exception": false,
          "start_time": "2021-11-29T18:05:25.652688",
          "status": "completed"
        },
        "tags": [],
        "execution": {
          "iopub.status.busy": "2022-02-17T00:37:27.449865Z",
          "iopub.execute_input": "2022-02-17T00:37:27.450127Z",
          "iopub.status.idle": "2022-02-17T00:37:34.411247Z",
          "shell.execute_reply.started": "2022-02-17T00:37:27.450097Z",
          "shell.execute_reply": "2022-02-17T00:37:34.410533Z"
        },
        "trusted": true,
        "colab": {
          "base_uri": "https://localhost:8080/",
          "height": 52
        },
        "id": "fUeURtRcgdaH",
        "outputId": "77fb2055-15e2-4d0f-b343-7f95418039e5"
      },
      "execution_count": 2,
      "outputs": [
        {
          "output_type": "display_data",
          "data": {
            "text/html": [
              "<style type='text/css'>\n",
              ".datatable table.frame { margin-bottom: 0; }\n",
              ".datatable table.frame thead { border-bottom: none; }\n",
              ".datatable table.frame tr.coltypes td {  color: #FFFFFF;  line-height: 6px;  padding: 0 0.5em;}\n",
              ".datatable .bool    { background: #DDDD99; }\n",
              ".datatable .object  { background: #565656; }\n",
              ".datatable .int     { background: #5D9E5D; }\n",
              ".datatable .float   { background: #4040CC; }\n",
              ".datatable .str     { background: #CC4040; }\n",
              ".datatable .time    { background: #40CC40; }\n",
              ".datatable .row_index {  background: var(--jp-border-color3);  border-right: 1px solid var(--jp-border-color0);  color: var(--jp-ui-font-color3);  font-size: 9px;}\n",
              ".datatable .frame tbody td { text-align: left; }\n",
              ".datatable .frame tr.coltypes .row_index {  background: var(--jp-border-color0);}\n",
              ".datatable th:nth-child(2) { padding-left: 12px; }\n",
              ".datatable .hellipsis {  color: var(--jp-cell-editor-border-color);}\n",
              ".datatable .vellipsis {  background: var(--jp-layout-color0);  color: var(--jp-cell-editor-border-color);}\n",
              ".datatable .na {  color: var(--jp-cell-editor-border-color);  font-size: 80%;}\n",
              ".datatable .sp {  opacity: 0.25;}\n",
              ".datatable .footer { font-size: 9px; }\n",
              ".datatable .frame_dimensions {  background: var(--jp-border-color3);  border-top: 1px solid var(--jp-border-color0);  color: var(--jp-ui-font-color3);  display: inline-block;  opacity: 0.6;  padding: 1px 10px 1px 5px;}\n",
              "</style>\n"
            ],
            "text/plain": [
              "<IPython.core.display.HTML object>"
            ]
          },
          "metadata": {}
        },
        {
          "output_type": "stream",
          "name": "stdout",
          "text": [
            "Mounted at /content/gdrive\n",
            "/content/gdrive/MyDrive/Github/GResearch\n"
          ]
        }
      ]
    },
    {
      "cell_type": "code",
      "source": [
        "DEVICE = \"GPU\" #or \"TPU\"\n",
        "\n",
        "SEED = 42\n",
        "\n",
        "# LOAD STRICT? YES=1 NO=0 | see: https://www.kaggle.com/julian3833/proposal-for-a-meaningful-lb-strict-lgbm\n",
        "LOAD_STRICT = True\n",
        "\n",
        "# WHICH YEARS TO INCLUDE? YES=1 NO=0\n",
        "INC2021 = 0\n",
        "INC2020 = 0\n",
        "INC2019 = 0\n",
        "INC2018 = 0\n",
        "INC2017 = 0\n",
        "INCCOMP = 1\n",
        "INCSUPP = 0\n",
        "\n",
        "# TRAINING PARAMETERS\n",
        "DEBUG = True\n",
        "SINGLE_ASSET = True\n",
        "asset_id=3\n",
        "N_ASSETS = 14\n",
        "num_shift = 15\n",
        "num_debug_samples = 2000000\n",
        "TEMP_EMBEDDING = False\n",
        "TIME2VEC_DIM=3\n",
        "WINDOW_SIZE = 16\n",
        "prediction_length = 1\n",
        "BATCH_SIZE = 128\n",
        "PCT_VALIDATION = 10 # last 10% of the data are used as validation set\n",
        "PCT_TEST = 10 # last 10% of the data are used as validation set"
      ],
      "metadata": {
        "papermill": {
          "duration": 0.050546,
          "end_time": "2021-11-29T18:05:35.179716",
          "exception": false,
          "start_time": "2021-11-29T18:05:35.12917",
          "status": "completed"
        },
        "tags": [],
        "execution": {
          "iopub.status.busy": "2022-02-17T00:37:34.412864Z",
          "iopub.execute_input": "2022-02-17T00:37:34.413166Z",
          "iopub.status.idle": "2022-02-17T00:37:34.422577Z",
          "shell.execute_reply.started": "2022-02-17T00:37:34.413132Z",
          "shell.execute_reply": "2022-02-17T00:37:34.421333Z"
        },
        "trusted": true,
        "id": "qQD2DffPgdaK"
      },
      "execution_count": 3,
      "outputs": []
    },
    {
      "cell_type": "code",
      "source": [
        "if DEVICE == \"TPU\":\n",
        "    print(\"connecting to TPU...\")\n",
        "    try:\n",
        "        tpu = tf.distribute.cluster_resolver.TPUClusterResolver()\n",
        "        print('Running on TPU ', tpu.master())\n",
        "    except ValueError:\n",
        "        tpu = None\n",
        "    if tpu:\n",
        "        try:\n",
        "            print(\"initializing  TPU ...\")\n",
        "            tf.config.experimental_connect_to_cluster(tpu)\n",
        "            tf.tpu.experimental.initialize_tpu_system(tpu)\n",
        "            strategy = tf.distribute.experimental.TPUStrategy(tpu)\n",
        "            print(\"TPU initialized\")\n",
        "        except: print(\"failed to initialize TPU\")\n",
        "    else: DEVICE = \"GPU\"\n",
        "\n",
        "if DEVICE != \"TPU\": strategy = tf.distribute.get_strategy()\n",
        "if DEVICE == \"GPU\": print(\"Num GPUs Available: \", len(tf.config.experimental.list_physical_devices('GPU')))\n",
        "AUTO     = tf.data.experimental.AUTOTUNE\n",
        "REPLICAS = strategy.num_replicas_in_sync"
      ],
      "metadata": {
        "_kg_hide-input": true,
        "papermill": {
          "duration": 0.069363,
          "end_time": "2021-11-29T18:05:35.290484",
          "exception": false,
          "start_time": "2021-11-29T18:05:35.221121",
          "status": "completed"
        },
        "tags": [],
        "execution": {
          "iopub.status.busy": "2022-02-17T00:37:34.424968Z",
          "iopub.execute_input": "2022-02-17T00:37:34.425933Z",
          "iopub.status.idle": "2022-02-17T00:37:34.593804Z",
          "shell.execute_reply.started": "2022-02-17T00:37:34.425866Z",
          "shell.execute_reply": "2022-02-17T00:37:34.593104Z"
        },
        "trusted": true,
        "colab": {
          "base_uri": "https://localhost:8080/"
        },
        "id": "cgeI6XZUgdaM",
        "outputId": "a6e25bec-0d79-4ac7-89db-2968400532b9"
      },
      "execution_count": 4,
      "outputs": [
        {
          "output_type": "stream",
          "name": "stdout",
          "text": [
            "Num GPUs Available:  1\n"
          ]
        }
      ]
    },
    {
      "cell_type": "code",
      "source": [
        "def compute_target(df):\n",
        "    \"\"\"\n",
        "    \n",
        "    \"\"\"\n",
        "    R=list()\n",
        "    c=list(df['Close'])\n",
        "    for i in range(df.shape[0]):\n",
        "        future=c[min([i+16,df.shape[0]-1])]\n",
        "        past=c[min([i+1,df.shape[0]-1])]\n",
        "        R.append(future/past)\n",
        "    df['R']=R\n",
        "    df['R']=np.log(df['R'])\n",
        "    df['pred']=np.exp(df['R'])-1\n",
        "    return df\n",
        "\n",
        "\n",
        "# we will use weighted correlation as function to evaluate our model performance\n",
        "# https://stackoverflow.com/questions/38641691/weighted-correlation-coefficient-with-pandas\n",
        "def wmean(x, w):\n",
        "    return np.sum(x * w) / np.sum(w)\n",
        "\n",
        "def wcov(x, y, w):\n",
        "    return np.sum(w * (x - wmean(x, w)) * (y - wmean(y, w))) / np.sum(w)\n",
        "\n",
        "def wcorr(x, y, w):\n",
        "    return wcov(x, y, w) / np.sqrt(wcov(x, x, w) * wcov(y, y, w))\n",
        "\n",
        "def wcorr(x, y, w=1):\n",
        "    return wcov(x, y, w) / np.sqrt(wcov(x, x, w) * wcov(y, y, w))\n",
        "\n",
        "\n",
        "\n",
        "\n",
        "\n",
        "def corr_loss(y_true, y_pred):\n",
        "    x = tf.cast(y_true, tf.float32)\n",
        "    y = tf.cast(y_pred, tf.float32)\n",
        "    mx = K.mean(x)\n",
        "    my = K.mean(y)\n",
        "    xm, ym = x-mx, y-my\n",
        "    r_num = K.sum(tf.multiply(xm,ym))\n",
        "    r_den = K.sqrt(tf.multiply(K.sum(K.square(xm)), K.sum(K.square(ym))))\n",
        "    r = r_num / r_den\n",
        "    r = K.maximum(K.minimum(r, 1.0), -1.0)\n",
        "    return - r\n",
        "\n",
        "def combined_loss(y_true, y_pred, weight1=0.5, weight2=None):\n",
        "    if not weight2:\n",
        "        weight2 = 1 - weight1\n",
        "    loss1 = corr_loss(y_true, y_pred)\n",
        "    mae_loss_ = tf.keras.losses.MeanAbsoluteError()\n",
        "    loss2 = mae_loss_(y_true, y_pred)\n",
        "    return loss1*weight1 + loss2*weight2\n",
        "\n",
        "\n",
        "def competition_weighted_correlation(a, b, weights=1):\n",
        "\n",
        "    #w = np.ravel(weights)\n",
        "    #a = np.ravel(a)\n",
        "    #b = np.ravel(b)\n",
        "    a = tf.cast(a, dtype=tf.float32)\n",
        "    b = tf.cast(b, dtype=tf.float32)\n",
        "    \n",
        "    len_a = tf.cast(tf.size(a), dtype=tf.float32)\n",
        "    len_b = tf.cast(tf.size(b), dtype=tf.float32)\n",
        "    #sum_w = tf.reduce_sum(w)\n",
        "    mean_a = tf.cast(tf.math.reduce_mean(a), dtype=tf.float32)\n",
        "    mean_b = tf.cast(tf.math.reduce_mean(b), dtype=tf.float32)\n",
        "    var_a = tf.cast(tf.math.reduce_sum(tf.math.square(a - mean_a)) / len_a, dtype=tf.float32)\n",
        "    var_b = tf.cast(tf.math.reduce_sum(tf.math.square(b - mean_b)) / len_b, dtype=tf.float32)\n",
        "\n",
        "    cov = tf.math.reduce_sum((a * b)) / len_a - (mean_a * mean_b)\n",
        "    corr = cov / tf.math.sqrt(var_a * var_b)\n",
        "\n",
        "    return corr"
      ],
      "metadata": {
        "execution": {
          "iopub.status.busy": "2022-02-17T00:37:34.597079Z",
          "iopub.execute_input": "2022-02-17T00:37:34.597276Z",
          "iopub.status.idle": "2022-02-17T00:37:34.61722Z",
          "shell.execute_reply.started": "2022-02-17T00:37:34.59725Z",
          "shell.execute_reply": "2022-02-17T00:37:34.616206Z"
        },
        "trusted": true,
        "id": "LqMReNYPgdaO"
      },
      "execution_count": 5,
      "outputs": []
    },
    {
      "cell_type": "code",
      "source": [
        "extra_data_files = {0: '', \n",
        "                    2: '', \n",
        "                    1: '', \n",
        "                    3: '', \n",
        "                    4: '', \n",
        "                    5: '', \n",
        "                    6: '', \n",
        "                    7: '', \n",
        "                    8: '', \n",
        "                    9: '', \n",
        "                    11:'', \n",
        "                    10:'', \n",
        "                    12:'', \n",
        "                    13:''}\n",
        "\n",
        "# Uncomment to load the original csv [slower]\n",
        "# orig_df_train = pd.read_csv(data_path + 'train.csv') \n",
        "# supp_df_train = pd.read_csv(data_path + 'supplemental_train.csv')\n",
        "# df_asset_details = pd.read_csv(data_path  + 'asset_details.csv').sort_values(\"Asset_ID\")\n",
        "\n",
        "orig_df_train = dt.fread('orig_train.jay').to_pandas()\n",
        "df_asset_details = dt.fread('orig_asset_details.jay').to_pandas()\n",
        "supp_df_train = dt.fread('orig_supplemental_train.jay').to_pandas()\n",
        "assets_details = dt.fread('orig_asset_details.jay').to_pandas()\n",
        "asset_weight_dict = {assets_details['Asset_ID'].tolist()[idx]: assets_details['Weight'].tolist()[idx] for idx in range(len(assets_details))}\n",
        "asset_name_dict = {assets_details['Asset_ID'].tolist()[idx]: assets_details['Asset_Name'].tolist()[idx] for idx in range(len(assets_details))}\n",
        "\n",
        "def load_training_data_for_asset(asset_id, load_jay = True):\n",
        "    dfs = []\n",
        "    if INCCOMP: dfs.append(orig_df_train[orig_df_train[\"Asset_ID\"] == asset_id].copy())\n",
        "    if INCSUPP: dfs.append(supp_df_train[supp_df_train[\"Asset_ID\"] == asset_id].copy())\n",
        "    \n",
        "    if load_jay:\n",
        "        if INC2017 and os.path.exists(extra_data_files[asset_id] + '/full_data__' + str(asset_id) + '__' + str(2017) + '.csv'): dfs.append(dt.fread(extra_data_files[asset_id] + '/full_data__' + str(asset_id) + '__' + str(2017) + '.jay').to_pandas())\n",
        "        if INC2018 and os.path.exists(extra_data_files[asset_id] + '/full_data__' + str(asset_id) + '__' + str(2018) + '.csv'): dfs.append(dt.fread(extra_data_files[asset_id] + '/full_data__' + str(asset_id) + '__' + str(2018) + '.jay').to_pandas())\n",
        "        if INC2019 and os.path.exists(extra_data_files[asset_id] + '/full_data__' + str(asset_id) + '__' + str(2019) + '.csv'): dfs.append(dt.fread(extra_data_files[asset_id] + '/full_data__' + str(asset_id) + '__' + str(2019) + '.jay').to_pandas())\n",
        "        if INC2020 and os.path.exists(extra_data_files[asset_id] + '/full_data__' + str(asset_id) + '__' + str(2020) + '.csv'): dfs.append(dt.fread(extra_data_files[asset_id] + '/full_data__' + str(asset_id) + '__' + str(2020) + '.jay').to_pandas())\n",
        "        if INC2021 and os.path.exists(extra_data_files[asset_id] + '/full_data__' + str(asset_id) + '__' + str(2021) + '.csv'): dfs.append(dt.fread(extra_data_files[asset_id] + '/full_data__' + str(asset_id) + '__' + str(2021) + '.jay').to_pandas())\n",
        "    else: \n",
        "        if INC2017 and os.path.exists(extra_data_files[asset_id] + '/full_data__' + str(asset_id) + '__' + str(2017) + '.csv'): dfs.append(pd.read_csv(extra_data_files[asset_id] + '/full_data__' + str(asset_id) + '__' + str(2017) + '.csv'))\n",
        "        if INC2018 and os.path.exists(extra_data_files[asset_id] + '/full_data__' + str(asset_id) + '__' + str(2018) + '.csv'): dfs.append(pd.read_csv(extra_data_files[asset_id] + '/full_data__' + str(asset_id) + '__' + str(2018) + '.csv'))\n",
        "        if INC2019 and os.path.exists(extra_data_files[asset_id] + '/full_data__' + str(asset_id) + '__' + str(2019) + '.csv'): dfs.append(pd.read_csv(extra_data_files[asset_id] + '/full_data__' + str(asset_id) + '__' + str(2019) + '.csv'))\n",
        "        if INC2020 and os.path.exists(extra_data_files[asset_id] + '/full_data__' + str(asset_id) + '__' + str(2020) + '.csv'): dfs.append(pd.read_csv(extra_data_files[asset_id] + '/full_data__' + str(asset_id) + '__' + str(2020) + '.csv'))\n",
        "        if INC2021 and os.path.exists(extra_data_files[asset_id] + '/full_data__' + str(asset_id) + '__' + str(2021) + '.csv'): dfs.append(pd.read_csv(extra_data_files[asset_id] + '/full_data__' + str(asset_id) + '__' + str(2021) + '.csv'))\n",
        "    df = pd.concat(dfs, axis = 0) if len(dfs) > 1 else dfs[0]\n",
        "    df['date'] = pd.to_datetime(df['timestamp'], unit = 's')\n",
        "    if LOAD_STRICT: df = df.loc[df['date'] < \"2021-06-13 00:00:00\"]    \n",
        "    df = df.sort_values('date')\n",
        "    return df\n",
        "\n",
        "def load_data_for_all_assets():\n",
        "    dfs = []\n",
        "    for asset_id in list(extra_data_files.keys()): dfs.append(load_training_data_for_asset(asset_id))\n",
        "    return pd.concat(dfs)"
      ],
      "metadata": {
        "_kg_hide-input": true,
        "papermill": {
          "duration": 24.69094,
          "end_time": "2021-11-29T18:06:00.13746",
          "exception": false,
          "start_time": "2021-11-29T18:05:35.44652",
          "status": "completed"
        },
        "tags": [],
        "execution": {
          "iopub.status.busy": "2022-02-17T00:37:34.619083Z",
          "iopub.execute_input": "2022-02-17T00:37:34.61937Z",
          "iopub.status.idle": "2022-02-17T00:37:57.756015Z",
          "shell.execute_reply.started": "2022-02-17T00:37:34.619333Z",
          "shell.execute_reply": "2022-02-17T00:37:57.755291Z"
        },
        "trusted": true,
        "id": "n8CHJ_6MgdaQ"
      },
      "execution_count": 6,
      "outputs": []
    },
    {
      "cell_type": "code",
      "source": [
        "test = dt.fread('orig_example_test.jay').to_pandas()\n",
        "sample_prediction_df = dt.fread('orig_example_sample_submission.jay').to_pandas()\n",
        "assets = dt.fread('orig_asset_details.jay').to_pandas()\n",
        "assets_order = dt.fread('orig_supplemental_train.jay').to_pandas().Asset_ID[:N_ASSETS]\n",
        "\n",
        "assets_order = dict((t,i) for i,t in enumerate(assets_order))\n",
        "print(\"Loaded all data!\")"
      ],
      "metadata": {
        "execution": {
          "iopub.status.busy": "2022-02-17T00:37:57.758407Z",
          "iopub.execute_input": "2022-02-17T00:37:57.758916Z",
          "iopub.status.idle": "2022-02-17T00:37:57.865418Z",
          "shell.execute_reply.started": "2022-02-17T00:37:57.758876Z",
          "shell.execute_reply": "2022-02-17T00:37:57.864602Z"
        },
        "trusted": true,
        "colab": {
          "base_uri": "https://localhost:8080/"
        },
        "id": "ZFd-WzivgdaT",
        "outputId": "14d07312-a763-4f38-8401-4919eeb3a397"
      },
      "execution_count": 7,
      "outputs": [
        {
          "output_type": "stream",
          "name": "stdout",
          "text": [
            "Loaded all data!\n"
          ]
        }
      ]
    },
    {
      "cell_type": "code",
      "source": [
        "# Memory saving function credit to https://www.kaggle.com/gemartin/load-data-reduce-memory-usage\n",
        "def reduce_mem_usage(df):\n",
        "    \"\"\" iterate through all the columns of a dataframe and modify the data type\n",
        "        to reduce memory usage.\n",
        "    \"\"\"\n",
        "    start_mem = df.memory_usage().sum() / 1024**2\n",
        "    print('Memory usage of dataframe is {:.2f} MB'.format(start_mem))\n",
        "\n",
        "    for col in df.columns:\n",
        "        col_type = df[col].dtype.name\n",
        "        \n",
        "        if col_type not in ['object', 'category', 'datetime64[ns, UTC]', 'datetime64[ns]']:\n",
        "            c_min = df[col].min()\n",
        "            c_max = df[col].max()\n",
        "            if str(col_type)[:3] == 'int':\n",
        "                if c_min > np.iinfo(np.int8).min and c_max < np.iinfo(np.int8).max:\n",
        "                    df[col] = df[col].astype(np.int16)\n",
        "                elif c_min > np.iinfo(np.int16).min and c_max < np.iinfo(np.int16).max:\n",
        "                    df[col] = df[col].astype(np.int16)\n",
        "                elif c_min > np.iinfo(np.int32).min and c_max < np.iinfo(np.int32).max:\n",
        "                    df[col] = df[col].astype(np.int32)\n",
        "                elif c_min > np.iinfo(np.int64).min and c_max < np.iinfo(np.int64).max:\n",
        "                    df[col] = df[col].astype(np.int64)  \n",
        "            else:\n",
        "                if c_min > np.finfo(np.float16).min and c_max < np.finfo(np.float16).max:\n",
        "                    df[col] = df[col].astype(np.float16)\n",
        "                elif c_min > np.finfo(np.float32).min and c_max < np.finfo(np.float32).max:\n",
        "                    df[col] = df[col].astype(np.float32)\n",
        "                else:\n",
        "                    df[col] = df[col].astype(np.float64)\n",
        "\n",
        "    end_mem = df.memory_usage().sum() / 1024**2\n",
        "    print('Memory usage after optimization is: {:.2f} MB'.format(end_mem))\n",
        "    print('Decreased by {:.1f}%'.format(100 * (start_mem - end_mem) / start_mem))\n",
        "\n",
        "    return df\n"
      ],
      "metadata": {
        "_kg_hide-input": true,
        "_kg_hide-output": true,
        "papermill": {
          "duration": 0.054816,
          "end_time": "2021-11-29T18:06:17.597492",
          "exception": false,
          "start_time": "2021-11-29T18:06:17.542676",
          "status": "completed"
        },
        "tags": [],
        "execution": {
          "iopub.status.busy": "2022-02-17T00:38:08.068529Z",
          "iopub.execute_input": "2022-02-17T00:38:08.069014Z",
          "iopub.status.idle": "2022-02-17T00:38:08.083878Z",
          "shell.execute_reply.started": "2022-02-17T00:38:08.068972Z",
          "shell.execute_reply": "2022-02-17T00:38:08.08305Z"
        },
        "trusted": true,
        "id": "n1itrPqGgdaW"
      },
      "execution_count": 8,
      "outputs": []
    },
    {
      "cell_type": "code",
      "source": [
        ""
      ],
      "metadata": {
        "id": "lmMrk6vqGrmW"
      },
      "execution_count": 8,
      "outputs": []
    },
    {
      "cell_type": "code",
      "source": [
        "\n",
        "\n",
        "def get_time_features(df, row=False):  # TODO: can this be used as an alternative to temporal embeddings ?\n",
        "    if not row:\n",
        "        df = df.reset_index()\n",
        "        timestamp = df[\"timestamp\"].map(timestamp_to_date)\n",
        "        df[\"sin_month\"] = (np.sin(2 * np.pi * timestamp.dt.month/12))\n",
        "        df[\"cos_month\"] = (np.cos(2 * np.pi * timestamp.dt.month/12))\n",
        "        df[\"sin_day\"] = (np.sin(2 * np.pi * timestamp.dt.day/31))\n",
        "        df[\"cos_day\"] = (np.cos(2 * np.pi * timestamp.dt.day/31))\n",
        "        df[\"sin_hour\"] = (np.sin(2 * np.pi * timestamp.dt.hour/24))\n",
        "        df[\"cos_hour\"] = (np.cos(2 * np.pi * timestamp.dt.hour/24))\n",
        "        df[\"sin_minute\"] = (np.sin(2 * np.pi * timestamp.dt.minute/60))\n",
        "        df[\"cos_minute\"] = (np.cos(2 * np.pi * timestamp.dt.minute/60))\n",
        "        df = df.set_index(\"timestamp\")\n",
        "    return df\n",
        "\n",
        "\n",
        "def upper_shadow(df): return df['High'] - np.maximum(df['Close'], df['Open'])\n",
        "def lower_shadow(df): return np.minimum(df['Close'], df['Open']) - df['Low']\n",
        "\n",
        "# calculate z-score\n",
        "def zscore(x, window):\n",
        "    r = x.rolling(window=window, min_periods = 1)\n",
        "    m = r.mean()\n",
        "    s = r.std(ddof=0)\n",
        "    z = (x-m)/s\n",
        "    return z\n",
        "def upper_shadow_15(df): return df['High'].rolling(window=15, min_periods=1).max() - np.maximum(df['Close'], df['Open']).shift(15)\n",
        "def lower_shadow_15(df): return np.minimum(df['Close'], df['Open']).shift(15) - df['Low'].rolling(window=15, min_periods=1).min()\n",
        "\n",
        "\n",
        "def get_features(df, row = False):\n",
        "    df_feat = df\n",
        "    df_feat['spread'] = df_feat['High'] - df_feat['Low']\n",
        "    df_feat['mean_trade'] = df_feat['Volume']/df_feat['Count']\n",
        "    df_feat['log_price_change'] = np.log(df_feat['Close']/df_feat['Open'])\n",
        "    df_feat['upper_Shadow'] = upper_shadow(df_feat)\n",
        "    df_feat['lower_Shadow'] = lower_shadow(df_feat)\n",
        "    df_feat[\"high_div_low\"] = df_feat[\"High\"] / df_feat[\"Low\"]\n",
        "    df_feat['UPS'] = (df_feat['High'] - np.maximum(df_feat['Close'], df_feat['Open']))\n",
        "    df_feat['LOS'] = (np.minimum(df_feat['Close'], df_feat['Open']) - df_feat['Low'])\n",
        "    df_feat['LOGVOL'] = np.log(1. + df_feat['Volume'])\n",
        "    df_feat['LOGCNT'] = np.log(1. + df_feat['Count'])\n",
        "    return df_feat\n",
        "\n",
        "\n",
        "# A utility function to build features around lags.\n",
        "def get_features_hist(df_feat, row=False):\n",
        "    \n",
        "    ### features to consider. See potential features...\n",
        "    ### note that we predicting returns 15 minutes ahead. This minutes price data is therefore not sufficient. We must roll the variables, 15, 30, 90, 250, 1250\n",
        "       \n",
        "    # df_feat = df[['Open', 'High', 'Low', 'Close', 'Volume', 'Count', 'VWAP', 'lr15', 'm', 'lr16', 'Asset_ID']].copy()\n",
        "\n",
        "    if df_feat.shape[0]<3750:\n",
        "        df_feat['beta_num'] = np.nan\n",
        "        df_feat['m2'] = np.nan\n",
        "    else:\n",
        "        df_feat['beta_num'] = (df_feat['lr15']*df_feat['m']).rolling(3750).mean().values\n",
        "        df_feat['m2'] = (df_feat['m']*df_feat['m']).rolling(3750).mean().values\n",
        "        \n",
        "    if row:\n",
        "        # first .iloc as far back as we need, compute feature, then downsize until .iloc[-1]\n",
        "        df_feat = df_feat.iloc[-1]\n",
        "#         mean_price = df_feat[['Open', 'High', 'Low', 'Close']].mean()\n",
        "#         med_price = df_feat[['Open', 'High', 'Low', 'Close']].median()\n",
        "        df_feat['upper_shadow'] = df_feat['High'] / df_feat[['Close', 'Open']].max()\n",
        "        df_feat['lower_shadow'] = df_feat[['Close', 'Open']].min() / df_feat['Low']\n",
        "    else:\n",
        "#         mean_price = df_feat[['Open', 'High', 'Low', 'Close']].mean(axis=1)\n",
        "#         med_price = df_feat[['Open', 'High', 'Low', 'Close']].median(axis=1)\n",
        "        df_feat['upper_shadow'] = df_feat['High'] / df_feat[['Close', 'Open']].max(axis=1)\n",
        "        df_feat['lower_shadow'] = df_feat[['Close', 'Open']].min(axis=1) / df_feat['Low']\n",
        "        # df_feat = df_feat.drop('Asset_ID', axis=1)\n",
        "        \n",
        "    df_feat['beta'] = np.nan_to_num(df_feat['beta_num'] / df_feat['m2'], nan=0., posinf=0., neginf=0.)\n",
        "    df_feat['target_lag'] = df_feat['lr15'] - df_feat['beta']*df_feat['m']  # first 15 entries of target_lagg are NaN\n",
        "\n",
        "        ### Sense checks\n",
        "#         print((df_feat['Target'] - df_feat.groupby('Asset_ID')['target_lag'].shift(-16)).abs().mean())\n",
        "#         print(df_feat.loc[(df_feat.Target.isnull())&(df_feat.target_lag.notnull())].shape)\n",
        "#         print(df_feat.loc[(df_feat.Target.notnull())&(df_feat.target_lag.isnull())].shape)        \n",
        "        \n",
        "    df_feat['open2close'] = df_feat['Close'] / df_feat['Open']\n",
        "    df_feat['high2low'] = df_feat['High'] / df_feat['Low']\n",
        "           \n",
        "#     df_feat['high2mean'] = df_feat['High'] / mean_price\n",
        "#     df_feat['low2mean'] = df_feat['Low'] / mean_price\n",
        "#     df_feat['high2median'] = df_feat['High'] / med_price\n",
        "#     df_feat['low2median'] = df_feat['Low'] / med_price\n",
        "    df_feat['volume2count'] = df_feat['Volume'] / (df_feat['Count'] + 1)\n",
        "    df_feat['close2vwap'] = df_feat['Close'] / df_feat['VWAP']\n",
        "    \n",
        "\n",
        "    # https://www.kaggle.com/rafalradwanski/g-research-features-to-increase-your-score\n",
        "    df_feat['zscore_15_Close'] = zscore(df_feat['Close'], 15)\n",
        "    df_feat['zscore_lower_shadow_15'] = zscore(lower_shadow_15(df_feat), 1440*30*12)\n",
        "    df_feat['zscore_upper_shadow_15'] = zscore(upper_shadow_15(df_feat), 1440*30*12)\n",
        "    df_feat['Volume_change_15'] = (df_feat['Volume'] / df_feat['Volume'].shift(15)) - 1\n",
        "    df_feat['Volume_change_60'] = (df_feat['Volume'] / df_feat['Volume'].shift(60)) - 1\n",
        "    df_feat['Return_15'] = (df_feat['Close'] / df_feat['Close'].shift(15)) - 1\n",
        "    df_feat['Return_1h'] = (df_feat['Close'] / df_feat['Close'].shift(60)) - 1\n",
        "    df_feat['Return_1d'] = (df_feat['Close'] / df_feat['Close'].shift(60*24)) - 1\n",
        "    df_feat['Return_1w'] = (df_feat['Close'] / df_feat['Close'].shift(60*24*7)) - 1\n",
        "    #df_feat['Candle_body_%'] = (df_feat['Close'] / df_feat['Open']) - 1\n",
        "    df_feat['ATR_15'] = ((df_feat['High'].rolling(window=15, min_periods=1).max())/ (df_feat['Low'].rolling(window=15, min_periods=1).min()) - 1)\n",
        "    df_feat['ATR_1h'] = ((df_feat['High'].rolling(window=60, min_periods=1).max())/ (df_feat['Low'].rolling(window=60, min_periods=1).min()) - 1)\n",
        "    df_feat['ATR_1d'] = ((df_feat['High'].rolling(window=60*24, min_periods=1).max())/ (df_feat['Low'].rolling(window=60*24, min_periods=1).min()) - 1)\n",
        "    df_feat['Z-score_return15_60'] = zscore(df_feat['Return_15'], 60)\n",
        "\n",
        "    df_feat = df_feat.fillna(0)\n",
        "    df_feat = df_feat.replace([np.inf, -np.inf], value=0)\n",
        "\n",
        "    return df_feat\n",
        "\n",
        "def log_return(series, periods=1):\n",
        "    return np.log(series).diff(periods=periods)\n",
        "\n",
        "def timestamp_to_date(timestamp):\n",
        "    return(datetime.fromtimestamp(timestamp))\n",
        "\n",
        "def get_lead_features():\n",
        "    # get_features from ethereum\n",
        "    pass\n",
        "\n"
      ],
      "metadata": {
        "papermill": {
          "duration": 37.064504,
          "end_time": "2021-11-29T18:06:54.699951",
          "exception": false,
          "start_time": "2021-11-29T18:06:17.635447",
          "status": "completed"
        },
        "tags": [],
        "execution": {
          "iopub.status.busy": "2022-02-17T00:38:08.085233Z",
          "iopub.execute_input": "2022-02-17T00:38:08.085625Z",
          "iopub.status.idle": "2022-02-17T00:38:08.113078Z",
          "shell.execute_reply.started": "2022-02-17T00:38:08.085585Z",
          "shell.execute_reply": "2022-02-17T00:38:08.112226Z"
        },
        "trusted": true,
        "id": "nRgybcglgdaX"
      },
      "execution_count": 9,
      "outputs": []
    },
    {
      "cell_type": "code",
      "source": [
        "train = load_data_for_all_assets().sort_values('timestamp').set_index(\"timestamp\")\n",
        "if DEBUG: \n",
        "    train = train[int(-1*num_debug_samples):]  # [-2221694:]  #\n",
        "else:\n",
        "    train = train[1000000:]\n",
        "print(train.shape)\n",
        "\n",
        "## FILTER DATAFRAME IF ONLY WORKING WITH ONE ASSET\n",
        "if SINGLE_ASSET:\n",
        "    train = train[train[\"Asset_ID\"]==asset_id]\n",
        "gc.collect()"
      ],
      "metadata": {
        "execution": {
          "iopub.status.busy": "2022-02-17T00:38:08.116698Z",
          "iopub.execute_input": "2022-02-17T00:38:08.117242Z",
          "iopub.status.idle": "2022-02-17T00:38:08.295694Z",
          "shell.execute_reply.started": "2022-02-17T00:38:08.117207Z",
          "shell.execute_reply": "2022-02-17T00:38:08.29475Z"
        },
        "trusted": true,
        "colab": {
          "base_uri": "https://localhost:8080/"
        },
        "id": "Dg3jyBJJgdaa",
        "outputId": "b838f4db-e6e6-46b9-9b01-d50db040f477"
      },
      "execution_count": 11,
      "outputs": [
        {
          "output_type": "stream",
          "name": "stdout",
          "text": [
            "(2000000, 10)\n"
          ]
        },
        {
          "output_type": "execute_result",
          "data": {
            "text/plain": [
              "39"
            ]
          },
          "metadata": {},
          "execution_count": 11
        }
      ]
    },
    {
      "cell_type": "code",
      "source": [
        "train[['Count', 'Open', 'High', 'Low', 'Close', 'Volume', 'VWAP', 'Target']] = train[['Count', 'Open', 'High', 'Low', 'Close', 'Volume', 'VWAP', 'Target']].astype(np.float32)\n",
        "print(train.shape)\n",
        "train['Target'] = train['Target'].fillna(0)\n",
        "VWAP_max = np.max(train[np.isfinite(train.VWAP)].VWAP)\n",
        "VWAP_min = np.min(train[np.isfinite(train.VWAP)].VWAP)\n",
        "train['VWAP'] = np.nan_to_num(train.VWAP, posinf=VWAP_max, neginf=VWAP_min)\n",
        "df = train[['Asset_ID', 'Target']].copy()\n",
        "times = dict((t,i) for i,t in enumerate(df.index.unique()))\n",
        "df['id'] = df.index.map(times)\n",
        "df['id'] = df['id'].astype(str) + '_' + df['Asset_ID'].astype(str)\n",
        "ids = df.id.copy()\n",
        "del df\n",
        "\n",
        "train = train.sort_index()\n",
        "ind = train.index.unique()\n",
        "def reindex(df):\n",
        "    df = df.reindex(range(ind[0],ind[-1]+60,60),method='nearest')\n",
        "    df = df.fillna(method=\"ffill\").fillna(method=\"bfill\")\n",
        "    return df\n",
        "train = train.groupby('Asset_ID').apply(reindex).reset_index(0, drop=True).sort_index()\n",
        "gc.collect()\n",
        "print(train.shape)\n",
        "\n",
        "# Matching records and marking generated rows as 'non-real'\n",
        "print(train.shape)\n",
        "train['group_num'] = train.index.map(times)\n",
        "train = train.dropna(subset=['group_num'])\n",
        "train['group_num'] = train['group_num'].astype('int')\n",
        "train['id'] = train['group_num'].astype(str) + '_' + train['Asset_ID'].astype(str)\n",
        "train['is_real'] = train.id.isin(ids) * 1\n",
        "train = train.drop('id', axis=1)\n",
        "print(train.shape)"
      ],
      "metadata": {
        "execution": {
          "iopub.status.busy": "2022-02-17T00:38:08.296841Z",
          "iopub.execute_input": "2022-02-17T00:38:08.297078Z",
          "iopub.status.idle": "2022-02-17T00:38:08.760404Z",
          "shell.execute_reply.started": "2022-02-17T00:38:08.297033Z",
          "shell.execute_reply": "2022-02-17T00:38:08.759366Z"
        },
        "trusted": true,
        "colab": {
          "base_uri": "https://localhost:8080/"
        },
        "id": "qeyD6yKfgdab",
        "outputId": "108c7988-7470-4106-9f33-de948aef003d"
      },
      "execution_count": 12,
      "outputs": [
        {
          "output_type": "stream",
          "name": "stdout",
          "text": [
            "(142862, 10)\n",
            "(142867, 10)\n",
            "(142867, 10)\n"
          ]
        },
        {
          "output_type": "stream",
          "name": "stderr",
          "text": [
            "/usr/local/lib/python3.7/dist-packages/ipykernel_launcher.py:28: SettingWithCopyWarning: \n",
            "A value is trying to be set on a copy of a slice from a DataFrame.\n",
            "Try using .loc[row_indexer,col_indexer] = value instead\n",
            "\n",
            "See the caveats in the documentation: https://pandas.pydata.org/pandas-docs/stable/user_guide/indexing.html#returning-a-view-versus-a-copy\n"
          ]
        },
        {
          "output_type": "stream",
          "name": "stdout",
          "text": [
            "(142862, 12)\n"
          ]
        }
      ]
    },
    {
      "cell_type": "code",
      "source": [
        "train['asset_order'] = train.Asset_ID.map(assets_order)\n",
        "train = train.sort_values(by=['group_num', 'asset_order'])\n",
        "# train = reduce_mem_usage(train)\n",
        "gc.collect()"
      ],
      "metadata": {
        "papermill": {
          "duration": 38.374972,
          "end_time": "2021-11-29T18:09:38.027192",
          "exception": false,
          "start_time": "2021-11-29T18:08:59.65222",
          "status": "completed"
        },
        "tags": [],
        "execution": {
          "iopub.status.busy": "2022-02-17T00:38:08.762072Z",
          "iopub.execute_input": "2022-02-17T00:38:08.762339Z",
          "iopub.status.idle": "2022-02-17T00:38:08.938219Z",
          "shell.execute_reply.started": "2022-02-17T00:38:08.762303Z",
          "shell.execute_reply": "2022-02-17T00:38:08.93743Z"
        },
        "trusted": true,
        "colab": {
          "base_uri": "https://localhost:8080/"
        },
        "id": "3PG8wEFtgdad",
        "outputId": "dbfe104e-4bd5-4018-dbc9-d1eb0ae8ec54"
      },
      "execution_count": 13,
      "outputs": [
        {
          "output_type": "execute_result",
          "data": {
            "text/plain": [
              "50"
            ]
          },
          "metadata": {},
          "execution_count": 13
        }
      ]
    },
    {
      "cell_type": "code",
      "source": [
        "if train.index.name == \"timestamp\":\n",
        "    train = train.reset_index()\n",
        "train['lr15'] = train.groupby('Asset_ID')['Close'].apply(lambda x: log_return(x, 15))\n",
        "train['lr16'] = train.groupby('Asset_ID')['Close'].apply(lambda x: log_return(x, 16))\n",
        "train = train.merge(df_asset_details[['Asset_ID','Weight']], how='left', on = 'Asset_ID')\n",
        "train['m'] = train['lr15']*train['Weight']\n",
        "train['m'] = train.groupby('timestamp')['m'].transform('sum') / np.sum(df_asset_details['Weight'])\n",
        "\n",
        "train.head(20)"
      ],
      "metadata": {
        "execution": {
          "iopub.status.busy": "2022-02-17T00:38:08.939735Z",
          "iopub.execute_input": "2022-02-17T00:38:08.940042Z",
          "iopub.status.idle": "2022-02-17T00:38:09.00107Z",
          "shell.execute_reply.started": "2022-02-17T00:38:08.939984Z",
          "shell.execute_reply": "2022-02-17T00:38:09.000329Z"
        },
        "trusted": true,
        "colab": {
          "base_uri": "https://localhost:8080/",
          "height": 1000
        },
        "id": "WbOjRhcpgdae",
        "outputId": "242750bb-5d52-455c-cde0-89f1ead6736f"
      },
      "execution_count": 14,
      "outputs": [
        {
          "output_type": "execute_result",
          "data": {
            "text/html": [
              "\n",
              "  <div id=\"df-e13d3a23-3d6d-4935-809c-564649293503\">\n",
              "    <div class=\"colab-df-container\">\n",
              "      <div>\n",
              "<style scoped>\n",
              "    .dataframe tbody tr th:only-of-type {\n",
              "        vertical-align: middle;\n",
              "    }\n",
              "\n",
              "    .dataframe tbody tr th {\n",
              "        vertical-align: top;\n",
              "    }\n",
              "\n",
              "    .dataframe thead th {\n",
              "        text-align: right;\n",
              "    }\n",
              "</style>\n",
              "<table border=\"1\" class=\"dataframe\">\n",
              "  <thead>\n",
              "    <tr style=\"text-align: right;\">\n",
              "      <th></th>\n",
              "      <th>timestamp</th>\n",
              "      <th>Asset_ID</th>\n",
              "      <th>Count</th>\n",
              "      <th>Open</th>\n",
              "      <th>High</th>\n",
              "      <th>Low</th>\n",
              "      <th>Close</th>\n",
              "      <th>Volume</th>\n",
              "      <th>VWAP</th>\n",
              "      <th>Target</th>\n",
              "      <th>date</th>\n",
              "      <th>group_num</th>\n",
              "      <th>is_real</th>\n",
              "      <th>asset_order</th>\n",
              "      <th>lr15</th>\n",
              "      <th>lr16</th>\n",
              "      <th>Weight</th>\n",
              "      <th>m</th>\n",
              "    </tr>\n",
              "  </thead>\n",
              "  <tbody>\n",
              "    <tr>\n",
              "      <th>0</th>\n",
              "      <td>1614970380</td>\n",
              "      <td>3</td>\n",
              "      <td>1073.0</td>\n",
              "      <td>1.166615</td>\n",
              "      <td>1.167175</td>\n",
              "      <td>1.161562</td>\n",
              "      <td>1.165562</td>\n",
              "      <td>959713.937500</td>\n",
              "      <td>1.165009</td>\n",
              "      <td>-0.004678</td>\n",
              "      <td>2021-03-05 18:53:00</td>\n",
              "      <td>0</td>\n",
              "      <td>1</td>\n",
              "      <td>0</td>\n",
              "      <td>NaN</td>\n",
              "      <td>NaN</td>\n",
              "      <td>4.406719</td>\n",
              "      <td>0.000000</td>\n",
              "    </tr>\n",
              "    <tr>\n",
              "      <th>1</th>\n",
              "      <td>1614970440</td>\n",
              "      <td>3</td>\n",
              "      <td>1187.0</td>\n",
              "      <td>1.165161</td>\n",
              "      <td>1.165695</td>\n",
              "      <td>1.161240</td>\n",
              "      <td>1.162910</td>\n",
              "      <td>582920.437500</td>\n",
              "      <td>1.163121</td>\n",
              "      <td>-0.004364</td>\n",
              "      <td>2021-03-05 18:54:00</td>\n",
              "      <td>1</td>\n",
              "      <td>1</td>\n",
              "      <td>0</td>\n",
              "      <td>NaN</td>\n",
              "      <td>NaN</td>\n",
              "      <td>4.406719</td>\n",
              "      <td>0.000000</td>\n",
              "    </tr>\n",
              "    <tr>\n",
              "      <th>2</th>\n",
              "      <td>1614970500</td>\n",
              "      <td>3</td>\n",
              "      <td>869.0</td>\n",
              "      <td>1.163272</td>\n",
              "      <td>1.168200</td>\n",
              "      <td>1.162616</td>\n",
              "      <td>1.165958</td>\n",
              "      <td>777516.625000</td>\n",
              "      <td>1.165240</td>\n",
              "      <td>-0.004653</td>\n",
              "      <td>2021-03-05 18:55:00</td>\n",
              "      <td>2</td>\n",
              "      <td>1</td>\n",
              "      <td>0</td>\n",
              "      <td>NaN</td>\n",
              "      <td>NaN</td>\n",
              "      <td>4.406719</td>\n",
              "      <td>0.000000</td>\n",
              "    </tr>\n",
              "    <tr>\n",
              "      <th>3</th>\n",
              "      <td>1614970560</td>\n",
              "      <td>3</td>\n",
              "      <td>607.0</td>\n",
              "      <td>1.166286</td>\n",
              "      <td>1.168378</td>\n",
              "      <td>1.165377</td>\n",
              "      <td>1.166998</td>\n",
              "      <td>384822.093750</td>\n",
              "      <td>1.166897</td>\n",
              "      <td>-0.004888</td>\n",
              "      <td>2021-03-05 18:56:00</td>\n",
              "      <td>3</td>\n",
              "      <td>1</td>\n",
              "      <td>0</td>\n",
              "      <td>NaN</td>\n",
              "      <td>NaN</td>\n",
              "      <td>4.406719</td>\n",
              "      <td>0.000000</td>\n",
              "    </tr>\n",
              "    <tr>\n",
              "      <th>4</th>\n",
              "      <td>1614970620</td>\n",
              "      <td>3</td>\n",
              "      <td>500.0</td>\n",
              "      <td>1.166474</td>\n",
              "      <td>1.167720</td>\n",
              "      <td>1.164744</td>\n",
              "      <td>1.165446</td>\n",
              "      <td>377173.375000</td>\n",
              "      <td>1.166171</td>\n",
              "      <td>-0.003190</td>\n",
              "      <td>2021-03-05 18:57:00</td>\n",
              "      <td>4</td>\n",
              "      <td>1</td>\n",
              "      <td>0</td>\n",
              "      <td>NaN</td>\n",
              "      <td>NaN</td>\n",
              "      <td>4.406719</td>\n",
              "      <td>0.000000</td>\n",
              "    </tr>\n",
              "    <tr>\n",
              "      <th>5</th>\n",
              "      <td>1614970680</td>\n",
              "      <td>3</td>\n",
              "      <td>488.0</td>\n",
              "      <td>1.165892</td>\n",
              "      <td>1.168800</td>\n",
              "      <td>1.163648</td>\n",
              "      <td>1.165696</td>\n",
              "      <td>368391.250000</td>\n",
              "      <td>1.165716</td>\n",
              "      <td>-0.002206</td>\n",
              "      <td>2021-03-05 18:58:00</td>\n",
              "      <td>5</td>\n",
              "      <td>1</td>\n",
              "      <td>0</td>\n",
              "      <td>NaN</td>\n",
              "      <td>NaN</td>\n",
              "      <td>4.406719</td>\n",
              "      <td>0.000000</td>\n",
              "    </tr>\n",
              "    <tr>\n",
              "      <th>6</th>\n",
              "      <td>1614970740</td>\n",
              "      <td>3</td>\n",
              "      <td>480.0</td>\n",
              "      <td>1.165877</td>\n",
              "      <td>1.170000</td>\n",
              "      <td>1.163446</td>\n",
              "      <td>1.165506</td>\n",
              "      <td>605561.000000</td>\n",
              "      <td>1.166067</td>\n",
              "      <td>-0.004436</td>\n",
              "      <td>2021-03-05 18:59:00</td>\n",
              "      <td>6</td>\n",
              "      <td>1</td>\n",
              "      <td>0</td>\n",
              "      <td>NaN</td>\n",
              "      <td>NaN</td>\n",
              "      <td>4.406719</td>\n",
              "      <td>0.000000</td>\n",
              "    </tr>\n",
              "    <tr>\n",
              "      <th>7</th>\n",
              "      <td>1614970800</td>\n",
              "      <td>3</td>\n",
              "      <td>648.0</td>\n",
              "      <td>1.166696</td>\n",
              "      <td>1.170200</td>\n",
              "      <td>1.165500</td>\n",
              "      <td>1.167425</td>\n",
              "      <td>608736.187500</td>\n",
              "      <td>1.167228</td>\n",
              "      <td>-0.002907</td>\n",
              "      <td>2021-03-05 19:00:00</td>\n",
              "      <td>7</td>\n",
              "      <td>1</td>\n",
              "      <td>0</td>\n",
              "      <td>NaN</td>\n",
              "      <td>NaN</td>\n",
              "      <td>4.406719</td>\n",
              "      <td>0.000000</td>\n",
              "    </tr>\n",
              "    <tr>\n",
              "      <th>8</th>\n",
              "      <td>1614970860</td>\n",
              "      <td>3</td>\n",
              "      <td>566.0</td>\n",
              "      <td>1.167069</td>\n",
              "      <td>1.170000</td>\n",
              "      <td>1.162845</td>\n",
              "      <td>1.164543</td>\n",
              "      <td>428201.468750</td>\n",
              "      <td>1.165682</td>\n",
              "      <td>-0.001878</td>\n",
              "      <td>2021-03-05 19:01:00</td>\n",
              "      <td>8</td>\n",
              "      <td>1</td>\n",
              "      <td>0</td>\n",
              "      <td>NaN</td>\n",
              "      <td>NaN</td>\n",
              "      <td>4.406719</td>\n",
              "      <td>0.000000</td>\n",
              "    </tr>\n",
              "    <tr>\n",
              "      <th>9</th>\n",
              "      <td>1614970920</td>\n",
              "      <td>3</td>\n",
              "      <td>590.0</td>\n",
              "      <td>1.164159</td>\n",
              "      <td>1.165900</td>\n",
              "      <td>1.161450</td>\n",
              "      <td>1.162816</td>\n",
              "      <td>722182.312500</td>\n",
              "      <td>1.163320</td>\n",
              "      <td>-0.001526</td>\n",
              "      <td>2021-03-05 19:02:00</td>\n",
              "      <td>9</td>\n",
              "      <td>1</td>\n",
              "      <td>0</td>\n",
              "      <td>NaN</td>\n",
              "      <td>NaN</td>\n",
              "      <td>4.406719</td>\n",
              "      <td>0.000000</td>\n",
              "    </tr>\n",
              "    <tr>\n",
              "      <th>10</th>\n",
              "      <td>1614970980</td>\n",
              "      <td>3</td>\n",
              "      <td>1210.0</td>\n",
              "      <td>1.162722</td>\n",
              "      <td>1.165500</td>\n",
              "      <td>1.158280</td>\n",
              "      <td>1.160603</td>\n",
              "      <td>746743.125000</td>\n",
              "      <td>1.161398</td>\n",
              "      <td>-0.001409</td>\n",
              "      <td>2021-03-05 19:03:00</td>\n",
              "      <td>10</td>\n",
              "      <td>1</td>\n",
              "      <td>0</td>\n",
              "      <td>NaN</td>\n",
              "      <td>NaN</td>\n",
              "      <td>4.406719</td>\n",
              "      <td>0.000000</td>\n",
              "    </tr>\n",
              "    <tr>\n",
              "      <th>11</th>\n",
              "      <td>1614971040</td>\n",
              "      <td>3</td>\n",
              "      <td>596.0</td>\n",
              "      <td>1.160416</td>\n",
              "      <td>1.162900</td>\n",
              "      <td>1.158420</td>\n",
              "      <td>1.161409</td>\n",
              "      <td>479921.968750</td>\n",
              "      <td>1.160744</td>\n",
              "      <td>-0.001600</td>\n",
              "      <td>2021-03-05 19:04:00</td>\n",
              "      <td>11</td>\n",
              "      <td>1</td>\n",
              "      <td>0</td>\n",
              "      <td>NaN</td>\n",
              "      <td>NaN</td>\n",
              "      <td>4.406719</td>\n",
              "      <td>0.000000</td>\n",
              "    </tr>\n",
              "    <tr>\n",
              "      <th>12</th>\n",
              "      <td>1614971100</td>\n",
              "      <td>3</td>\n",
              "      <td>554.0</td>\n",
              "      <td>1.160860</td>\n",
              "      <td>1.166076</td>\n",
              "      <td>1.159849</td>\n",
              "      <td>1.162176</td>\n",
              "      <td>722702.937500</td>\n",
              "      <td>1.162317</td>\n",
              "      <td>0.002723</td>\n",
              "      <td>2021-03-05 19:05:00</td>\n",
              "      <td>12</td>\n",
              "      <td>1</td>\n",
              "      <td>0</td>\n",
              "      <td>NaN</td>\n",
              "      <td>NaN</td>\n",
              "      <td>4.406719</td>\n",
              "      <td>0.000000</td>\n",
              "    </tr>\n",
              "    <tr>\n",
              "      <th>13</th>\n",
              "      <td>1614971160</td>\n",
              "      <td>3</td>\n",
              "      <td>451.0</td>\n",
              "      <td>1.161943</td>\n",
              "      <td>1.162800</td>\n",
              "      <td>1.158970</td>\n",
              "      <td>1.160954</td>\n",
              "      <td>914327.875000</td>\n",
              "      <td>1.160721</td>\n",
              "      <td>0.002237</td>\n",
              "      <td>2021-03-05 19:06:00</td>\n",
              "      <td>13</td>\n",
              "      <td>1</td>\n",
              "      <td>0</td>\n",
              "      <td>NaN</td>\n",
              "      <td>NaN</td>\n",
              "      <td>4.406719</td>\n",
              "      <td>0.000000</td>\n",
              "    </tr>\n",
              "    <tr>\n",
              "      <th>14</th>\n",
              "      <td>1614971220</td>\n",
              "      <td>3</td>\n",
              "      <td>540.0</td>\n",
              "      <td>1.160818</td>\n",
              "      <td>1.162600</td>\n",
              "      <td>1.157760</td>\n",
              "      <td>1.160207</td>\n",
              "      <td>393290.312500</td>\n",
              "      <td>1.159973</td>\n",
              "      <td>0.001026</td>\n",
              "      <td>2021-03-05 19:07:00</td>\n",
              "      <td>14</td>\n",
              "      <td>1</td>\n",
              "      <td>0</td>\n",
              "      <td>NaN</td>\n",
              "      <td>NaN</td>\n",
              "      <td>4.406719</td>\n",
              "      <td>0.000000</td>\n",
              "    </tr>\n",
              "    <tr>\n",
              "      <th>15</th>\n",
              "      <td>1614971280</td>\n",
              "      <td>3</td>\n",
              "      <td>404.0</td>\n",
              "      <td>1.159226</td>\n",
              "      <td>1.160558</td>\n",
              "      <td>1.157850</td>\n",
              "      <td>1.159554</td>\n",
              "      <td>227465.265625</td>\n",
              "      <td>1.158912</td>\n",
              "      <td>0.000414</td>\n",
              "      <td>2021-03-05 19:08:00</td>\n",
              "      <td>15</td>\n",
              "      <td>1</td>\n",
              "      <td>0</td>\n",
              "      <td>-0.005168</td>\n",
              "      <td>NaN</td>\n",
              "      <td>4.406719</td>\n",
              "      <td>-0.000557</td>\n",
              "    </tr>\n",
              "    <tr>\n",
              "      <th>16</th>\n",
              "      <td>1614971340</td>\n",
              "      <td>3</td>\n",
              "      <td>307.0</td>\n",
              "      <td>1.159387</td>\n",
              "      <td>1.160000</td>\n",
              "      <td>1.158010</td>\n",
              "      <td>1.158738</td>\n",
              "      <td>128807.898438</td>\n",
              "      <td>1.158823</td>\n",
              "      <td>-0.000826</td>\n",
              "      <td>2021-03-05 19:09:00</td>\n",
              "      <td>16</td>\n",
              "      <td>1</td>\n",
              "      <td>0</td>\n",
              "      <td>-0.003594</td>\n",
              "      <td>-0.005871</td>\n",
              "      <td>4.406719</td>\n",
              "      <td>-0.000387</td>\n",
              "    </tr>\n",
              "    <tr>\n",
              "      <th>17</th>\n",
              "      <td>1614971400</td>\n",
              "      <td>3</td>\n",
              "      <td>668.0</td>\n",
              "      <td>1.159262</td>\n",
              "      <td>1.161300</td>\n",
              "      <td>1.156050</td>\n",
              "      <td>1.158878</td>\n",
              "      <td>680162.625000</td>\n",
              "      <td>1.159220</td>\n",
              "      <td>0.001253</td>\n",
              "      <td>2021-03-05 19:10:00</td>\n",
              "      <td>17</td>\n",
              "      <td>1</td>\n",
              "      <td>0</td>\n",
              "      <td>-0.006091</td>\n",
              "      <td>-0.003474</td>\n",
              "      <td>4.406719</td>\n",
              "      <td>-0.000657</td>\n",
              "    </tr>\n",
              "    <tr>\n",
              "      <th>18</th>\n",
              "      <td>1614971460</td>\n",
              "      <td>3</td>\n",
              "      <td>1109.0</td>\n",
              "      <td>1.158689</td>\n",
              "      <td>1.160000</td>\n",
              "      <td>1.154500</td>\n",
              "      <td>1.156387</td>\n",
              "      <td>529555.750000</td>\n",
              "      <td>1.157131</td>\n",
              "      <td>0.000142</td>\n",
              "      <td>2021-03-05 19:11:00</td>\n",
              "      <td>18</td>\n",
              "      <td>1</td>\n",
              "      <td>0</td>\n",
              "      <td>-0.009134</td>\n",
              "      <td>-0.008242</td>\n",
              "      <td>4.406719</td>\n",
              "      <td>-0.000985</td>\n",
              "    </tr>\n",
              "    <tr>\n",
              "      <th>19</th>\n",
              "      <td>1614971520</td>\n",
              "      <td>3</td>\n",
              "      <td>598.0</td>\n",
              "      <td>1.156798</td>\n",
              "      <td>1.159300</td>\n",
              "      <td>1.155429</td>\n",
              "      <td>1.157631</td>\n",
              "      <td>719086.562500</td>\n",
              "      <td>1.157503</td>\n",
              "      <td>-0.000820</td>\n",
              "      <td>2021-03-05 19:12:00</td>\n",
              "      <td>19</td>\n",
              "      <td>1</td>\n",
              "      <td>0</td>\n",
              "      <td>-0.006728</td>\n",
              "      <td>-0.008059</td>\n",
              "      <td>4.406719</td>\n",
              "      <td>-0.000725</td>\n",
              "    </tr>\n",
              "  </tbody>\n",
              "</table>\n",
              "</div>\n",
              "      <button class=\"colab-df-convert\" onclick=\"convertToInteractive('df-e13d3a23-3d6d-4935-809c-564649293503')\"\n",
              "              title=\"Convert this dataframe to an interactive table.\"\n",
              "              style=\"display:none;\">\n",
              "        \n",
              "  <svg xmlns=\"http://www.w3.org/2000/svg\" height=\"24px\"viewBox=\"0 0 24 24\"\n",
              "       width=\"24px\">\n",
              "    <path d=\"M0 0h24v24H0V0z\" fill=\"none\"/>\n",
              "    <path d=\"M18.56 5.44l.94 2.06.94-2.06 2.06-.94-2.06-.94-.94-2.06-.94 2.06-2.06.94zm-11 1L8.5 8.5l.94-2.06 2.06-.94-2.06-.94L8.5 2.5l-.94 2.06-2.06.94zm10 10l.94 2.06.94-2.06 2.06-.94-2.06-.94-.94-2.06-.94 2.06-2.06.94z\"/><path d=\"M17.41 7.96l-1.37-1.37c-.4-.4-.92-.59-1.43-.59-.52 0-1.04.2-1.43.59L10.3 9.45l-7.72 7.72c-.78.78-.78 2.05 0 2.83L4 21.41c.39.39.9.59 1.41.59.51 0 1.02-.2 1.41-.59l7.78-7.78 2.81-2.81c.8-.78.8-2.07 0-2.86zM5.41 20L4 18.59l7.72-7.72 1.47 1.35L5.41 20z\"/>\n",
              "  </svg>\n",
              "      </button>\n",
              "      \n",
              "  <style>\n",
              "    .colab-df-container {\n",
              "      display:flex;\n",
              "      flex-wrap:wrap;\n",
              "      gap: 12px;\n",
              "    }\n",
              "\n",
              "    .colab-df-convert {\n",
              "      background-color: #E8F0FE;\n",
              "      border: none;\n",
              "      border-radius: 50%;\n",
              "      cursor: pointer;\n",
              "      display: none;\n",
              "      fill: #1967D2;\n",
              "      height: 32px;\n",
              "      padding: 0 0 0 0;\n",
              "      width: 32px;\n",
              "    }\n",
              "\n",
              "    .colab-df-convert:hover {\n",
              "      background-color: #E2EBFA;\n",
              "      box-shadow: 0px 1px 2px rgba(60, 64, 67, 0.3), 0px 1px 3px 1px rgba(60, 64, 67, 0.15);\n",
              "      fill: #174EA6;\n",
              "    }\n",
              "\n",
              "    [theme=dark] .colab-df-convert {\n",
              "      background-color: #3B4455;\n",
              "      fill: #D2E3FC;\n",
              "    }\n",
              "\n",
              "    [theme=dark] .colab-df-convert:hover {\n",
              "      background-color: #434B5C;\n",
              "      box-shadow: 0px 1px 3px 1px rgba(0, 0, 0, 0.15);\n",
              "      filter: drop-shadow(0px 1px 2px rgba(0, 0, 0, 0.3));\n",
              "      fill: #FFFFFF;\n",
              "    }\n",
              "  </style>\n",
              "\n",
              "      <script>\n",
              "        const buttonEl =\n",
              "          document.querySelector('#df-e13d3a23-3d6d-4935-809c-564649293503 button.colab-df-convert');\n",
              "        buttonEl.style.display =\n",
              "          google.colab.kernel.accessAllowed ? 'block' : 'none';\n",
              "\n",
              "        async function convertToInteractive(key) {\n",
              "          const element = document.querySelector('#df-e13d3a23-3d6d-4935-809c-564649293503');\n",
              "          const dataTable =\n",
              "            await google.colab.kernel.invokeFunction('convertToInteractive',\n",
              "                                                     [key], {});\n",
              "          if (!dataTable) return;\n",
              "\n",
              "          const docLinkHtml = 'Like what you see? Visit the ' +\n",
              "            '<a target=\"_blank\" href=https://colab.research.google.com/notebooks/data_table.ipynb>data table notebook</a>'\n",
              "            + ' to learn more about interactive tables.';\n",
              "          element.innerHTML = '';\n",
              "          dataTable['output_type'] = 'display_data';\n",
              "          await google.colab.output.renderOutput(dataTable, element);\n",
              "          const docLink = document.createElement('div');\n",
              "          docLink.innerHTML = docLinkHtml;\n",
              "          element.appendChild(docLink);\n",
              "        }\n",
              "      </script>\n",
              "    </div>\n",
              "  </div>\n",
              "  "
            ],
            "text/plain": [
              "     timestamp  Asset_ID   Count      Open      High       Low     Close  \\\n",
              "0   1614970380         3  1073.0  1.166615  1.167175  1.161562  1.165562   \n",
              "1   1614970440         3  1187.0  1.165161  1.165695  1.161240  1.162910   \n",
              "2   1614970500         3   869.0  1.163272  1.168200  1.162616  1.165958   \n",
              "3   1614970560         3   607.0  1.166286  1.168378  1.165377  1.166998   \n",
              "4   1614970620         3   500.0  1.166474  1.167720  1.164744  1.165446   \n",
              "5   1614970680         3   488.0  1.165892  1.168800  1.163648  1.165696   \n",
              "6   1614970740         3   480.0  1.165877  1.170000  1.163446  1.165506   \n",
              "7   1614970800         3   648.0  1.166696  1.170200  1.165500  1.167425   \n",
              "8   1614970860         3   566.0  1.167069  1.170000  1.162845  1.164543   \n",
              "9   1614970920         3   590.0  1.164159  1.165900  1.161450  1.162816   \n",
              "10  1614970980         3  1210.0  1.162722  1.165500  1.158280  1.160603   \n",
              "11  1614971040         3   596.0  1.160416  1.162900  1.158420  1.161409   \n",
              "12  1614971100         3   554.0  1.160860  1.166076  1.159849  1.162176   \n",
              "13  1614971160         3   451.0  1.161943  1.162800  1.158970  1.160954   \n",
              "14  1614971220         3   540.0  1.160818  1.162600  1.157760  1.160207   \n",
              "15  1614971280         3   404.0  1.159226  1.160558  1.157850  1.159554   \n",
              "16  1614971340         3   307.0  1.159387  1.160000  1.158010  1.158738   \n",
              "17  1614971400         3   668.0  1.159262  1.161300  1.156050  1.158878   \n",
              "18  1614971460         3  1109.0  1.158689  1.160000  1.154500  1.156387   \n",
              "19  1614971520         3   598.0  1.156798  1.159300  1.155429  1.157631   \n",
              "\n",
              "           Volume      VWAP    Target                date  group_num  is_real  \\\n",
              "0   959713.937500  1.165009 -0.004678 2021-03-05 18:53:00          0        1   \n",
              "1   582920.437500  1.163121 -0.004364 2021-03-05 18:54:00          1        1   \n",
              "2   777516.625000  1.165240 -0.004653 2021-03-05 18:55:00          2        1   \n",
              "3   384822.093750  1.166897 -0.004888 2021-03-05 18:56:00          3        1   \n",
              "4   377173.375000  1.166171 -0.003190 2021-03-05 18:57:00          4        1   \n",
              "5   368391.250000  1.165716 -0.002206 2021-03-05 18:58:00          5        1   \n",
              "6   605561.000000  1.166067 -0.004436 2021-03-05 18:59:00          6        1   \n",
              "7   608736.187500  1.167228 -0.002907 2021-03-05 19:00:00          7        1   \n",
              "8   428201.468750  1.165682 -0.001878 2021-03-05 19:01:00          8        1   \n",
              "9   722182.312500  1.163320 -0.001526 2021-03-05 19:02:00          9        1   \n",
              "10  746743.125000  1.161398 -0.001409 2021-03-05 19:03:00         10        1   \n",
              "11  479921.968750  1.160744 -0.001600 2021-03-05 19:04:00         11        1   \n",
              "12  722702.937500  1.162317  0.002723 2021-03-05 19:05:00         12        1   \n",
              "13  914327.875000  1.160721  0.002237 2021-03-05 19:06:00         13        1   \n",
              "14  393290.312500  1.159973  0.001026 2021-03-05 19:07:00         14        1   \n",
              "15  227465.265625  1.158912  0.000414 2021-03-05 19:08:00         15        1   \n",
              "16  128807.898438  1.158823 -0.000826 2021-03-05 19:09:00         16        1   \n",
              "17  680162.625000  1.159220  0.001253 2021-03-05 19:10:00         17        1   \n",
              "18  529555.750000  1.157131  0.000142 2021-03-05 19:11:00         18        1   \n",
              "19  719086.562500  1.157503 -0.000820 2021-03-05 19:12:00         19        1   \n",
              "\n",
              "    asset_order      lr15      lr16    Weight         m  \n",
              "0             0       NaN       NaN  4.406719  0.000000  \n",
              "1             0       NaN       NaN  4.406719  0.000000  \n",
              "2             0       NaN       NaN  4.406719  0.000000  \n",
              "3             0       NaN       NaN  4.406719  0.000000  \n",
              "4             0       NaN       NaN  4.406719  0.000000  \n",
              "5             0       NaN       NaN  4.406719  0.000000  \n",
              "6             0       NaN       NaN  4.406719  0.000000  \n",
              "7             0       NaN       NaN  4.406719  0.000000  \n",
              "8             0       NaN       NaN  4.406719  0.000000  \n",
              "9             0       NaN       NaN  4.406719  0.000000  \n",
              "10            0       NaN       NaN  4.406719  0.000000  \n",
              "11            0       NaN       NaN  4.406719  0.000000  \n",
              "12            0       NaN       NaN  4.406719  0.000000  \n",
              "13            0       NaN       NaN  4.406719  0.000000  \n",
              "14            0       NaN       NaN  4.406719  0.000000  \n",
              "15            0 -0.005168       NaN  4.406719 -0.000557  \n",
              "16            0 -0.003594 -0.005871  4.406719 -0.000387  \n",
              "17            0 -0.006091 -0.003474  4.406719 -0.000657  \n",
              "18            0 -0.009134 -0.008242  4.406719 -0.000985  \n",
              "19            0 -0.006728 -0.008059  4.406719 -0.000725  "
            ]
          },
          "metadata": {},
          "execution_count": 14
        }
      ]
    },
    {
      "cell_type": "code",
      "source": [
        "def get_split_indices(indices):\n",
        "    train_end_idx = int(len(indices) * (1 - (PCT_VALIDATION+PCT_TEST)/100))\n",
        "    val_end_idx = int(len(indices) * (1 - (PCT_TEST)/100))\n",
        "    return indices[train_end_idx], indices[val_end_idx]\n",
        "\n",
        "train_end_idx = {}\n",
        "val_end_idx = {}\n",
        "if not SINGLE_ASSET:\n",
        "    for i in range(N_ASSETS):\n",
        "        X_asset_indices = train[train[\"Asset_ID\"]==i].index\n",
        "        train_end_idx[i], val_end_idx[i] = get_split_indices(X_asset_indices)\n",
        "else:\n",
        "    X_asset_indices = train[train[\"Asset_ID\"]==asset_id].index\n",
        "    train_end_idx[asset_id], val_end_idx[asset_id] = get_split_indices(X_asset_indices)"
      ],
      "metadata": {
        "execution": {
          "iopub.status.busy": "2022-02-17T00:38:09.002308Z",
          "iopub.execute_input": "2022-02-17T00:38:09.00274Z",
          "iopub.status.idle": "2022-02-17T00:38:09.013502Z",
          "shell.execute_reply.started": "2022-02-17T00:38:09.002701Z",
          "shell.execute_reply": "2022-02-17T00:38:09.012775Z"
        },
        "trusted": true,
        "id": "QBrweJbVgdaf"
      },
      "execution_count": 15,
      "outputs": []
    },
    {
      "cell_type": "code",
      "source": [
        "# create train data of shape: Batch Size X Window Size X Num Assets --> bBATCH_SIZEon mean over all features\n",
        "# create train lables of shape: batch size X Num Assets  -->  based on target of t(win_len)\n",
        "# given data and index, train batches + labels are created\n",
        "\n",
        "\n",
        "class sample_generator(keras.utils.Sequence):\n",
        "    def __init__(self, x_set, y_set, batch_size, length, prediction_length):\n",
        "        self.x, self.y = x_set, y_set\n",
        "        self.batch_size = batch_size\n",
        "        self.length = length\n",
        "        self.prediction_length = prediction_length\n",
        "        self.size = len(x_set)\n",
        "    def __len__(self): return int((len(self.x)-self.length) / float(self.batch_size))\n",
        "    def __getitem__(self, idx):\n",
        "        batch_x=[]\n",
        "        batch_y=[]\n",
        "        for i in range(self.batch_size):\n",
        "            start_ind = self.batch_size*idx + i\n",
        "            end_ind = start_ind + self.length \n",
        "            if (end_ind+self.prediction_length-1) <= self.size:\n",
        "                batch_x.append(self.x[start_ind : end_ind])\n",
        "                batch_y.append(self.y[end_ind -1: end_ind+self.prediction_length-1]) \n",
        "        x,y = np.array(batch_x), np.array(batch_y)\n",
        "        assert x.shape == (BATCH_SIZE, WINDOW_SIZE,len(features)), f\"Shape Missmatch of train data generator X at idx {str(idx)} and i {str(i)}\"\n",
        "        assert x.shape == (BATCH_SIZE, WINDOW_SIZE,len(features)), f\"Shape Missmatch of train data generator Y at idx {str(idx)} and i {str(i)}\"\n",
        "        return x,y\n",
        "\n",
        "class multivariate_sample_generator(keras.utils.Sequence):\n",
        "    # generator which supports multivariate ex-features input into nbeats\n",
        "    # -> Single asset per sequence\n",
        "    # --> x_sequence.shape = batch_size x Window_size x 1\n",
        "    # --> y_sequence.shape = batch_size x 1\n",
        "    # --> e_sequence.shape = batch_size x Window_size x num_ex_var    \n",
        "    def __init__(self, x_set, y_set, e_set, batch_size, length, prediction_length):\n",
        "        self.x, self.y, self.e = x_set, y_set, e_set\n",
        "        self.batch_size = batch_size\n",
        "        self.length = length\n",
        "        self.prediction_length = prediction_length\n",
        "        self.size = len(x_set)\n",
        "        self.num_assets = self.x.shape[1]\n",
        "    def __len__(self): return int(np.ceil(len(self.x) / float(self.batch_size)))\n",
        "    def __getitem__(self, idx):\n",
        "        # idx: how many times the generator is already called\n",
        "        batch_x=[]\n",
        "        batch_y=[]\n",
        "        batch_e=[]\n",
        "        num_sample=0\n",
        "        while num_sample < self.batch_size:\n",
        "            start_ind = self.batch_size//self.num_assets*idx + num_sample//self.num_assets\n",
        "            end_ind = start_ind + self.length \n",
        "            if (end_ind+self.prediction_length-1) <= self.size:\n",
        "                for a in range(self.num_assets):\n",
        "                    batch_x.append(self.x[start_ind : end_ind, a])\n",
        "                    batch_e.append(self.e[start_ind : end_ind, a, :])\n",
        "                    batch_y.append(self.y[end_ind -1: end_ind+self.prediction_length-1, a]) \n",
        "                    num_sample += 1\n",
        "                    if num_sample >= self.batch_size: break;  ## TODO: FIND BETTER SOLUTION (here we throw aray samples if we break out of loop)\n",
        "        return [np.array(batch_x).reshape(-1,self.length,1), np.array(batch_e)], np.array(batch_y)\n",
        "    \n",
        "\n",
        "def assert_data_validity_generator(gen, batch_size, test_shift_size=1, num_tests=200):\n",
        "    for i in range(num_tests):\n",
        "        num_batch = np.random.randint(0, len(gen), dtype=int)\n",
        "        num_sample = np.random.randint(0, batch_size-1, dtype=int)\n",
        "        assert gen[num_batch][0][num_sample+test_shift_size,-1,0] == gen[num_batch][1][num_sample,0,0], \"Data Missmatch between Series and Target in generator data\"\n",
        "    print(\"All tests passed.\")\n"
      ],
      "metadata": {
        "execution": {
          "iopub.status.busy": "2022-02-17T00:38:09.014888Z",
          "iopub.execute_input": "2022-02-17T00:38:09.015352Z",
          "iopub.status.idle": "2022-02-17T00:38:09.035233Z",
          "shell.execute_reply.started": "2022-02-17T00:38:09.015315Z",
          "shell.execute_reply": "2022-02-17T00:38:09.034448Z"
        },
        "trusted": true,
        "id": "n8iZNJFggdag"
      },
      "execution_count": 16,
      "outputs": []
    },
    {
      "cell_type": "code",
      "source": [
        "X_asset = train.copy()\n",
        "X_asset = get_features_hist(X_asset)\n",
        "X_asset[\"Target_shifted\"] = X_asset[\"Target\"].shift(num_shift)\n",
        "X_asset[\"Target\"].plot()\n",
        "\n",
        "train_end_idx[asset_id], val_end_idx[asset_id]\n",
        "features = [\"Target_shifted\"]\n",
        "features = [\"Target_shifted\", \"m\", \"upper_shadow\", \"lower_shadow\", \"open2close\", \"high2low\", \"volume2count\", \"close2vwap\"] \n",
        "target = [\"Target\"]\n",
        "X_asset.loc[X_asset.is_real==0, features] = 0 \n",
        "X_asset[features] = X_asset[features].fillna(0)\n",
        "scaler = MinMaxScaler()\n",
        "X_asset[features] = scaler.fit_transform(X_asset[features])  # TODO: NEEDS TO BE SEPARATED FOR TRAIN TEST\n",
        " \n",
        "train_generator = sample_generator(X_asset.loc[:train_end_idx[asset_id], features], \n",
        "                                   X_asset.loc[:train_end_idx[asset_id], target], \n",
        "                                   length = WINDOW_SIZE, batch_size = BATCH_SIZE, prediction_length=prediction_length)\n",
        "val_generator = sample_generator(X_asset.loc[train_end_idx[asset_id]:val_end_idx[asset_id], features], \n",
        "                                 X_asset.loc[train_end_idx[asset_id]:val_end_idx[asset_id], target], \n",
        "                                 length = WINDOW_SIZE, batch_size = BATCH_SIZE, prediction_length=prediction_length)\n",
        "test_generator = sample_generator(X_asset.loc[val_end_idx[asset_id]:, features], \n",
        "                                  X_asset.loc[val_end_idx[asset_id]:, target], \n",
        "                                  length = WINDOW_SIZE, batch_size = BATCH_SIZE, prediction_length=prediction_length)\n",
        "\n",
        "print(\"BATCH_SIZE: \", BATCH_SIZE)\n",
        "print(f'Train batch shape: {train_generator[0][0].shape}')\n",
        "print(f'Target batch shape: {train_generator[0][1].shape}')\n",
        "\n",
        "print(\"Num batches of train, validation and test generator: \", len(train_generator),\", \", len(val_generator),\", \", len(test_generator))\n",
        "print(\"Num Training Samples: \", len(train_generator)*BATCH_SIZE)"
      ],
      "metadata": {
        "execution": {
          "iopub.status.busy": "2022-02-17T00:50:00.197725Z",
          "iopub.execute_input": "2022-02-17T00:50:00.198607Z",
          "iopub.status.idle": "2022-02-17T00:50:00.483976Z",
          "shell.execute_reply.started": "2022-02-17T00:50:00.198534Z",
          "shell.execute_reply": "2022-02-17T00:50:00.482539Z"
        },
        "trusted": true,
        "colab": {
          "base_uri": "https://localhost:8080/",
          "height": 352
        },
        "id": "tQRkhrE-gdah",
        "outputId": "901cfca0-5dda-4560-f068-02421704aa21"
      },
      "execution_count": 17,
      "outputs": [
        {
          "output_type": "stream",
          "name": "stdout",
          "text": [
            "BATCH_SIZE:  128\n",
            "Train batch shape: (128, 16, 8)\n",
            "Target batch shape: (128, 1, 1)\n",
            "Num batches of train, validation and test generator:  892 ,  111 ,  111\n",
            "Num Training Samples:  114176\n"
          ]
        },
        {
          "output_type": "display_data",
          "data": {
            "image/png": "[encoded data removed]",
            "text/plain": [
              "<Figure size 432x288 with 1 Axes>"
            ]
          },
          "metadata": {
            "needs_background": "light"
          }
        }
      ]
    },
    {
      "cell_type": "markdown",
      "source": [
        "# <span class=\"title-section w3-xxlarge\" id=\"training\">Training 🏋️</span>\n",
        "<hr>\n",
        "\n",
        "Our model will be trained for the number of FOLDS and EPOCHS you chose in the configuration above. Each fold the model with lowest validation loss will be saved and used to predict OOF and test. Adjust the variable `VERBOSE`. The variable `VERBOSE=1 or 2` will display the training and validation loss for each epoch as text. "
      ],
      "metadata": {
        "papermill": {
          "duration": 0.038491,
          "end_time": "2021-11-29T18:09:46.955605",
          "exception": false,
          "start_time": "2021-11-29T18:09:46.917114",
          "status": "completed"
        },
        "tags": [],
        "id": "7SIUAeqjgdai"
      }
    },
    {
      "cell_type": "code",
      "source": [
        "class Time2Vec(keras.layers.Layer):\n",
        "    def __init__(self, kernel_size=1):\n",
        "        super(Time2Vec, self).__init__(trainable=True, name='Time2VecLayer')\n",
        "        self.k = kernel_size\n",
        "    \n",
        "    def build(self, input_shape):  # build automatically executed before layer is called for the first time --  mostly used to instantiate weights\n",
        "        # trend\n",
        "        self.wb = self.add_weight(name='wb',shape=(input_shape[1],),initializer='uniform',trainable=True)\n",
        "        self.bb = self.add_weight(name='bb',shape=(input_shape[1],),initializer='uniform',trainable=True)\n",
        "        # periodic\n",
        "        self.wa = self.add_weight(name='wa',shape=(1, input_shape[1], self.k),initializer='uniform',trainable=True)\n",
        "        self.ba = self.add_weight(name='ba',shape=(1, input_shape[1], self.k),initializer='uniform',trainable=True)\n",
        "        super(Time2Vec, self).build(input_shape)\n",
        "    \n",
        "    def call(self, inputs, **kwargs):  # where the layer logic lives\n",
        "        bias = self.wb * inputs + self.bb\n",
        "        dp = K.dot(inputs, self.wa) + self.ba\n",
        "        wgts = K.sin(dp) # or K.cos(.)\n",
        "\n",
        "        ret = K.concatenate([K.expand_dims(bias, -1), wgts], -1)\n",
        "        ret = K.reshape(ret, (-1, inputs.shape[1]*(self.k+1)))\n",
        "        return ret\n",
        "    \n",
        "    def compute_output_shape(self, input_shape):\n",
        "        return (input_shape[0], input_shape[1]*(self.k + 1))\n",
        "    \n",
        "\n",
        "# https://towardsdatascience.com/time2vec-for-time-series-features-encoding-a03a4f3f937e\n",
        "class T2V(keras.layers.Layer):\n",
        "    \n",
        "    def __init__(self, output_dim=None, **kwargs):\n",
        "        self.output_dim = output_dim\n",
        "        super(T2V, self).__init__(**kwargs)\n",
        "        \n",
        "    def build(self, input_shape):        \n",
        "        self.W = self.add_weight(name='W',\n",
        "                      shape=(input_shape[-1], self.output_dim),\n",
        "                      initializer='uniform',\n",
        "                      trainable=True)        \n",
        "        self.P = self.add_weight(name='P',\n",
        "                      shape=(input_shape[1], self.output_dim),\n",
        "                      initializer='uniform',\n",
        "                      trainable=True)        \n",
        "        self.w = self.add_weight(name='w',\n",
        "                      shape=(input_shape[1], 1),\n",
        "                      initializer='uniform',\n",
        "                      trainable=True)        \n",
        "        self.p = self.add_weight(name='p',\n",
        "                      shape=(input_shape[1], 1),\n",
        "                      initializer='uniform',\n",
        "                      trainable=True)        \n",
        "        super(T2V, self).build(input_shape)\n",
        "        \n",
        "    def call(self, x):\n",
        "        \n",
        "        original = self.w * x + self.p\n",
        "        sin_trans = K.sin(K.dot(x, self.W) + self.P)\n",
        "        \n",
        "        return K.concatenate([sin_trans, original], -1)"
      ],
      "metadata": {
        "execution": {
          "iopub.status.busy": "2022-02-17T00:50:00.525214Z",
          "iopub.execute_input": "2022-02-17T00:50:00.52544Z",
          "iopub.status.idle": "2022-02-17T00:50:00.540886Z",
          "shell.execute_reply.started": "2022-02-17T00:50:00.525406Z",
          "shell.execute_reply": "2022-02-17T00:50:00.54001Z"
        },
        "trusted": true,
        "id": "xbUPXzfdgdaj"
      },
      "execution_count": 18,
      "outputs": []
    },
    {
      "cell_type": "code",
      "source": [
        "# https://towardsdatascience.com/the-time-series-transformer-2a521a0efad3\n",
        "\n",
        "class AttentionBlock(keras.Model):\n",
        "    def __init__(self, name='AttentionBlock', num_heads=2, head_size=128, ff_dim=None, dropout=0, **kwargs):\n",
        "        super().__init__(name=name, **kwargs)\n",
        "\n",
        "        if ff_dim is None:\n",
        "            ff_dim = head_size\n",
        "\n",
        "        self.attention = MultiHeadAttention(num_heads=num_heads, head_size=head_size, dropout=dropout)\n",
        "        self.attention_dropout = keras.layers.Dropout(dropout)\n",
        "        self.attention_norm = keras.layers.BatchNormalization(epsilon=1e-6)\n",
        "\n",
        "        self.ff_conv1 = keras.layers.Conv1D(filters=ff_dim, kernel_size=1, activation='relu')\n",
        "        # self.ff_conv2 at build()\n",
        "        self.ff_dropout = keras.layers.Dropout(dropout)\n",
        "        self.ff_norm = keras.layers.BatchNormalization(epsilon=1e-6)\n",
        "\n",
        "    def build(self, input_shape):\n",
        "        self.ff_conv2 = keras.layers.Conv1D(filters=input_shape[-1], kernel_size=1) \n",
        "\n",
        "    def call(self, inputs):\n",
        "        x = self.attention([inputs, inputs])\n",
        "        x = self.attention_dropout(x)\n",
        "        x = self.attention_norm(inputs + x)\n",
        "\n",
        "        x = self.ff_conv1(x)\n",
        "        x = self.ff_conv2(x)\n",
        "        x = self.ff_dropout(x)\n",
        "\n",
        "        x = self.ff_norm(inputs + x)\n",
        "        return x\n",
        "    \n",
        "\n",
        "class ModelTrunk(keras.Model):\n",
        "    def __init__(self, name='ModelTrunk', time2vec_dim=1, num_heads=2, head_size=128, ff_dim=None, num_layers=1, dropout=0, **kwargs):\n",
        "        super().__init__(name=name, **kwargs)\n",
        "        self.time2vec = Time2Vec(kernel_size=time2vec_dim)\n",
        "        if ff_dim is None:\n",
        "            ff_dim = head_size\n",
        "        self.dropout = dropout\n",
        "        self.attention_layers = [AttentionBlock(num_heads=num_heads, head_size=head_size, ff_dim=ff_dim, dropout=dropout) for _ in range(num_layers)]\n",
        "\n",
        "        \n",
        "    def call(self, inputs):\n",
        "        time_embedding = keras.layers.TimeDistributed(self.time2vec)(inputs)\n",
        "        x = K.concatenate([inputs, time_embedding], -1)\n",
        "        for attention_layer in self.attention_layers:\n",
        "            x = attention_layer(x)\n",
        "\n",
        "        return K.reshape(x, (-1, x.shape[1] * x.shape[2])) # flat vector of features out\n",
        "    \n",
        "\n",
        "def build_model_new(\n",
        "    input_shape,  # shape of time series sample\n",
        "    head_size, # size of multi head attention\n",
        "    num_heads,  # number of multi-head attention \n",
        "    ff_dim,  # \n",
        "    num_transformer_blocks, # \n",
        "    mlp_units, # list of N dense layers with i neurons\n",
        "    dropout=0,  # transformer block dropout rate\n",
        "    mlp_dropout=0,  # \n",
        "    time2vec_dim=3\n",
        "):\n",
        "    inputs = keras.Input(shape=input_shape)\n",
        "    \n",
        "    x = ModelTrunk(num_heads=num_heads, head_size=head_size, ff_dim=ff_dim, num_layers=num_transformer_blocks, time2vec_dim=time2vec_dim, dropout=dropout)(inputs)\n",
        "\n",
        "    # x = layers.GlobalAveragePooling1D(data_format=\"channels_first\")(x)\n",
        "    for dim in mlp_units:\n",
        "        x = layers.Dense(dim, activation=\"relu\")(x)\n",
        "        x = layers.Dropout(mlp_dropout)(x)\n",
        "    outputs = layers.Dense(1, kernel_initializer=\"normal\")(x)\n",
        "    return keras.Model(inputs, outputs)\n",
        "\n",
        "\n",
        "# https://github.com/tatp22/multidim-positional-encoding/blob/master/positional_encodings/tf_positional_encodings.py\n",
        "class TFPositionalEncoding1D(tf.keras.layers.Layer):\n",
        "    def __init__(self, channels: int, dtype=tf.float32):\n",
        "        \"\"\"\n",
        "        Args:\n",
        "            channels int: The last dimension of the tensor you want to apply pos emb to.\n",
        "        Keyword Args:\n",
        "            dtype: output type of the encodings. Default is \"tf.float32\".\n",
        "        \"\"\"\n",
        "        super(TFPositionalEncoding1D, self).__init__()\n",
        "\n",
        "        self.channels = int(np.ceil(channels / 2) * 2)\n",
        "        self.inv_freq = np.float32(\n",
        "            1\n",
        "            / np.power(\n",
        "                10000, np.arange(0, self.channels, 2) / np.float32(self.channels)\n",
        "            )\n",
        "        )\n",
        "\n",
        "    @tf.function\n",
        "    def call(self, inputs):\n",
        "        \"\"\"\n",
        "        :param tensor: A 3d tensor of size (batch_size, x, ch)\n",
        "        :return: Positional Encoding Matrix of size (batch_size, x, ch)\n",
        "        \"\"\"\n",
        "        if len(inputs.shape) != 3:\n",
        "            raise RuntimeError(\"The input tensor has to be 3d!\")\n",
        "        _, x, org_channels = inputs.shape\n",
        "\n",
        "        dtype = self.inv_freq.dtype\n",
        "        pos_x = tf.range(x, dtype=dtype)\n",
        "        sin_inp_x = tf.einsum(\"i,j->ij\", pos_x, self.inv_freq)\n",
        "        emb = tf.expand_dims(tf.concat((tf.sin(sin_inp_x), tf.cos(sin_inp_x)), -1), 0)\n",
        "        emb = emb[0]  # A bit of a hack\n",
        "        return tf.repeat(emb[None, :, :org_channels], tf.shape(inputs)[0], axis=0)        \n",
        "        "
      ],
      "metadata": {
        "execution": {
          "iopub.status.busy": "2022-02-17T00:50:00.705448Z",
          "iopub.execute_input": "2022-02-17T00:50:00.705827Z",
          "iopub.status.idle": "2022-02-17T00:50:00.731486Z",
          "shell.execute_reply.started": "2022-02-17T00:50:00.705792Z",
          "shell.execute_reply": "2022-02-17T00:50:00.730033Z"
        },
        "trusted": true,
        "id": "5MMg1hmCgdal"
      },
      "execution_count": 19,
      "outputs": []
    },
    {
      "cell_type": "code",
      "source": [
        "# https://keras.io/examples/timeseries/timeseries_transformer_classification/\n",
        "\n",
        "\n",
        "def transformer_encoder(inputs, head_size, num_heads, ff_dim, dropout=0):\n",
        "    # Normalization and Attention\n",
        "    x = layers.BatchNormalization(epsilon=1e-6)(inputs)\n",
        "    x = layers.MultiHeadAttention(\n",
        "        key_dim=head_size, num_heads=num_heads, dropout=dropout\n",
        "    )(x, x)\n",
        "    x = layers.Dropout(dropout)(x)\n",
        "    res = x + inputs\n",
        "\n",
        "    # Feed Forward Part\n",
        "    x = layers.BatchNormalization(epsilon=1e-6)(res)\n",
        "    x = layers.Conv1D(filters=ff_dim, kernel_size=1, activation=\"relu\")(x)\n",
        "    x = layers.Dropout(dropout)(x)\n",
        "    x = layers.Conv1D(filters=inputs.shape[-1], kernel_size=1)(x)\n",
        "    return x + res\n",
        "\n",
        "# self.time2vec = Time2Vec(kernel_size=time2vec_dim)\n",
        "\n",
        "def build_model(\n",
        "    input_shape,  # shape of time series sample\n",
        "    head_size, # size of multi head attention\n",
        "    num_heads,  # number of multi-head attention \n",
        "    ff_dim,  # \n",
        "    num_transformer_blocks, # \n",
        "    mlp_units, # list of N dense layers with i neurons\n",
        "    dropout=0,  # transformer block dropout rate\n",
        "    mlp_dropout=0,  # \n",
        "    temp_embedding=False\n",
        "):\n",
        "    inputs = keras.Input(shape=input_shape)\n",
        "    \n",
        "    if temp_embedding:\n",
        "      time_embedding = TFPositionalEncoding1D(channels=input_shape[-1])(inputs)\n",
        "      x = tf.keras.layers.Add()([inputs, time_embedding])\n",
        "    else:\n",
        "      x = inputs\n",
        "    \n",
        "    for _ in range(num_transformer_blocks):\n",
        "        x = transformer_encoder(x, head_size, num_heads, ff_dim, dropout)\n",
        "\n",
        "    x = layers.GlobalAveragePooling1D(data_format=\"channels_first\")(x)\n",
        "    for dim in mlp_units:\n",
        "        x = layers.Dense(dim, activation=\"relu\")(x)\n",
        "        x = layers.Dropout(mlp_dropout)(x)\n",
        "        # x = layers.BatchNormalization(epsilon=1e-6)(x)\n",
        "    outputs = layers.Dense(1, kernel_initializer=\"normal\")(x)\n",
        "    return keras.Model(inputs, outputs)\n"
      ],
      "metadata": {
        "execution": {
          "iopub.status.busy": "2022-02-17T00:50:00.893052Z",
          "iopub.execute_input": "2022-02-17T00:50:00.893667Z",
          "iopub.status.idle": "2022-02-17T00:50:00.904069Z",
          "shell.execute_reply.started": "2022-02-17T00:50:00.893633Z",
          "shell.execute_reply": "2022-02-17T00:50:00.903093Z"
        },
        "trusted": true,
        "id": "gI2DksYwgdap"
      },
      "execution_count": 20,
      "outputs": []
    },
    {
      "cell_type": "code",
      "source": [
        "def lr_scheduler(epoch, lr, warmup_epochs=15, decay_epochs=100, initial_lr=1e-6, base_lr=1e-3, min_lr=5e-5):\n",
        "    if epoch <= warmup_epochs:\n",
        "        pct = epoch / warmup_epochs\n",
        "        return ((base_lr - initial_lr) * pct) + initial_lr\n",
        "\n",
        "    if epoch > warmup_epochs and epoch < warmup_epochs+decay_epochs:\n",
        "        pct = 1 - ((epoch - warmup_epochs) / decay_epochs)\n",
        "        return ((base_lr - min_lr) * pct) + min_lr\n",
        "\n",
        "    return min_lr"
      ],
      "metadata": {
        "id": "vxiThfy0B1ur"
      },
      "execution_count": 21,
      "outputs": []
    },
    {
      "cell_type": "code",
      "source": [
        "input_shape = train_generator[0][0].shape[1:]\n",
        "\n",
        "model = build_model(\n",
        "    input_shape,\n",
        "    head_size=256,\n",
        "    num_heads=4,\n",
        "    ff_dim=4,\n",
        "    num_transformer_blocks=8,\n",
        "    mlp_units=[128, 128],\n",
        "    mlp_dropout=0.1,\n",
        "    dropout=0.1,\n",
        "    temp_embedding=TEMP_EMBEDDING\n",
        ")\n",
        "\n",
        "# tfp.stats.correlation\n",
        "#tf_corr_new = tfp.stats.correlation(x, y=None, sample_axis=0, event_axis=-1, keepdims=False, name=None)\n",
        "# tf.contrib.metrics.streaming_pearson_correlation(logits,labels)\n",
        "\n",
        "# model.compile(\n",
        "#     optimizer=\"Adam\",\n",
        "#     loss={\"head1\": \"mse\", \"head2\": \"mse\"},\n",
        "#     loss_weights={\"head1\": HEAD1_WEIGHT, \"head2\": HEAD2_WEIGHT},\n",
        "#     metrics={\"head1\": [\"mae\"], \"head2\": [\"mae\"]}\n",
        "# )\n",
        "# \n",
        "loss_func = combined_loss\n",
        "model.compile(\n",
        "    loss=loss_func,\n",
        "    optimizer=keras.optimizers.Adam(learning_rate=1e-2),\n",
        "    metrics=[\"mae\", tfp.stats.correlation],\n",
        ")\n",
        "# model.summary()\n"
      ],
      "metadata": {
        "execution": {
          "iopub.status.busy": "2022-02-17T00:50:01.053911Z",
          "iopub.execute_input": "2022-02-17T00:50:01.054523Z",
          "iopub.status.idle": "2022-02-17T00:50:01.738473Z",
          "shell.execute_reply.started": "2022-02-17T00:50:01.054489Z",
          "shell.execute_reply": "2022-02-17T00:50:01.737796Z"
        },
        "trusted": true,
        "id": "1sSkWOGIgdat"
      },
      "execution_count": 22,
      "outputs": []
    },
    {
      "cell_type": "code",
      "source": [
        "EPOCHS = 50\n",
        "\n",
        "model_filepath = f\"/content/gdrive/MyDrive/Github/GResearch/G-ResearchCryptoPrediction/models/checkpoints/\"+ \\\n",
        "  f\"tf_model_features_{len(features)}_seqlen_{WINDOW_SIZE}_tempembedding_{TEMP_EMBEDDING}_epochs_{EPOCHS}\"    # +\"cp_{epoch:02d}\"\n",
        "history_filepath = f\"/content/gdrive/MyDrive/Github/GResearch/G-ResearchCryptoPrediction/history/\"+ \\\n",
        "  f\"tf_model_features_{len(features)}_seqlen_{WINDOW_SIZE}_tempembedding_{TEMP_EMBEDDING}.log\"\n",
        "  \n",
        "callbacks = [keras.callbacks.EarlyStopping(monitor='val_loss', mode='min',patience=5, restore_best_weights=True)]\n",
        "callbacks += [keras.callbacks.LearningRateScheduler(lr_scheduler, verbose=1)]\n",
        "callbacks += [keras.callbacks.ModelCheckpoint(model_filepath, monitor='val_loss', verbose=1, save_best_only=True, save_weights_only=False)]\n",
        "callbacks += [keras.callbacks.CSVLogger(history_filepath, separator=',', append=False)]\n",
        "\n",
        "history = model.fit(\n",
        "            train_generator, \n",
        "            validation_data = (val_generator),\n",
        "            epochs=EPOCHS,\n",
        "            batch_size=BATCH_SIZE,\n",
        "            callbacks=callbacks)\n",
        "\n",
        "model.evaluate(test_generator, verbose=1)"
      ],
      "metadata": {
        "execution": {
          "iopub.status.busy": "2022-02-17T00:50:01.76068Z",
          "iopub.execute_input": "2022-02-17T00:50:01.760949Z",
          "iopub.status.idle": "2022-02-17T00:59:13.604094Z",
          "shell.execute_reply.started": "2022-02-17T00:50:01.76092Z",
          "shell.execute_reply": "2022-02-17T00:59:13.603416Z"
        },
        "trusted": true,
        "colab": {
          "base_uri": "https://localhost:8080/"
        },
        "id": "MxX1sJJKgdaw",
        "outputId": "edb8d71b-abf8-443e-a8e8-bde9159de6c3"
      },
      "execution_count": 24,
      "outputs": [
        {
          "output_type": "stream",
          "name": "stdout",
          "text": [
            "\n",
            "Epoch 1: LearningRateScheduler setting learning rate to 1e-06.\n",
            "Epoch 1/50\n",
            "891/892 [============================>.] - ETA: 0s - loss: 0.0314 - mae: 0.0982 - correlation: 0.0354\n",
            "Epoch 1: val_loss improved from inf to 0.01108, saving model to /content/gdrive/MyDrive/Github/GResearch/G-ResearchCryptoPrediction/models/checkpoints/tf_model_features_8_seqlen_16_tempembedding_False_epochs_50\n"
          ]
        },
        {
          "output_type": "stream",
          "name": "stderr",
          "text": [
            "WARNING:absl:Found untraced functions such as query_layer_call_fn, query_layer_call_and_return_conditional_losses, key_layer_call_fn, key_layer_call_and_return_conditional_losses, value_layer_call_fn while saving (showing 5 of 96). These functions will not be directly callable after loading.\n"
          ]
        },
        {
          "output_type": "stream",
          "name": "stdout",
          "text": [
            "INFO:tensorflow:Assets written to: /content/gdrive/MyDrive/Github/GResearch/G-ResearchCryptoPrediction/models/checkpoints/tf_model_features_8_seqlen_16_tempembedding_False_epochs_50/assets\n"
          ]
        },
        {
          "output_type": "stream",
          "name": "stderr",
          "text": [
            "INFO:tensorflow:Assets written to: /content/gdrive/MyDrive/Github/GResearch/G-ResearchCryptoPrediction/models/checkpoints/tf_model_features_8_seqlen_16_tempembedding_False_epochs_50/assets\n"
          ]
        },
        {
          "output_type": "stream",
          "name": "stdout",
          "text": [
            "\b\b\b\b\b\b\b\b\b\b\b\b\b\b\b\b\b\b\b\b\b\b\b\b\b\b\b\b\b\b\b\b\b\b\b\b\b\b\b\b\b\b\b\b\b\b\b\b\b\b\b\b\b\b\b\b\b\b\b\b\b\b\b\b\b\b\b\b\b\b\b\b\b\b\b\b\b\b\b\b\b\b\b\b\b\b\b\b\b\b\b\b\b\b\b\b\b\b\b\b\b\r892/892 [==============================] - 75s 63ms/step - loss: 0.0314 - mae: 0.0982 - correlation: 0.0353 - val_loss: 0.0111 - val_mae: 0.0555 - val_correlation: 0.0333 - lr: 1.0000e-06\n",
            "\n",
            "Epoch 2: LearningRateScheduler setting learning rate to 6.76e-05.\n",
            "Epoch 2/50\n",
            "891/892 [============================>.] - ETA: 0s - loss: -0.0229 - mae: 0.0410 - correlation: 0.0869\n",
            "Epoch 2: val_loss improved from 0.01108 to -0.08002, saving model to /content/gdrive/MyDrive/Github/GResearch/G-ResearchCryptoPrediction/models/checkpoints/tf_model_features_8_seqlen_16_tempembedding_False_epochs_50\n"
          ]
        },
        {
          "output_type": "stream",
          "name": "stderr",
          "text": [
            "WARNING:absl:Found untraced functions such as query_layer_call_fn, query_layer_call_and_return_conditional_losses, key_layer_call_fn, key_layer_call_and_return_conditional_losses, value_layer_call_fn while saving (showing 5 of 96). These functions will not be directly callable after loading.\n"
          ]
        },
        {
          "output_type": "stream",
          "name": "stdout",
          "text": [
            "INFO:tensorflow:Assets written to: /content/gdrive/MyDrive/Github/GResearch/G-ResearchCryptoPrediction/models/checkpoints/tf_model_features_8_seqlen_16_tempembedding_False_epochs_50/assets\n"
          ]
        },
        {
          "output_type": "stream",
          "name": "stderr",
          "text": [
            "INFO:tensorflow:Assets written to: /content/gdrive/MyDrive/Github/GResearch/G-ResearchCryptoPrediction/models/checkpoints/tf_model_features_8_seqlen_16_tempembedding_False_epochs_50/assets\n"
          ]
        },
        {
          "output_type": "stream",
          "name": "stdout",
          "text": [
            "\b\b\b\b\b\b\b\b\b\b\b\b\b\b\b\b\b\b\b\b\b\b\b\b\b\b\b\b\b\b\b\b\b\b\b\b\b\b\b\b\b\b\b\b\b\b\b\b\b\b\b\b\b\b\b\b\b\b\b\b\b\b\b\b\b\b\b\b\b\b\b\b\b\b\b\b\b\b\b\b\b\b\b\b\b\b\b\b\b\b\b\b\b\b\b\b\b\b\b\b\b\b\r892/892 [==============================] - 56s 63ms/step - loss: -0.0229 - mae: 0.0410 - correlation: 0.0867 - val_loss: -0.0800 - val_mae: 0.0291 - val_correlation: 0.1892 - lr: 6.7600e-05\n",
            "\n",
            "Epoch 3: LearningRateScheduler setting learning rate to 0.0001342.\n",
            "Epoch 3/50\n",
            "891/892 [============================>.] - ETA: 0s - loss: -0.0503 - mae: 0.0333 - correlation: 0.1339\n",
            "Epoch 3: val_loss improved from -0.08002 to -0.10078, saving model to /content/gdrive/MyDrive/Github/GResearch/G-ResearchCryptoPrediction/models/checkpoints/tf_model_features_8_seqlen_16_tempembedding_False_epochs_50\n"
          ]
        },
        {
          "output_type": "stream",
          "name": "stderr",
          "text": [
            "WARNING:absl:Found untraced functions such as query_layer_call_fn, query_layer_call_and_return_conditional_losses, key_layer_call_fn, key_layer_call_and_return_conditional_losses, value_layer_call_fn while saving (showing 5 of 96). These functions will not be directly callable after loading.\n"
          ]
        },
        {
          "output_type": "stream",
          "name": "stdout",
          "text": [
            "INFO:tensorflow:Assets written to: /content/gdrive/MyDrive/Github/GResearch/G-ResearchCryptoPrediction/models/checkpoints/tf_model_features_8_seqlen_16_tempembedding_False_epochs_50/assets\n"
          ]
        },
        {
          "output_type": "stream",
          "name": "stderr",
          "text": [
            "INFO:tensorflow:Assets written to: /content/gdrive/MyDrive/Github/GResearch/G-ResearchCryptoPrediction/models/checkpoints/tf_model_features_8_seqlen_16_tempembedding_False_epochs_50/assets\n"
          ]
        },
        {
          "output_type": "stream",
          "name": "stdout",
          "text": [
            "\b\b\b\b\b\b\b\b\b\b\b\b\b\b\b\b\b\b\b\b\b\b\b\b\b\b\b\b\b\b\b\b\b\b\b\b\b\b\b\b\b\b\b\b\b\b\b\b\b\b\b\b\b\b\b\b\b\b\b\b\b\b\b\b\b\b\b\b\b\b\b\b\b\b\b\b\b\b\b\b\b\b\b\b\b\b\b\b\b\b\b\b\b\b\b\b\b\b\b\b\b\b\r892/892 [==============================] - 56s 63ms/step - loss: -0.0504 - mae: 0.0333 - correlation: 0.1341 - val_loss: -0.1008 - val_mae: 0.0368 - val_correlation: 0.2383 - lr: 1.3420e-04\n",
            "\n",
            "Epoch 4: LearningRateScheduler setting learning rate to 0.00020080000000000003.\n",
            "Epoch 4/50\n",
            "891/892 [============================>.] - ETA: 0s - loss: -0.0573 - mae: 0.0263 - correlation: 0.1408\n",
            "Epoch 4: val_loss improved from -0.10078 to -0.11380, saving model to /content/gdrive/MyDrive/Github/GResearch/G-ResearchCryptoPrediction/models/checkpoints/tf_model_features_8_seqlen_16_tempembedding_False_epochs_50\n"
          ]
        },
        {
          "output_type": "stream",
          "name": "stderr",
          "text": [
            "WARNING:absl:Found untraced functions such as query_layer_call_fn, query_layer_call_and_return_conditional_losses, key_layer_call_fn, key_layer_call_and_return_conditional_losses, value_layer_call_fn while saving (showing 5 of 96). These functions will not be directly callable after loading.\n"
          ]
        },
        {
          "output_type": "stream",
          "name": "stdout",
          "text": [
            "INFO:tensorflow:Assets written to: /content/gdrive/MyDrive/Github/GResearch/G-ResearchCryptoPrediction/models/checkpoints/tf_model_features_8_seqlen_16_tempembedding_False_epochs_50/assets\n"
          ]
        },
        {
          "output_type": "stream",
          "name": "stderr",
          "text": [
            "INFO:tensorflow:Assets written to: /content/gdrive/MyDrive/Github/GResearch/G-ResearchCryptoPrediction/models/checkpoints/tf_model_features_8_seqlen_16_tempembedding_False_epochs_50/assets\n"
          ]
        },
        {
          "output_type": "stream",
          "name": "stdout",
          "text": [
            "\b\b\b\b\b\b\b\b\b\b\b\b\b\b\b\b\b\b\b\b\b\b\b\b\b\b\b\b\b\b\b\b\b\b\b\b\b\b\b\b\b\b\b\b\b\b\b\b\b\b\b\b\b\b\b\b\b\b\b\b\b\b\b\b\b\b\b\b\b\b\b\b\b\b\b\b\b\b\b\b\b\b\b\b\b\b\b\b\b\b\b\b\b\b\b\b\b\b\b\b\b\b\r892/892 [==============================] - 56s 63ms/step - loss: -0.0573 - mae: 0.0263 - correlation: 0.1409 - val_loss: -0.1138 - val_mae: 0.0130 - val_correlation: 0.2406 - lr: 2.0080e-04\n",
            "\n",
            "Epoch 5: LearningRateScheduler setting learning rate to 0.00026740000000000005.\n",
            "Epoch 5/50\n",
            "891/892 [============================>.] - ETA: 0s - loss: -0.0648 - mae: 0.0198 - correlation: 0.1494\n",
            "Epoch 5: val_loss did not improve from -0.11380\n",
            "892/892 [==============================] - 44s 49ms/step - loss: -0.0647 - mae: 0.0198 - correlation: 0.1493 - val_loss: -0.0806 - val_mae: 0.0147 - val_correlation: 0.1759 - lr: 2.6740e-04\n",
            "\n",
            "Epoch 6: LearningRateScheduler setting learning rate to 0.00033400000000000004.\n",
            "Epoch 6/50\n",
            "891/892 [============================>.] - ETA: 0s - loss: -0.0688 - mae: 0.0140 - correlation: 0.1516\n",
            "Epoch 6: val_loss improved from -0.11380 to -0.11409, saving model to /content/gdrive/MyDrive/Github/GResearch/G-ResearchCryptoPrediction/models/checkpoints/tf_model_features_8_seqlen_16_tempembedding_False_epochs_50\n"
          ]
        },
        {
          "output_type": "stream",
          "name": "stderr",
          "text": [
            "WARNING:absl:Found untraced functions such as query_layer_call_fn, query_layer_call_and_return_conditional_losses, key_layer_call_fn, key_layer_call_and_return_conditional_losses, value_layer_call_fn while saving (showing 5 of 96). These functions will not be directly callable after loading.\n"
          ]
        },
        {
          "output_type": "stream",
          "name": "stdout",
          "text": [
            "INFO:tensorflow:Assets written to: /content/gdrive/MyDrive/Github/GResearch/G-ResearchCryptoPrediction/models/checkpoints/tf_model_features_8_seqlen_16_tempembedding_False_epochs_50/assets\n"
          ]
        },
        {
          "output_type": "stream",
          "name": "stderr",
          "text": [
            "INFO:tensorflow:Assets written to: /content/gdrive/MyDrive/Github/GResearch/G-ResearchCryptoPrediction/models/checkpoints/tf_model_features_8_seqlen_16_tempembedding_False_epochs_50/assets\n"
          ]
        },
        {
          "output_type": "stream",
          "name": "stdout",
          "text": [
            "\b\b\b\b\b\b\b\b\b\b\b\b\b\b\b\b\b\b\b\b\b\b\b\b\b\b\b\b\b\b\b\b\b\b\b\b\b\b\b\b\b\b\b\b\b\b\b\b\b\b\b\b\b\b\b\b\b\b\b\b\b\b\b\b\b\b\b\b\b\b\b\b\b\b\b\b\b\b\b\b\b\b\b\b\b\b\b\b\b\b\b\b\b\b\b\b\b\b\b\b\b\b\r892/892 [==============================] - 56s 63ms/step - loss: -0.0687 - mae: 0.0140 - correlation: 0.1513 - val_loss: -0.1141 - val_mae: 0.0072 - val_correlation: 0.2354 - lr: 3.3400e-04\n",
            "\n",
            "Epoch 7: LearningRateScheduler setting learning rate to 0.0004006000000000001.\n",
            "Epoch 7/50\n",
            "891/892 [============================>.] - ETA: 0s - loss: -0.0723 - mae: 0.0115 - correlation: 0.1561\n",
            "Epoch 7: val_loss improved from -0.11409 to -0.12296, saving model to /content/gdrive/MyDrive/Github/GResearch/G-ResearchCryptoPrediction/models/checkpoints/tf_model_features_8_seqlen_16_tempembedding_False_epochs_50\n"
          ]
        },
        {
          "output_type": "stream",
          "name": "stderr",
          "text": [
            "WARNING:absl:Found untraced functions such as query_layer_call_fn, query_layer_call_and_return_conditional_losses, key_layer_call_fn, key_layer_call_and_return_conditional_losses, value_layer_call_fn while saving (showing 5 of 96). These functions will not be directly callable after loading.\n"
          ]
        },
        {
          "output_type": "stream",
          "name": "stdout",
          "text": [
            "INFO:tensorflow:Assets written to: /content/gdrive/MyDrive/Github/GResearch/G-ResearchCryptoPrediction/models/checkpoints/tf_model_features_8_seqlen_16_tempembedding_False_epochs_50/assets\n"
          ]
        },
        {
          "output_type": "stream",
          "name": "stderr",
          "text": [
            "INFO:tensorflow:Assets written to: /content/gdrive/MyDrive/Github/GResearch/G-ResearchCryptoPrediction/models/checkpoints/tf_model_features_8_seqlen_16_tempembedding_False_epochs_50/assets\n"
          ]
        },
        {
          "output_type": "stream",
          "name": "stdout",
          "text": [
            "\b\b\b\b\b\b\b\b\b\b\b\b\b\b\b\b\b\b\b\b\b\b\b\b\b\b\b\b\b\b\b\b\b\b\b\b\b\b\b\b\b\b\b\b\b\b\b\b\b\b\b\b\b\b\b\b\b\b\b\b\b\b\b\b\b\b\b\b\b\b\b\b\b\b\b\b\b\b\b\b\b\b\b\b\b\b\b\b\b\b\b\b\b\b\b\b\b\b\b\b\b\b\r892/892 [==============================] - 56s 63ms/step - loss: -0.0723 - mae: 0.0115 - correlation: 0.1561 - val_loss: -0.1230 - val_mae: 0.0088 - val_correlation: 0.2547 - lr: 4.0060e-04\n",
            "\n",
            "Epoch 8: LearningRateScheduler setting learning rate to 0.0004672000000000001.\n",
            "Epoch 8/50\n",
            "891/892 [============================>.] - ETA: 0s - loss: -0.0775 - mae: 0.0109 - correlation: 0.1658\n",
            "Epoch 8: val_loss did not improve from -0.12296\n",
            "892/892 [==============================] - 44s 49ms/step - loss: -0.0774 - mae: 0.0109 - correlation: 0.1658 - val_loss: -0.1224 - val_mae: 0.0093 - val_correlation: 0.2542 - lr: 4.6720e-04\n",
            "\n",
            "Epoch 9: LearningRateScheduler setting learning rate to 0.0005338000000000001.\n",
            "Epoch 9/50\n",
            "892/892 [==============================] - ETA: 0s - loss: -0.0817 - mae: 0.0104 - correlation: 0.1738\n",
            "Epoch 9: val_loss did not improve from -0.12296\n",
            "892/892 [==============================] - 44s 49ms/step - loss: -0.0817 - mae: 0.0104 - correlation: 0.1738 - val_loss: -0.0980 - val_mae: 0.0108 - val_correlation: 0.2069 - lr: 5.3380e-04\n",
            "\n",
            "Epoch 10: LearningRateScheduler setting learning rate to 0.0006004000000000001.\n",
            "Epoch 10/50\n",
            "892/892 [==============================] - ETA: 0s - loss: -0.0881 - mae: 0.0096 - correlation: 0.1858\n",
            "Epoch 10: val_loss improved from -0.12296 to -0.12464, saving model to /content/gdrive/MyDrive/Github/GResearch/G-ResearchCryptoPrediction/models/checkpoints/tf_model_features_8_seqlen_16_tempembedding_False_epochs_50\n"
          ]
        },
        {
          "output_type": "stream",
          "name": "stderr",
          "text": [
            "WARNING:absl:Found untraced functions such as query_layer_call_fn, query_layer_call_and_return_conditional_losses, key_layer_call_fn, key_layer_call_and_return_conditional_losses, value_layer_call_fn while saving (showing 5 of 96). These functions will not be directly callable after loading.\n"
          ]
        },
        {
          "output_type": "stream",
          "name": "stdout",
          "text": [
            "INFO:tensorflow:Assets written to: /content/gdrive/MyDrive/Github/GResearch/G-ResearchCryptoPrediction/models/checkpoints/tf_model_features_8_seqlen_16_tempembedding_False_epochs_50/assets\n"
          ]
        },
        {
          "output_type": "stream",
          "name": "stderr",
          "text": [
            "INFO:tensorflow:Assets written to: /content/gdrive/MyDrive/Github/GResearch/G-ResearchCryptoPrediction/models/checkpoints/tf_model_features_8_seqlen_16_tempembedding_False_epochs_50/assets\n"
          ]
        },
        {
          "output_type": "stream",
          "name": "stdout",
          "text": [
            "\b\b\b\b\b\b\b\b\b\b\b\b\b\b\b\b\b\b\b\b\b\b\b\b\b\b\b\b\b\b\b\b\b\b\b\b\b\b\b\b\b\b\b\b\b\b\b\b\b\b\b\b\b\b\b\b\b\b\b\b\b\b\b\b\b\b\b\b\b\b\b\b\b\b\b\b\b\b\b\b\b\b\b\b\b\b\b\b\b\b\b\b\b\b\b\b\b\b\b\b\b\b\r892/892 [==============================] - 56s 63ms/step - loss: -0.0881 - mae: 0.0096 - correlation: 0.1858 - val_loss: -0.1246 - val_mae: 0.0081 - val_correlation: 0.2574 - lr: 6.0040e-04\n",
            "\n",
            "Epoch 11: LearningRateScheduler setting learning rate to 0.0006670000000000001.\n",
            "Epoch 11/50\n",
            "891/892 [============================>.] - ETA: 0s - loss: -0.0956 - mae: 0.0102 - correlation: 0.2014\n",
            "Epoch 11: val_loss did not improve from -0.12464\n",
            "892/892 [==============================] - 44s 50ms/step - loss: -0.0957 - mae: 0.0102 - correlation: 0.2016 - val_loss: -0.1098 - val_mae: 0.0080 - val_correlation: 0.2276 - lr: 6.6700e-04\n",
            "\n",
            "Epoch 12: LearningRateScheduler setting learning rate to 0.0007336.\n",
            "Epoch 12/50\n",
            "891/892 [============================>.] - ETA: 0s - loss: -0.0968 - mae: 0.0110 - correlation: 0.2046\n",
            "Epoch 12: val_loss improved from -0.12464 to -0.13100, saving model to /content/gdrive/MyDrive/Github/GResearch/G-ResearchCryptoPrediction/models/checkpoints/tf_model_features_8_seqlen_16_tempembedding_False_epochs_50\n"
          ]
        },
        {
          "output_type": "stream",
          "name": "stderr",
          "text": [
            "WARNING:absl:Found untraced functions such as query_layer_call_fn, query_layer_call_and_return_conditional_losses, key_layer_call_fn, key_layer_call_and_return_conditional_losses, value_layer_call_fn while saving (showing 5 of 96). These functions will not be directly callable after loading.\n"
          ]
        },
        {
          "output_type": "stream",
          "name": "stdout",
          "text": [
            "INFO:tensorflow:Assets written to: /content/gdrive/MyDrive/Github/GResearch/G-ResearchCryptoPrediction/models/checkpoints/tf_model_features_8_seqlen_16_tempembedding_False_epochs_50/assets\n"
          ]
        },
        {
          "output_type": "stream",
          "name": "stderr",
          "text": [
            "INFO:tensorflow:Assets written to: /content/gdrive/MyDrive/Github/GResearch/G-ResearchCryptoPrediction/models/checkpoints/tf_model_features_8_seqlen_16_tempembedding_False_epochs_50/assets\n"
          ]
        },
        {
          "output_type": "stream",
          "name": "stdout",
          "text": [
            "\b\b\b\b\b\b\b\b\b\b\b\b\b\b\b\b\b\b\b\b\b\b\b\b\b\b\b\b\b\b\b\b\b\b\b\b\b\b\b\b\b\b\b\b\b\b\b\b\b\b\b\b\b\b\b\b\b\b\b\b\b\b\b\b\b\b\b\b\b\b\b\b\b\b\b\b\b\b\b\b\b\b\b\b\b\b\b\b\b\b\b\b\b\b\b\b\b\b\b\b\b\b\r892/892 [==============================] - 56s 63ms/step - loss: -0.0970 - mae: 0.0109 - correlation: 0.2049 - val_loss: -0.1310 - val_mae: 0.0072 - val_correlation: 0.2692 - lr: 7.3360e-04\n",
            "\n",
            "Epoch 13: LearningRateScheduler setting learning rate to 0.0008002000000000002.\n",
            "Epoch 13/50\n",
            "892/892 [==============================] - ETA: 0s - loss: -0.1018 - mae: 0.0104 - correlation: 0.2140\n",
            "Epoch 13: val_loss improved from -0.13100 to -0.13420, saving model to /content/gdrive/MyDrive/Github/GResearch/G-ResearchCryptoPrediction/models/checkpoints/tf_model_features_8_seqlen_16_tempembedding_False_epochs_50\n"
          ]
        },
        {
          "output_type": "stream",
          "name": "stderr",
          "text": [
            "WARNING:absl:Found untraced functions such as query_layer_call_fn, query_layer_call_and_return_conditional_losses, key_layer_call_fn, key_layer_call_and_return_conditional_losses, value_layer_call_fn while saving (showing 5 of 96). These functions will not be directly callable after loading.\n"
          ]
        },
        {
          "output_type": "stream",
          "name": "stdout",
          "text": [
            "INFO:tensorflow:Assets written to: /content/gdrive/MyDrive/Github/GResearch/G-ResearchCryptoPrediction/models/checkpoints/tf_model_features_8_seqlen_16_tempembedding_False_epochs_50/assets\n"
          ]
        },
        {
          "output_type": "stream",
          "name": "stderr",
          "text": [
            "INFO:tensorflow:Assets written to: /content/gdrive/MyDrive/Github/GResearch/G-ResearchCryptoPrediction/models/checkpoints/tf_model_features_8_seqlen_16_tempembedding_False_epochs_50/assets\n"
          ]
        },
        {
          "output_type": "stream",
          "name": "stdout",
          "text": [
            "\b\b\b\b\b\b\b\b\b\b\b\b\b\b\b\b\b\b\b\b\b\b\b\b\b\b\b\b\b\b\b\b\b\b\b\b\b\b\b\b\b\b\b\b\b\b\b\b\b\b\b\b\b\b\b\b\b\b\b\b\b\b\b\b\b\b\b\b\b\b\b\b\b\b\b\b\b\b\b\b\b\b\b\b\b\b\b\b\b\b\b\b\b\b\b\b\b\b\b\b\b\b\r892/892 [==============================] - 56s 63ms/step - loss: -0.1018 - mae: 0.0104 - correlation: 0.2140 - val_loss: -0.1342 - val_mae: 0.0070 - val_correlation: 0.2754 - lr: 8.0020e-04\n",
            "\n",
            "Epoch 14: LearningRateScheduler setting learning rate to 0.0008668000000000001.\n",
            "Epoch 14/50\n",
            "892/892 [==============================] - ETA: 0s - loss: -0.1002 - mae: 0.0111 - correlation: 0.2115\n",
            "Epoch 14: val_loss did not improve from -0.13420\n",
            "892/892 [==============================] - 43s 49ms/step - loss: -0.1002 - mae: 0.0111 - correlation: 0.2115 - val_loss: -0.1313 - val_mae: 0.0055 - val_correlation: 0.2680 - lr: 8.6680e-04\n",
            "\n",
            "Epoch 15: LearningRateScheduler setting learning rate to 0.0009334000000000001.\n",
            "Epoch 15/50\n",
            "891/892 [============================>.] - ETA: 0s - loss: -0.1025 - mae: 0.0108 - correlation: 0.2158\n",
            "Epoch 15: val_loss improved from -0.13420 to -0.13742, saving model to /content/gdrive/MyDrive/Github/GResearch/G-ResearchCryptoPrediction/models/checkpoints/tf_model_features_8_seqlen_16_tempembedding_False_epochs_50\n"
          ]
        },
        {
          "output_type": "stream",
          "name": "stderr",
          "text": [
            "WARNING:absl:Found untraced functions such as query_layer_call_fn, query_layer_call_and_return_conditional_losses, key_layer_call_fn, key_layer_call_and_return_conditional_losses, value_layer_call_fn while saving (showing 5 of 96). These functions will not be directly callable after loading.\n"
          ]
        },
        {
          "output_type": "stream",
          "name": "stdout",
          "text": [
            "INFO:tensorflow:Assets written to: /content/gdrive/MyDrive/Github/GResearch/G-ResearchCryptoPrediction/models/checkpoints/tf_model_features_8_seqlen_16_tempembedding_False_epochs_50/assets\n"
          ]
        },
        {
          "output_type": "stream",
          "name": "stderr",
          "text": [
            "INFO:tensorflow:Assets written to: /content/gdrive/MyDrive/Github/GResearch/G-ResearchCryptoPrediction/models/checkpoints/tf_model_features_8_seqlen_16_tempembedding_False_epochs_50/assets\n"
          ]
        },
        {
          "output_type": "stream",
          "name": "stdout",
          "text": [
            "\b\b\b\b\b\b\b\b\b\b\b\b\b\b\b\b\b\b\b\b\b\b\b\b\b\b\b\b\b\b\b\b\b\b\b\b\b\b\b\b\b\b\b\b\b\b\b\b\b\b\b\b\b\b\b\b\b\b\b\b\b\b\b\b\b\b\b\b\b\b\b\b\b\b\b\b\b\b\b\b\b\b\b\b\b\b\b\b\b\b\b\b\b\b\b\b\b\b\b\b\b\b\r892/892 [==============================] - 55s 62ms/step - loss: -0.1025 - mae: 0.0108 - correlation: 0.2157 - val_loss: -0.1374 - val_mae: 0.0058 - val_correlation: 0.2806 - lr: 9.3340e-04\n",
            "\n",
            "Epoch 16: LearningRateScheduler setting learning rate to 0.001.\n",
            "Epoch 16/50\n",
            "891/892 [============================>.] - ETA: 0s - loss: -0.1048 - mae: 0.0106 - correlation: 0.2203\n",
            "Epoch 16: val_loss did not improve from -0.13742\n",
            "892/892 [==============================] - 44s 49ms/step - loss: -0.1046 - mae: 0.0106 - correlation: 0.2199 - val_loss: -0.1348 - val_mae: 0.0068 - val_correlation: 0.2763 - lr: 0.0010\n",
            "\n",
            "Epoch 17: LearningRateScheduler setting learning rate to 0.0009905.\n",
            "Epoch 17/50\n",
            "891/892 [============================>.] - ETA: 0s - loss: -0.1067 - mae: 0.0114 - correlation: 0.2247\n",
            "Epoch 17: val_loss did not improve from -0.13742\n",
            "892/892 [==============================] - 44s 49ms/step - loss: -0.1065 - mae: 0.0113 - correlation: 0.2244 - val_loss: -0.1179 - val_mae: 0.0056 - val_correlation: 0.2414 - lr: 9.9050e-04\n",
            "\n",
            "Epoch 18: LearningRateScheduler setting learning rate to 0.0009809999999999999.\n",
            "Epoch 18/50\n",
            "892/892 [==============================] - ETA: 0s - loss: -0.1100 - mae: 0.0107 - correlation: 0.2306\n",
            "Epoch 18: val_loss did not improve from -0.13742\n",
            "892/892 [==============================] - 44s 49ms/step - loss: -0.1100 - mae: 0.0107 - correlation: 0.2306 - val_loss: -0.1296 - val_mae: 0.0099 - val_correlation: 0.2690 - lr: 9.8100e-04\n",
            "\n",
            "Epoch 19: LearningRateScheduler setting learning rate to 0.0009715.\n",
            "Epoch 19/50\n",
            "891/892 [============================>.] - ETA: 0s - loss: -0.1087 - mae: 0.0106 - correlation: 0.2281\n",
            "Epoch 19: val_loss did not improve from -0.13742\n",
            "892/892 [==============================] - 44s 49ms/step - loss: -0.1088 - mae: 0.0106 - correlation: 0.2281 - val_loss: -0.1233 - val_mae: 0.0075 - val_correlation: 0.2542 - lr: 9.7150e-04\n",
            "\n",
            "Epoch 20: LearningRateScheduler setting learning rate to 0.000962.\n",
            "Epoch 20/50\n",
            "891/892 [============================>.] - ETA: 0s - loss: -0.1136 - mae: 0.0095 - correlation: 0.2368\n",
            "Epoch 20: val_loss did not improve from -0.13742\n",
            "892/892 [==============================] - 44s 49ms/step - loss: -0.1135 - mae: 0.0095 - correlation: 0.2365 - val_loss: -0.1139 - val_mae: 0.0075 - val_correlation: 0.2353 - lr: 9.6200e-04\n",
            "111/111 [==============================] - 2s 21ms/step - loss: -0.1120 - mae: 0.0031 - correlation: 0.2271\n"
          ]
        },
        {
          "output_type": "execute_result",
          "data": {
            "text/plain": [
              "[-0.11199849843978882, 0.0030867471359670162, 0.22708377242088318]"
            ]
          },
          "metadata": {},
          "execution_count": 24
        }
      ]
    },
    {
      "cell_type": "code",
      "source": [
        "# tf.keras.utils.plot_model(get_model(), show_shapes=True)"
      ],
      "metadata": {
        "papermill": {
          "duration": 6.240302,
          "end_time": "2021-11-29T18:09:55.791092",
          "exception": false,
          "start_time": "2021-11-29T18:09:49.55079",
          "status": "completed"
        },
        "tags": [],
        "execution": {
          "iopub.status.busy": "2022-02-17T00:59:13.605398Z",
          "iopub.execute_input": "2022-02-17T00:59:13.605663Z",
          "iopub.status.idle": "2022-02-17T00:59:13.610915Z",
          "shell.execute_reply.started": "2022-02-17T00:59:13.605628Z",
          "shell.execute_reply": "2022-02-17T00:59:13.608967Z"
        },
        "trusted": true,
        "id": "xUVEr5uZgdaw"
      },
      "execution_count": 34,
      "outputs": []
    },
    {
      "cell_type": "code",
      "source": [
        "# load custom model from gdrive and compile\n",
        "# model = keras.models.load_model(model_filepath, compile=False) # ,custom_objects={'loss_func':loss_func})\n",
        "# model.compile(\n",
        "#     loss=loss_func,\n",
        "#     optimizer=keras.optimizers.Adam(learning_rate=1e-2),\n",
        "#     metrics=[\"mae\", tfp.stats.correlation],\n",
        "# )\n",
        "\n",
        "# history = pd.read_csv('training.log', sep=',', engine='python')"
      ],
      "metadata": {
        "papermill": {
          "duration": 791.992821,
          "end_time": "2021-11-29T18:23:07.875583",
          "exception": false,
          "start_time": "2021-11-29T18:09:55.882762",
          "status": "completed"
        },
        "tags": [],
        "execution": {
          "iopub.status.busy": "2022-02-17T00:59:13.613208Z",
          "iopub.execute_input": "2022-02-17T00:59:13.613664Z",
          "iopub.status.idle": "2022-02-17T00:59:13.619716Z",
          "shell.execute_reply.started": "2022-02-17T00:59:13.613625Z",
          "shell.execute_reply": "2022-02-17T00:59:13.618913Z"
        },
        "trusted": true,
        "id": "-P7xiiNsgdax"
      },
      "execution_count": null,
      "outputs": []
    },
    {
      "cell_type": "code",
      "source": [
        ""
      ],
      "metadata": {
        "id": "NMxVpq3LyREN"
      },
      "execution_count": null,
      "outputs": []
    },
    {
      "cell_type": "code",
      "source": [
        "plt.plot(history.history['val_loss'], label= \"validation_loss\")\n",
        "plt.plot(history.history['loss'], label= \"train_loss\")\n",
        "plt.legend(loc=\"upper left\", bbox_to_anchor=(1, 0.5))\n",
        "plt.show()"
      ],
      "metadata": {
        "execution": {
          "iopub.status.busy": "2022-02-17T00:59:13.620719Z",
          "iopub.execute_input": "2022-02-17T00:59:13.620977Z",
          "iopub.status.idle": "2022-02-17T00:59:13.834846Z",
          "shell.execute_reply.started": "2022-02-17T00:59:13.620926Z",
          "shell.execute_reply": "2022-02-17T00:59:13.834207Z"
        },
        "trusted": true,
        "colab": {
          "base_uri": "https://localhost:8080/",
          "height": 265
        },
        "id": "o5Xag6hqgday",
        "outputId": "2c3e0aaa-cdb8-4765-ff4f-c5976cb602ed"
      },
      "execution_count": 35,
      "outputs": [
        {
          "output_type": "display_data",
          "data": {
            "image/png": "[encoded data removed]",
            "text/plain": [
              "<Figure size 432x288 with 1 Axes>"
            ]
          },
          "metadata": {
            "needs_background": "light"
          }
        }
      ]
    },
    {
      "cell_type": "code",
      "source": [
        "plt.plot(history.history['val_mae'], label= \"validation metric (mae)\")\n",
        "plt.plot(history.history['mae'], label= \"train metric (mae)\")\n",
        "plt.legend(loc=\"upper left\", bbox_to_anchor=(1, 0.5))\n",
        "plt.show()"
      ],
      "metadata": {
        "execution": {
          "iopub.status.busy": "2022-02-17T00:59:13.836128Z",
          "iopub.execute_input": "2022-02-17T00:59:13.836366Z",
          "iopub.status.idle": "2022-02-17T00:59:14.056202Z",
          "shell.execute_reply.started": "2022-02-17T00:59:13.836333Z",
          "shell.execute_reply": "2022-02-17T00:59:14.055496Z"
        },
        "trusted": true,
        "colab": {
          "base_uri": "https://localhost:8080/",
          "height": 265
        },
        "id": "nfdEIm0mgdaz",
        "outputId": "48d4f5c4-0409-46c0-ec54-6d8030e03183"
      },
      "execution_count": 36,
      "outputs": [
        {
          "output_type": "display_data",
          "data": {
            "image/png": "[encoded data removed]",
            "text/plain": [
              "<Figure size 432x288 with 1 Axes>"
            ]
          },
          "metadata": {
            "needs_background": "light"
          }
        }
      ]
    },
    {
      "cell_type": "code",
      "source": [
        "history.history.keys()"
      ],
      "metadata": {
        "execution": {
          "iopub.status.busy": "2022-02-17T00:59:14.057348Z",
          "iopub.execute_input": "2022-02-17T00:59:14.058255Z",
          "iopub.status.idle": "2022-02-17T00:59:14.063936Z",
          "shell.execute_reply.started": "2022-02-17T00:59:14.058214Z",
          "shell.execute_reply": "2022-02-17T00:59:14.063131Z"
        },
        "trusted": true,
        "colab": {
          "base_uri": "https://localhost:8080/"
        },
        "id": "IWgwFtE0gdaz",
        "outputId": "e1d9f883-c1c2-49b9-c62d-98fd0e7a58ae"
      },
      "execution_count": 37,
      "outputs": [
        {
          "output_type": "execute_result",
          "data": {
            "text/plain": [
              "dict_keys(['loss', 'mae', 'correlation', 'val_loss', 'val_mae', 'val_correlation', 'lr'])"
            ]
          },
          "metadata": {},
          "execution_count": 37
        }
      ]
    },
    {
      "cell_type": "code",
      "source": [
        "plt.plot(history.history['val_correlation'], label= \"validation metric W-Corr\")\n",
        "plt.plot(history.history['correlation'], label= \"train metric W-Corr\")\n",
        "plt.legend(loc=\"upper left\", bbox_to_anchor=(1, 0.5))\n",
        "plt.show()"
      ],
      "metadata": {
        "execution": {
          "iopub.status.busy": "2022-02-17T00:59:14.065698Z",
          "iopub.execute_input": "2022-02-17T00:59:14.066047Z",
          "iopub.status.idle": "2022-02-17T00:59:14.281173Z",
          "shell.execute_reply.started": "2022-02-17T00:59:14.066013Z",
          "shell.execute_reply": "2022-02-17T00:59:14.280453Z"
        },
        "trusted": true,
        "colab": {
          "base_uri": "https://localhost:8080/",
          "height": 266
        },
        "id": "eUm5j_C1gda0",
        "outputId": "db5988f8-d7dd-4a12-a41d-c7c7254fa194"
      },
      "execution_count": 38,
      "outputs": [
        {
          "output_type": "display_data",
          "data": {
            "image/png": "[encoded data removed]",
            "text/plain": [
              "<Figure size 432x288 with 1 Axes>"
            ]
          },
          "metadata": {
            "needs_background": "light"
          }
        }
      ]
    },
    {
      "cell_type": "code",
      "source": [
        "# create predictions on training set\n",
        "predictions = model.predict(train_generator)\n",
        "y_true = []\n",
        "for x,y in train_generator: y_true.append(y)\n",
        "y_true = np.squeeze(np.concatenate(y_true), axis=-1)\n",
        "\n",
        "\n",
        "print(predictions.shape, y_true.shape)\n",
        "assert predictions.shape == y_true.shape, f\"{predictions.shape}, {y_true.shape}\"\n",
        "\n",
        "# Evaluate predictions on validation set\n",
        "print(\"Window Size: \", WINDOW_SIZE)\n",
        "print(\"Prediction length: \", prediction_length)\n",
        "print(\"Epochs: \", EPOCHS)\n",
        "\n",
        "print('---------------------')\n",
        "print('Asset:    Corr. coef.')\n",
        "print('---------------------')\n",
        "asset_w_corr = []\n",
        "asset_corrs = []\n",
        "asset_mae = []\n",
        "y_true = np.squeeze(y_true)\n",
        "y_pred = np.squeeze(predictions)\n",
        "real_target_ind = np.argwhere(y_true!=0)\n",
        "# asset_id = list(assets_order.keys())[i]\n",
        "# asset_name = assets[assets.Asset_ID == asset_id]['Asset_Name'].item()\n",
        "mae_asset = mae(y_true, y_pred)\n",
        "asset_corr = np.corrcoef(np.nan_to_num(y_pred.flatten()), np.nan_to_num(y_true.flatten()))[0,1]\n",
        "\n",
        "print(f\"corr: {asset_corr:.4f}\")\n",
        "print(f\"mae: {mae_asset:.4f}\")\n",
        "print(\"\\n\")\n",
        "print(f\"Predictions Min: {predictions.min()}, Predictions Max: {predictions.max()}, Predictions mean:{predictions.mean()}, Predictions var:{predictions.var()}\") \n",
        "print(f\"y_true Min: {y_true.min()}, y_true Max: {y_true.max()}, y_true mean:{y_true.mean()}, y_true var:{y_true.var()}\") "
      ],
      "metadata": {
        "execution": {
          "iopub.status.busy": "2022-02-17T00:59:14.283396Z",
          "iopub.execute_input": "2022-02-17T00:59:14.284233Z",
          "iopub.status.idle": "2022-02-17T00:59:25.446139Z",
          "shell.execute_reply.started": "2022-02-17T00:59:14.284191Z",
          "shell.execute_reply": "2022-02-17T00:59:25.44524Z"
        },
        "trusted": true,
        "colab": {
          "base_uri": "https://localhost:8080/"
        },
        "id": "05KQCO5-gda2",
        "outputId": "eb6443a2-a105-4b5b-e03c-36ae0555d63f"
      },
      "execution_count": 39,
      "outputs": [
        {
          "output_type": "stream",
          "name": "stdout",
          "text": [
            "(28544, 1) (28544, 1)\n",
            "Window Size:  16\n",
            "Prediction length:  1\n",
            "Epochs:  20\n",
            "---------------------\n",
            "Asset:    Corr. coef.\n",
            "---------------------\n",
            "corr: 0.1021\n",
            "mae: 0.0116\n",
            "\n",
            "\n",
            "Predictions Min: -0.6278424859046936, Predictions Max: 0.09584435075521469, Predictions mean:-0.005062198266386986, Predictions var:0.0005257388111203909\n",
            "y_true Min: -0.06692692637443542, y_true Max: 0.12924709916114807, y_true mean:9.636100730858743e-05, y_true var:2.547991789469961e-05\n"
          ]
        }
      ]
    },
    {
      "cell_type": "code",
      "source": [
        "# create predictions on validation set\n",
        "predictions = model.predict(val_generator)\n",
        "y_true = []\n",
        "for x,y in val_generator: y_true.append(y)\n",
        "y_true = np.squeeze(np.concatenate(y_true), axis=-1)\n",
        "\n",
        "\n",
        "print(predictions.shape, y_true.shape)\n",
        "assert predictions.shape == y_true.shape, f\"{predictions.shape}, {y_true.shape}\"\n",
        "\n",
        "# Evaluate predictions on validation set\n",
        "print(\"Window Size: \", WINDOW_SIZE)\n",
        "print(\"Prediction length: \", prediction_length)\n",
        "print(\"Epochs: \", EPOCHS)\n",
        "\n",
        "print('---------------------')\n",
        "print('Asset:    Corr. coef.')\n",
        "print('---------------------')\n",
        "asset_w_corr = []\n",
        "asset_corrs = []\n",
        "asset_mae = []\n",
        "y_true = np.squeeze(y_true)\n",
        "y_pred = np.squeeze(predictions)\n",
        "real_target_ind = np.argwhere(y_true!=0)\n",
        "# asset_id = list(assets_order.keys())[i]\n",
        "# asset_name = assets[assets.Asset_ID == asset_id]['Asset_Name'].item()\n",
        "mae_asset = mae(y_true, y_pred)\n",
        "asset_corr = np.corrcoef(np.nan_to_num(y_pred.flatten()), np.nan_to_num(y_true.flatten()))[0,1]\n",
        "\n",
        "print(f\"corr: {asset_corr:.4f}\")\n",
        "print(f\"mae: {mae_asset:.4f}\")\n",
        "print(\"\\n\")\n",
        "print(f\"Predictions Min: {predictions.min()}, Predictions Max: {predictions.max()}, Predictions mean:{predictions.mean()}, Predictions var:{predictions.var()}\") \n",
        "print(f\"y_true Min: {y_true.min()}, y_true Max: {y_true.max()}, y_true mean:{y_true.mean()}, y_true var:{y_true.var()}\") "
      ],
      "metadata": {
        "execution": {
          "iopub.status.busy": "2022-02-17T00:59:25.448301Z",
          "iopub.execute_input": "2022-02-17T00:59:25.448786Z",
          "iopub.status.idle": "2022-02-17T00:59:26.72903Z",
          "shell.execute_reply.started": "2022-02-17T00:59:25.448742Z",
          "shell.execute_reply": "2022-02-17T00:59:26.727478Z"
        },
        "trusted": true,
        "colab": {
          "base_uri": "https://localhost:8080/"
        },
        "id": "VOXCGhkQgda3",
        "outputId": "2b4edc2d-e08a-437c-be07-5ff3059350db"
      },
      "execution_count": 40,
      "outputs": [
        {
          "output_type": "stream",
          "name": "stdout",
          "text": [
            "(3456, 1) (3456, 1)\n",
            "Window Size:  16\n",
            "Prediction length:  1\n",
            "Epochs:  20\n",
            "---------------------\n",
            "Asset:    Corr. coef.\n",
            "---------------------\n",
            "corr: 0.1795\n",
            "mae: 0.0055\n",
            "\n",
            "\n",
            "Predictions Min: -0.05557682737708092, Predictions Max: 0.016026493161916733, Predictions mean:-0.0012807314051315188, Predictions var:6.316607323242351e-05\n",
            "y_true Min: -0.00931723602116108, y_true Max: 0.010553549975156784, y_true mean:-0.00015768840967211872, y_true var:5.8620539675757755e-06\n"
          ]
        }
      ]
    },
    {
      "cell_type": "code",
      "source": [
        "# create predictions on validation set\n",
        "predictions = model.predict(test_generator)\n",
        "y_true = []\n",
        "for x,y in test_generator: y_true.append(y)\n",
        "y_true = np.squeeze(np.concatenate(y_true), axis=-1)\n",
        "\n",
        "\n",
        "print(predictions.shape, y_true.shape)\n",
        "assert predictions.shape == y_true.shape, f\"{predictions.shape}, {y_true.shape}\"\n",
        "\n",
        "# Evaluate predictions on validation set\n",
        "print(\"Window Size: \", WINDOW_SIZE)\n",
        "print(\"Prediction length: \", prediction_length)\n",
        "print(\"Epochs: \", EPOCHS)\n",
        "\n",
        "asset_w_corr = []\n",
        "asset_corrs = []\n",
        "asset_mae = []\n",
        "y_true = np.squeeze(y_true)\n",
        "predictions = np.squeeze(predictions)\n",
        "real_target_ind = np.argwhere(y_true!=0)\n",
        "# asset_id = list(assets_order.keys())[i]\n",
        "# asset_name = assets[assets.Asset_ID == asset_id]['Asset_Name'].item()\n",
        "mae_asset = mae(y_true, predictions)\n",
        "asset_corr = np.corrcoef(np.nan_to_num(y_pred.flatten()), np.nan_to_num(y_true.flatten()))[0,1]\n",
        "\n",
        "print('---------------------')\n",
        "print('Asset:    Corr. coef.')\n",
        "print('---------------------')\n",
        "print(f\"corr: {asset_corr:.4f}\")\n",
        "print(f\"mae: {mae_asset:.4f}\")\n",
        "print(\"\\n\")\n",
        "print(f\"Predictions Min: {predictions.min()}, Predictions Max: {predictions.max()}, Predictions mean:{predictions.mean()}, Predictions var:{predictions.var()}\") \n",
        "print(f\"y_true Min: {y_true.min()}, y_true Max: {y_true.max()}, y_true mean:{y_true.mean()}, y_true var:{y_true.var()}\") \n",
        "\n"
      ],
      "metadata": {
        "execution": {
          "iopub.status.busy": "2022-02-17T00:59:26.731599Z",
          "iopub.execute_input": "2022-02-17T00:59:26.731937Z",
          "iopub.status.idle": "2022-02-17T00:59:27.980154Z",
          "shell.execute_reply.started": "2022-02-17T00:59:26.731852Z",
          "shell.execute_reply": "2022-02-17T00:59:27.979435Z"
        },
        "trusted": true,
        "colab": {
          "base_uri": "https://localhost:8080/"
        },
        "id": "9VGActtpgda6",
        "outputId": "bf11f0f2-1e16-4346-d8df-1c4a1d8a38a5"
      },
      "execution_count": 41,
      "outputs": [
        {
          "output_type": "stream",
          "name": "stdout",
          "text": [
            "(3456, 1) (3456, 1)\n",
            "Window Size:  16\n",
            "Prediction length:  1\n",
            "Epochs:  20\n",
            "---------------------\n",
            "Asset:    Corr. coef.\n",
            "---------------------\n",
            "corr: 0.0188\n",
            "mae: 0.0055\n",
            "\n",
            "\n",
            "Predictions Min: -0.08421896398067474, Predictions Max: 0.020707057788968086, Predictions mean:-0.0018745437264442444, Predictions var:7.9836965596769e-05\n",
            "y_true Min: -0.009781436994671822, y_true Max: 0.016066623851656914, y_true mean:2.6940424504573457e-05, y_true var:5.281870926410193e-06\n"
          ]
        }
      ]
    },
    {
      "cell_type": "code",
      "source": [
        ""
      ],
      "metadata": {
        "id": "oxHwOrV8gda7"
      },
      "execution_count": null,
      "outputs": []
    },
    {
      "cell_type": "code",
      "source": [
        ""
      ],
      "metadata": {
        "id": "Eq5SN190gda8"
      },
      "execution_count": null,
      "outputs": []
    },
    {
      "cell_type": "code",
      "source": [
        ""
      ],
      "metadata": {
        "id": "MnRNd5Digda8"
      },
      "execution_count": null,
      "outputs": []
    },
    {
      "cell_type": "code",
      "source": [
        ""
      ],
      "metadata": {
        "id": "jx43e9xXgda9"
      },
      "execution_count": null,
      "outputs": []
    },
    {
      "cell_type": "code",
      "source": [
        ""
      ],
      "metadata": {
        "id": "IHhEifvKgda9"
      },
      "execution_count": null,
      "outputs": []
    },
    {
      "cell_type": "code",
      "source": [
        ""
      ],
      "metadata": {
        "id": "qld_i0lRgda_"
      },
      "execution_count": null,
      "outputs": []
    },
    {
      "cell_type": "code",
      "source": [
        ""
      ],
      "metadata": {
        "id": "EJkCv_SOgda_"
      },
      "execution_count": null,
      "outputs": []
    }
  ]
}