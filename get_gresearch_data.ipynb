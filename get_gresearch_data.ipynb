{
  "metadata": {
    "kernelspec": {
      "language": "python",
      "display_name": "Python 3",
      "name": "python3"
    },
    "language_info": {
      "name": "python",
      "version": "3.7.10",
      "mimetype": "text/x-python",
      "codemirror_mode": {
        "name": "ipython",
        "version": 3
      },
      "pygments_lexer": "ipython3",
      "nbconvert_exporter": "python",
      "file_extension": ".py"
    },
    "colab": {
      "name": "transformer-model.ipynb",
      "provenance": [],
      "include_colab_link": true
    }
  },
  "nbformat_minor": 0,
  "nbformat": 4,
  "cells": [
    {
      "cell_type": "markdown",
      "metadata": {
        "id": "view-in-github",
        "colab_type": "text"
      },
      "source": [
        "<a href=\"https://colab.research.google.com/github/Niggl0n/G-ResearchCryptoPrediction/blob/main/get_gresearch_data.ipynb\" target=\"_parent\"><img src=\"https://colab.research.google.com/assets/colab-badge.svg\" alt=\"Open In Colab\"/></a>"
      ]
    },
    {
      "cell_type": "code",
      "source": [
        "\"test test ts\""
      ],
      "metadata": {
        "id": "LZR9Ggg5acox",
        "outputId": "5b0d7c8e-30da-46bf-bb63-1a9d4a226caf",
        "colab": {
          "base_uri": "https://localhost:8080/",
          "height": 35
        }
      },
      "execution_count": 1,
      "outputs": [
        {
          "output_type": "execute_result",
          "data": {
            "application/vnd.google.colaboratory.intrinsic+json": {
              "type": "string"
            },
            "text/plain": [
              "'test test ts'"
            ]
          },
          "metadata": {},
          "execution_count": 1
        }
      ]
    },
    {
      "cell_type": "code",
      "source": [
        "from google.colab import drive\n",
        "drive.mount('/content/gdrive')"
      ],
      "metadata": {
        "id": "R-sG5TUqBN0E",
        "outputId": "8b5651a6-b727-4e5c-e789-14e7a75f0a34",
        "colab": {
          "base_uri": "https://localhost:8080/"
        }
      },
      "execution_count": null,
      "outputs": [
        {
          "output_type": "stream",
          "name": "stdout",
          "text": [
            "Mounted at /content/gdrive\n"
          ]
        }
      ]
    },
    {
      "cell_type": "code",
      "source": [
        "%cd /content/gdrive/MyDrive/Github/GResearch_data/"
      ],
      "metadata": {
        "colab": {
          "base_uri": "https://localhost:8080/"
        },
        "id": "P28kJrqFDscC",
        "outputId": "a9ae84e5-30ef-4812-ed76-9db1bc87c87b"
      },
      "execution_count": null,
      "outputs": [
        {
          "output_type": "stream",
          "name": "stdout",
          "text": [
            "/content/gdrive/MyDrive/Github/GResearch_data\n"
          ]
        }
      ]
    },
    {
      "cell_type": "code",
      "source": [
        "from google.colab import files\n",
        "files.upload()\n",
        "\n",
        "!pip install -q kaggle\n",
        "!mkdir -p ~/.kaggle\n",
        "!cp kaggle.json ~/.kaggle/\n",
        "!ls ~/.kaggle\n",
        "!chmod 600 /root/.kaggle/kaggle.json"
      ],
      "metadata": {
        "colab": {
          "resources": {
            "http://localhost:8080/nbextensions/google.colab/files.js": {
              "data": "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",
              "ok": true,
              "headers": [
                [
                  "content-type",
                  "application/javascript"
                ]
              ],
              "status": 200,
              "status_text": "OK"
            }
          },
          "base_uri": "https://localhost:8080/",
          "height": 91
        },
        "id": "w1yDBXFUCgjF",
        "outputId": "0d09419c-9032-4c7d-8a88-e697e12f8a12"
      },
      "execution_count": null,
      "outputs": [
        {
          "output_type": "display_data",
          "data": {
            "text/html": [
              "\n",
              "     <input type=\"file\" id=\"files-0891d751-28b2-4eb6-95ca-a7bb20970fe4\" name=\"files[]\" multiple disabled\n",
              "        style=\"border:none\" />\n",
              "     <output id=\"result-0891d751-28b2-4eb6-95ca-a7bb20970fe4\">\n",
              "      Upload widget is only available when the cell has been executed in the\n",
              "      current browser session. Please rerun this cell to enable.\n",
              "      </output>\n",
              "      <script src=\"/nbextensions/google.colab/files.js\"></script> "
            ],
            "text/plain": [
              "<IPython.core.display.HTML object>"
            ]
          },
          "metadata": {}
        },
        {
          "output_type": "stream",
          "name": "stdout",
          "text": [
            "Saving kaggle.json to kaggle.json\n",
            "kaggle.json\n"
          ]
        }
      ]
    },
    {
      "cell_type": "code",
      "source": [
        "# link to all dataset: https://www.kaggle.com/c/g-research-crypto-forecasting/discussion/285726\n",
        "\n",
        "# ! kaggle datasets download -d yamqwe/cryptocurrency-extra-data-iota\n",
        "! kaggle datasets download -d yamqwe/cryptocurrency-extra-data-binance-coin\n",
        "! kaggle datasets download -d yamqwe/cryptocurrency-extra-data-bitcoin-cash\n",
        "! kaggle datasets download -d yamqwe/cryptocurrency-extra-data-bitcoin\n",
        "! kaggle datasets download -d yamqwe/cryptocurrency-extra-data-cardano\n",
        "! kaggle datasets download -d yamqwe/cryptocurrency-extra-data-dogecoin\n",
        "! kaggle datasets download -d yamqwe/cryptocurrency-extra-data-eos-io\n",
        "! kaggle datasets download -d yamqwe/cryptocurrency-extra-data-ethereum\n",
        "! kaggle datasets download -d yamqwe/cryptocurrency-extra-data-ethereum-classic\n",
        "! kaggle datasets download -d yamqwe/cryptocurrency-extra-data-litecoin\n",
        "! kaggle datasets download -d yamqwe/cryptocurrency-extra-data-monero\n",
        "! kaggle datasets download -d yamqwe/cryptocurrency-extra-data-maker\n",
        "! kaggle datasets download -d yamqwe/cryptocurrency-extra-data-stellar\n",
        "! kaggle datasets download -d yamqwe/cryptocurrency-extra-data-tron\n",
        "\n",
        "\n"
      ],
      "metadata": {
        "colab": {
          "base_uri": "https://localhost:8080/"
        },
        "id": "mzUyCTeaIL0S",
        "outputId": "c125965c-2aa7-4771-ed3f-80ea700f734e"
      },
      "execution_count": null,
      "outputs": [
        {
          "output_type": "stream",
          "name": "stdout",
          "text": [
            "Downloading cryptocurrency-extra-data-binance-coin.zip to /content/gdrive/MyDrive/Github/GResearch_data\n",
            "100% 1.16G/1.16G [00:46<00:00, 33.1MB/s]\n",
            "100% 1.16G/1.16G [00:46<00:00, 27.1MB/s]\n",
            "Downloading cryptocurrency-extra-data-bitcoin-cash.zip to /content/gdrive/MyDrive/Github/GResearch_data\n",
            "100% 1.17G/1.17G [00:44<00:00, 23.9MB/s]\n",
            "100% 1.17G/1.17G [00:44<00:00, 28.2MB/s]\n",
            "Downloading cryptocurrency-extra-data-bitcoin.zip to /content/gdrive/MyDrive/Github/GResearch_data\n",
            " 99% 1.20G/1.21G [00:44<00:00, 19.8MB/s]\n",
            "100% 1.21G/1.21G [00:44<00:00, 29.1MB/s]\n",
            "Downloading cryptocurrency-extra-data-cardano.zip to /content/gdrive/MyDrive/Github/GResearch_data\n",
            "100% 1.17G/1.17G [00:45<00:00, 24.4MB/s]\n",
            "100% 1.17G/1.17G [00:45<00:00, 27.4MB/s]\n",
            "Downloading cryptocurrency-extra-data-dogecoin.zip to /content/gdrive/MyDrive/Github/GResearch_data\n",
            " 99% 1.09G/1.10G [00:46<00:00, 18.1MB/s]\n",
            "100% 1.10G/1.10G [00:46<00:00, 25.1MB/s]\n",
            "Downloading cryptocurrency-extra-data-eos-io.zip to /content/gdrive/MyDrive/Github/GResearch_data\n",
            "100% 1.17G/1.18G [00:46<00:00, 28.5MB/s]\n",
            "100% 1.18G/1.18G [00:46<00:00, 27.0MB/s]\n",
            "Downloading cryptocurrency-extra-data-ethereum.zip to /content/gdrive/MyDrive/Github/GResearch_data\n",
            "100% 1.19G/1.19G [01:24<00:00, 14.1MB/s]\n",
            "100% 1.19G/1.19G [01:24<00:00, 15.1MB/s]\n",
            "Downloading cryptocurrency-extra-data-ethereum-classic.zip to /content/gdrive/MyDrive/Github/GResearch_data\n",
            "100% 1.17G/1.17G [00:54<00:00, 34.8MB/s]\n",
            "100% 1.17G/1.17G [00:54<00:00, 23.1MB/s]\n",
            "Downloading cryptocurrency-extra-data-litecoin.zip to /content/gdrive/MyDrive/Github/GResearch_data\n",
            "100% 1.17G/1.17G [01:09<00:00, 46.0MB/s]\n",
            "100% 1.17G/1.17G [01:10<00:00, 18.0MB/s]\n",
            "Downloading cryptocurrency-extra-data-monero.zip to /content/gdrive/MyDrive/Github/GResearch_data\n",
            "100% 1.12G/1.12G [00:45<00:00, 35.3MB/s]\n",
            "100% 1.12G/1.12G [00:45<00:00, 26.5MB/s]\n",
            "Downloading cryptocurrency-extra-data-maker.zip to /content/gdrive/MyDrive/Github/GResearch_data\n",
            " 99% 1.06G/1.07G [00:38<00:00, 46.1MB/s]\n",
            "100% 1.07G/1.07G [00:39<00:00, 29.5MB/s]\n",
            "Downloading cryptocurrency-extra-data-stellar.zip to /content/gdrive/MyDrive/Github/GResearch_data\n",
            " 99% 1.16G/1.16G [01:35<00:00, 46.6MB/s]\n",
            "100% 1.16G/1.16G [01:35<00:00, 13.0MB/s]\n",
            "Downloading cryptocurrency-extra-data-tron.zip to /content/gdrive/MyDrive/Github/GResearch_data\n",
            "100% 1.17G/1.17G [00:46<00:00, 38.6MB/s]\n",
            "100% 1.17G/1.17G [00:47<00:00, 26.6MB/s]\n"
          ]
        }
      ]
    },
    {
      "cell_type": "code",
      "source": [
        "# ! unzip /content/gdrive/MyDrive/Github/cryptocurrency-extra-data-iota.zip\n",
        "\n",
        "! unzip \\*.zip"
      ],
      "metadata": {
        "colab": {
          "base_uri": "https://localhost:8080/"
        },
        "id": "sx694qVhJCCG",
        "outputId": "6f6f9f78-f749-46ad-9838-64491a27061a"
      },
      "execution_count": null,
      "outputs": [
        {
          "output_type": "stream",
          "name": "stdout",
          "text": [
            "Archive:  /content/gdrive/MyDrive/Github/cryptocurrency-extra-data-iota.zip\n",
            "  inflating: full_data__8__2018.csv  \n",
            "  inflating: full_data__8__2018.jay  \n",
            "  inflating: full_data__8__2019.csv  \n",
            "  inflating: full_data__8__2019.jay  \n",
            "  inflating: full_data__8__2020.csv  \n",
            "  inflating: full_data__8__2020.jay  \n",
            "  inflating: full_data__8__2021.csv  \n",
            "  inflating: full_data__8__2021.jay  \n",
            "  inflating: orig_asset_details.jay  \n",
            "  inflating: orig_example_sample_submission.jay  \n",
            "  inflating: orig_example_test.jay   \n",
            "  inflating: orig_supplemental_train.jay  \n",
            "  inflating: orig_train.jay          \n"
          ]
        }
      ]
    },
    {
      "cell_type": "markdown",
      "source": [
        "\n",
        "## Todos\n",
        "\n",
        "- Save model\n",
        "- check for other necessray callbacks\n",
        "- run version 8 with 16 shift\n",
        "- Embedding\n",
        "    - evaluate embedding\n",
        "    - run new embedding version on full asset data\n",
        "    - search an try alternatives\n",
        "        - add sin / cos signals\n",
        "- Check for other LR scheduler\n",
        "- Read for decoder necessety "
      ],
      "metadata": {
        "id": "-1HJ2EqxBN0H"
      }
    },
    {
      "cell_type": "markdown",
      "source": [
        "## Kernel"
      ],
      "metadata": {
        "id": "7R7uz7EbBN0L"
      }
    },
    {
      "cell_type": "code",
      "source": [
        "from IPython.core.display import display, HTML, Javascript\n",
        "import os\n",
        "if not os.path.exists(\"../input/g-research-crypto-forecasting/\"): os.chdir('/t/Datasets/kaggle_crypto/internal')\n"
      ],
      "metadata": {
        "_kg_hide-input": true,
        "_kg_hide-output": true,
        "papermill": {
          "duration": 0.072966,
          "end_time": "2021-11-29T18:05:23.845682",
          "exception": false,
          "start_time": "2021-11-29T18:05:23.772716",
          "status": "completed"
        },
        "tags": [],
        "execution": {
          "iopub.status.busy": "2022-02-16T23:47:22.574372Z",
          "iopub.execute_input": "2022-02-16T23:47:22.574947Z",
          "iopub.status.idle": "2022-02-16T23:47:22.599286Z",
          "shell.execute_reply.started": "2022-02-16T23:47:22.574856Z",
          "shell.execute_reply": "2022-02-16T23:47:22.598380Z"
        },
        "trusted": true,
        "id": "vsUbZtaaBN0M"
      },
      "execution_count": null,
      "outputs": []
    },
    {
      "cell_type": "code",
      "source": [
        "import os\n",
        "import gc\n",
        "import traceback\n",
        "import pdb\n",
        "import numpy as np\n",
        "import pandas as pd\n",
        "import seaborn as sns\n",
        "import gresearch_crypto\n",
        "import tensorflow as tf\n",
        "from tensorflow import keras\n",
        "import matplotlib.pyplot as plt\n",
        "import pandas as pd, numpy as np\n",
        "from scipy.stats import pearsonr\n",
        "from tensorflow.keras import layers\n",
        "from sklearn.metrics import r2_score\n",
        "import tensorflow_probability as tfp\n",
        "import tensorflow.keras.backend as K\n",
        "from sklearn.model_selection import KFold\n",
        "from sklearn.metrics import mean_squared_error\n",
        "from sklearn.preprocessing import RobustScaler\n",
        "from tensorflow.keras.preprocessing.sequence import TimeseriesGenerator\n",
        "from sklearn.metrics import mean_absolute_error as mae\n",
        "from sklearn.preprocessing import MinMaxScaler\n",
        "\n",
        "pd.set_option('display.max_columns', None)"
      ],
      "metadata": {
        "papermill": {
          "duration": 9.261664,
          "end_time": "2021-11-29T18:05:34.914352",
          "exception": false,
          "start_time": "2021-11-29T18:05:25.652688",
          "status": "completed"
        },
        "tags": [],
        "execution": {
          "iopub.status.busy": "2022-02-16T23:47:22.622087Z",
          "iopub.execute_input": "2022-02-16T23:47:22.622821Z",
          "iopub.status.idle": "2022-02-16T23:47:29.905893Z",
          "shell.execute_reply.started": "2022-02-16T23:47:22.622765Z",
          "shell.execute_reply": "2022-02-16T23:47:29.904988Z"
        },
        "trusted": true,
        "id": "Pksj1DyTBN0O"
      },
      "execution_count": null,
      "outputs": []
    },
    {
      "cell_type": "code",
      "source": [
        "DEVICE = \"GPU\" #or \"TPU\"\n",
        "\n",
        "SEED = 42\n",
        "\n",
        "# LOAD STRICT? YES=1 NO=0 | see: https://www.kaggle.com/julian3833/proposal-for-a-meaningful-lb-strict-lgbm\n",
        "LOAD_STRICT = True\n",
        "\n",
        "# WHICH YEARS TO INCLUDE? YES=1 NO=0\n",
        "INC2021 = 0\n",
        "INC2020 = 0\n",
        "INC2019 = 0\n",
        "INC2018 = 0\n",
        "INC2017 = 0\n",
        "INCCOMP = 1\n",
        "INCSUPP = 0\n",
        "\n",
        "# TRAINING PARAMETERS\n",
        "DEBUG = True\n",
        "SINGLE_ASSET = True\n",
        "asset_id=3\n",
        "N_ASSETS = 14\n",
        "num_shift = 5\n",
        "TIME2VEC_DIM=3\n",
        "WINDOW_SIZE = 64\n",
        "prediction_length = 1\n",
        "BATCH_SIZE = 64\n",
        "PCT_VALIDATION = 10 # last 10% of the data are used as validation set\n",
        "PCT_TEST = 10 # last 10% of the data are used as validation set"
      ],
      "metadata": {
        "papermill": {
          "duration": 0.050546,
          "end_time": "2021-11-29T18:05:35.179716",
          "exception": false,
          "start_time": "2021-11-29T18:05:35.12917",
          "status": "completed"
        },
        "tags": [],
        "execution": {
          "iopub.status.busy": "2022-02-16T23:47:29.907865Z",
          "iopub.execute_input": "2022-02-16T23:47:29.908177Z",
          "iopub.status.idle": "2022-02-16T23:47:29.918688Z",
          "shell.execute_reply.started": "2022-02-16T23:47:29.908136Z",
          "shell.execute_reply": "2022-02-16T23:47:29.917871Z"
        },
        "trusted": true,
        "id": "p38MCKNzBN0T"
      },
      "execution_count": null,
      "outputs": []
    },
    {
      "cell_type": "code",
      "source": [
        "if DEVICE == \"TPU\":\n",
        "    print(\"connecting to TPU...\")\n",
        "    try:\n",
        "        tpu = tf.distribute.cluster_resolver.TPUClusterResolver()\n",
        "        print('Running on TPU ', tpu.master())\n",
        "    except ValueError:\n",
        "        tpu = None\n",
        "    if tpu:\n",
        "        try:\n",
        "            print(\"initializing  TPU ...\")\n",
        "            tf.config.experimental_connect_to_cluster(tpu)\n",
        "            tf.tpu.experimental.initialize_tpu_system(tpu)\n",
        "            strategy = tf.distribute.experimental.TPUStrategy(tpu)\n",
        "            print(\"TPU initialized\")\n",
        "        except: print(\"failed to initialize TPU\")\n",
        "    else: DEVICE = \"GPU\"\n",
        "\n",
        "if DEVICE != \"TPU\": strategy = tf.distribute.get_strategy()\n",
        "if DEVICE == \"GPU\": print(\"Num GPUs Available: \", len(tf.config.experimental.list_physical_devices('GPU')))\n",
        "AUTO     = tf.data.experimental.AUTOTUNE\n",
        "REPLICAS = strategy.num_replicas_in_sync"
      ],
      "metadata": {
        "_kg_hide-input": true,
        "papermill": {
          "duration": 0.069363,
          "end_time": "2021-11-29T18:05:35.290484",
          "exception": false,
          "start_time": "2021-11-29T18:05:35.221121",
          "status": "completed"
        },
        "tags": [],
        "execution": {
          "iopub.status.busy": "2022-02-16T23:47:29.920518Z",
          "iopub.execute_input": "2022-02-16T23:47:29.921101Z",
          "iopub.status.idle": "2022-02-16T23:47:30.105551Z",
          "shell.execute_reply.started": "2022-02-16T23:47:29.921055Z",
          "shell.execute_reply": "2022-02-16T23:47:30.103474Z"
        },
        "trusted": true,
        "id": "2ACl3hPfBN0X",
        "outputId": "56fc82d2-450b-4d5e-c998-eaca4b0216eb"
      },
      "execution_count": null,
      "outputs": [
        {
          "name": "stdout",
          "text": "Num GPUs Available:  1\n",
          "output_type": "stream"
        },
        {
          "name": "stderr",
          "text": "2022-02-16 23:47:29.987944: I tensorflow/stream_executor/cuda/cuda_gpu_executor.cc:937] successful NUMA node read from SysFS had negative value (-1), but there must be at least one NUMA node, so returning NUMA node zero\n2022-02-16 23:47:30.097080: I tensorflow/stream_executor/cuda/cuda_gpu_executor.cc:937] successful NUMA node read from SysFS had negative value (-1), but there must be at least one NUMA node, so returning NUMA node zero\n2022-02-16 23:47:30.097929: I tensorflow/stream_executor/cuda/cuda_gpu_executor.cc:937] successful NUMA node read from SysFS had negative value (-1), but there must be at least one NUMA node, so returning NUMA node zero\n",
          "output_type": "stream"
        }
      ]
    },
    {
      "cell_type": "code",
      "source": [
        "def compute_target(df):\n",
        "    \"\"\"\n",
        "    \n",
        "    \"\"\"\n",
        "    R=list()\n",
        "    c=list(df['Close'])\n",
        "    for i in range(df.shape[0]):\n",
        "        future=c[min([i+16,df.shape[0]-1])]\n",
        "        past=c[min([i+1,df.shape[0]-1])]\n",
        "        R.append(future/past)\n",
        "    df['R']=R\n",
        "    df['R']=np.log(df['R'])\n",
        "    df['pred']=np.exp(df['R'])-1\n",
        "    return df\n",
        "\n",
        "\n",
        "# we will use weighted correlation as function to evaluate our model performance\n",
        "# https://stackoverflow.com/questions/38641691/weighted-correlation-coefficient-with-pandas\n",
        "def wmean(x, w):\n",
        "    return np.sum(x * w) / np.sum(w)\n",
        "\n",
        "def wcov(x, y, w):\n",
        "    return np.sum(w * (x - wmean(x, w)) * (y - wmean(y, w))) / np.sum(w)\n",
        "\n",
        "def wcorr(x, y, w):\n",
        "    return wcov(x, y, w) / np.sqrt(wcov(x, x, w) * wcov(y, y, w))\n",
        "\n",
        "def wcorr(x, y, w=1):\n",
        "    return wcov(x, y, w) / np.sqrt(wcov(x, x, w) * wcov(y, y, w))\n",
        "\n",
        "# ----------------------------------------------------------------\n",
        "# ----------------------------------------------------------------\n",
        "# def tf_wmean(x, w):\n",
        "#     w_sum = tf.math.reduce_sum(w)\n",
        "#     xw_sum = tf.math.reduce_sum(tf.math.multiply(x, w))\n",
        "#     return  tf.math.divide(xw_sum, w_sum)\n",
        "# \n",
        "# def tf_wcov(x, y, w):\n",
        "#     w_sum = tf.math.reduce_sum(w)\n",
        "#     xyw = tf.math.multiply(x - tf_wmean(x, w), y - tf_wmean(y, w))\n",
        "#     w_xy_sum= tf.math.reduce_sum(tf.math.multiply(w, xyw))\n",
        "#     return  tf.math.divide(w_xy_sum, w_sum)\n",
        "# \n",
        "# def tf_wcorr(x, y, w=1):\n",
        "#     if not w:\n",
        "#         w=1.\n",
        "#     x = tf.cast(x, tf.float32)\n",
        "#     y = tf.cast(y, tf.float32)\n",
        "#     w = tf.cast(w, tf.float32)\n",
        "#     \n",
        "#     mul_xwcov_y_wcov = tf.math.multiply(tf_wcov(x, x, w), tf_wcov(y, y, w))\n",
        "#     return tf.math.divide(tf_wcov(x, y, w), tf.math.sqrt(mul_xwcov_y_wcov))\n",
        "\n",
        "\n",
        "from functools import partial\n",
        "\n",
        "def corr_loss(y_true, y_pred):\n",
        "    x = tf.cast(y_true, tf.float32)\n",
        "    y = tf.cast(y_pred, tf.float32)\n",
        "    mx = K.mean(x)\n",
        "    my = K.mean(y)\n",
        "    xm, ym = x-mx, y-my\n",
        "    r_num = K.sum(tf.multiply(xm,ym))\n",
        "    r_den = K.sqrt(tf.multiply(K.sum(K.square(xm)), K.sum(K.square(ym))))\n",
        "    r = r_num / r_den\n",
        "    r = K.maximum(K.minimum(r, 1.0), -1.0)\n",
        "    return - r\n",
        "\n",
        "def combined_loss(y_true, y_pred, weight1=0.5, weight2=None):\n",
        "    if not weight2:\n",
        "        weight2 = 1 - weight1\n",
        "    loss1 = corr_loss(y_true, y_pred)\n",
        "    mae_loss_ = tf.keras.losses.MeanAbsoluteError()\n",
        "    loss2 = mae_loss_(y_true, y_pred)\n",
        "    return loss1*weight1 + loss2*weight2\n",
        "\n",
        "\n",
        "def competition_weighted_correlation(a, b, weights=1):\n",
        "\n",
        "    #w = np.ravel(weights)\n",
        "    #a = np.ravel(a)\n",
        "    #b = np.ravel(b)\n",
        "    a = tf.cast(a, dtype=tf.float32)\n",
        "    b = tf.cast(b, dtype=tf.float32)\n",
        "    \n",
        "    len_a = tf.cast(tf.size(a), dtype=tf.float32)\n",
        "    len_b = tf.cast(tf.size(b), dtype=tf.float32)\n",
        "    #sum_w = tf.reduce_sum(w)\n",
        "    mean_a = tf.cast(tf.math.reduce_mean(a), dtype=tf.float32)\n",
        "    mean_b = tf.cast(tf.math.reduce_mean(b), dtype=tf.float32)\n",
        "    var_a = tf.cast(tf.math.reduce_sum(tf.math.square(a - mean_a)) / len_a, dtype=tf.float32)\n",
        "    var_b = tf.cast(tf.math.reduce_sum(tf.math.square(b - mean_b)) / len_b, dtype=tf.float32)\n",
        "\n",
        "    cov = tf.math.reduce_sum((a * b)) / len_a - (mean_a * mean_b)\n",
        "    corr = cov / tf.math.sqrt(var_a * var_b)\n",
        "\n",
        "    return corr"
      ],
      "metadata": {
        "execution": {
          "iopub.status.busy": "2022-02-16T23:47:30.108262Z",
          "iopub.execute_input": "2022-02-16T23:47:30.108548Z",
          "iopub.status.idle": "2022-02-16T23:47:30.130954Z",
          "shell.execute_reply.started": "2022-02-16T23:47:30.108507Z",
          "shell.execute_reply": "2022-02-16T23:47:30.130074Z"
        },
        "trusted": true,
        "id": "p5FDu1HTBN0a"
      },
      "execution_count": null,
      "outputs": []
    },
    {
      "cell_type": "code",
      "source": [
        "import datatable as dt\n",
        "extra_data_files = {0: '../input/cryptocurrency-extra-data-binance-coin', 2: '../input/cryptocurrency-extra-data-bitcoin-cash', 1: '../input/cryptocurrency-extra-data-bitcoin', 3: '../input/cryptocurrency-extra-data-cardano', 4: '../input/cryptocurrency-extra-data-dogecoin', 5: '../input/cryptocurrency-extra-data-eos-io', 6: '../input/cryptocurrency-extra-data-ethereum', 7: '../input/cryptocurrency-extra-data-ethereum-classic', 8: '../input/cryptocurrency-extra-data-iota', 9: '../input/cryptocurrency-extra-data-litecoin', 11: '../input/cryptocurrency-extra-data-monero', 10: '../input/cryptocurrency-extra-data-maker', 12: '../input/cryptocurrency-extra-data-stellar', 13: '../input/cryptocurrency-extra-data-tron'}\n",
        "\n",
        "# Uncomment to load the original csv [slower]\n",
        "# orig_df_train = pd.read_csv(data_path + 'train.csv') \n",
        "# supp_df_train = pd.read_csv(data_path + 'supplemental_train.csv')\n",
        "# df_asset_details = pd.read_csv(data_path  + 'asset_details.csv').sort_values(\"Asset_ID\")\n",
        "\n",
        "orig_df_train = dt.fread('../input/cryptocurrency-extra-data-binance-coin/orig_train.jay').to_pandas()\n",
        "df_asset_details = dt.fread('../input/cryptocurrency-extra-data-binance-coin/orig_asset_details.jay').to_pandas()\n",
        "supp_df_train = dt.fread('../input/cryptocurrency-extra-data-binance-coin/orig_supplemental_train.jay').to_pandas()\n",
        "assets_details = dt.fread('../input/cryptocurrency-extra-data-binance-coin/orig_asset_details.jay').to_pandas()\n",
        "asset_weight_dict = {assets_details['Asset_ID'].tolist()[idx]: assets_details['Weight'].tolist()[idx] for idx in range(len(assets_details))}\n",
        "asset_name_dict = {assets_details['Asset_ID'].tolist()[idx]: assets_details['Asset_Name'].tolist()[idx] for idx in range(len(assets_details))}\n",
        "\n",
        "def load_training_data_for_asset(asset_id, load_jay = True):\n",
        "    dfs = []\n",
        "    if INCCOMP: dfs.append(orig_df_train[orig_df_train[\"Asset_ID\"] == asset_id].copy())\n",
        "    if INCSUPP: dfs.append(supp_df_train[supp_df_train[\"Asset_ID\"] == asset_id].copy())\n",
        "    \n",
        "    if load_jay:\n",
        "        if INC2017 and os.path.exists(extra_data_files[asset_id] + '/full_data__' + str(asset_id) + '__' + str(2017) + '.csv'): dfs.append(dt.fread(extra_data_files[asset_id] + '/full_data__' + str(asset_id) + '__' + str(2017) + '.jay').to_pandas())\n",
        "        if INC2018 and os.path.exists(extra_data_files[asset_id] + '/full_data__' + str(asset_id) + '__' + str(2018) + '.csv'): dfs.append(dt.fread(extra_data_files[asset_id] + '/full_data__' + str(asset_id) + '__' + str(2018) + '.jay').to_pandas())\n",
        "        if INC2019 and os.path.exists(extra_data_files[asset_id] + '/full_data__' + str(asset_id) + '__' + str(2019) + '.csv'): dfs.append(dt.fread(extra_data_files[asset_id] + '/full_data__' + str(asset_id) + '__' + str(2019) + '.jay').to_pandas())\n",
        "        if INC2020 and os.path.exists(extra_data_files[asset_id] + '/full_data__' + str(asset_id) + '__' + str(2020) + '.csv'): dfs.append(dt.fread(extra_data_files[asset_id] + '/full_data__' + str(asset_id) + '__' + str(2020) + '.jay').to_pandas())\n",
        "        if INC2021 and os.path.exists(extra_data_files[asset_id] + '/full_data__' + str(asset_id) + '__' + str(2021) + '.csv'): dfs.append(dt.fread(extra_data_files[asset_id] + '/full_data__' + str(asset_id) + '__' + str(2021) + '.jay').to_pandas())\n",
        "    else: \n",
        "        if INC2017 and os.path.exists(extra_data_files[asset_id] + '/full_data__' + str(asset_id) + '__' + str(2017) + '.csv'): dfs.append(pd.read_csv(extra_data_files[asset_id] + '/full_data__' + str(asset_id) + '__' + str(2017) + '.csv'))\n",
        "        if INC2018 and os.path.exists(extra_data_files[asset_id] + '/full_data__' + str(asset_id) + '__' + str(2018) + '.csv'): dfs.append(pd.read_csv(extra_data_files[asset_id] + '/full_data__' + str(asset_id) + '__' + str(2018) + '.csv'))\n",
        "        if INC2019 and os.path.exists(extra_data_files[asset_id] + '/full_data__' + str(asset_id) + '__' + str(2019) + '.csv'): dfs.append(pd.read_csv(extra_data_files[asset_id] + '/full_data__' + str(asset_id) + '__' + str(2019) + '.csv'))\n",
        "        if INC2020 and os.path.exists(extra_data_files[asset_id] + '/full_data__' + str(asset_id) + '__' + str(2020) + '.csv'): dfs.append(pd.read_csv(extra_data_files[asset_id] + '/full_data__' + str(asset_id) + '__' + str(2020) + '.csv'))\n",
        "        if INC2021 and os.path.exists(extra_data_files[asset_id] + '/full_data__' + str(asset_id) + '__' + str(2021) + '.csv'): dfs.append(pd.read_csv(extra_data_files[asset_id] + '/full_data__' + str(asset_id) + '__' + str(2021) + '.csv'))\n",
        "    df = pd.concat(dfs, axis = 0) if len(dfs) > 1 else dfs[0]\n",
        "    df['date'] = pd.to_datetime(df['timestamp'], unit = 's')\n",
        "    if LOAD_STRICT: df = df.loc[df['date'] < \"2021-06-13 00:00:00\"]    \n",
        "    df = df.sort_values('date')\n",
        "    return df\n",
        "\n",
        "def load_data_for_all_assets():\n",
        "    dfs = []\n",
        "    for asset_id in list(extra_data_files.keys()): dfs.append(load_training_data_for_asset(asset_id))\n",
        "    return pd.concat(dfs)"
      ],
      "metadata": {
        "_kg_hide-input": true,
        "papermill": {
          "duration": 24.69094,
          "end_time": "2021-11-29T18:06:00.13746",
          "exception": false,
          "start_time": "2021-11-29T18:05:35.44652",
          "status": "completed"
        },
        "tags": [],
        "execution": {
          "iopub.status.busy": "2022-02-16T23:47:30.132648Z",
          "iopub.execute_input": "2022-02-16T23:47:30.133254Z",
          "iopub.status.idle": "2022-02-16T23:47:53.683980Z",
          "shell.execute_reply.started": "2022-02-16T23:47:30.133207Z",
          "shell.execute_reply": "2022-02-16T23:47:53.683208Z"
        },
        "trusted": true,
        "id": "AZSq9BcwBN0d",
        "outputId": "01880ffe-bbe0-43a5-8222-ff8adfbf8951"
      },
      "execution_count": null,
      "outputs": [
        {
          "output_type": "display_data",
          "data": {
            "text/plain": "<IPython.core.display.HTML object>",
            "text/html": "<style type='text/css'>\n.datatable table.frame { margin-bottom: 0; }\n.datatable table.frame thead { border-bottom: none; }\n.datatable table.frame tr.coltypes td {  color: #FFFFFF;  line-height: 6px;  padding: 0 0.5em;}\n.datatable .bool    { background: #DDDD99; }\n.datatable .object  { background: #565656; }\n.datatable .int     { background: #5D9E5D; }\n.datatable .float   { background: #4040CC; }\n.datatable .str     { background: #CC4040; }\n.datatable .time    { background: #40CC40; }\n.datatable .row_index {  background: var(--jp-border-color3);  border-right: 1px solid var(--jp-border-color0);  color: var(--jp-ui-font-color3);  font-size: 9px;}\n.datatable .frame tbody td { text-align: left; }\n.datatable .frame tr.coltypes .row_index {  background: var(--jp-border-color0);}\n.datatable th:nth-child(2) { padding-left: 12px; }\n.datatable .hellipsis {  color: var(--jp-cell-editor-border-color);}\n.datatable .vellipsis {  background: var(--jp-layout-color0);  color: var(--jp-cell-editor-border-color);}\n.datatable .na {  color: var(--jp-cell-editor-border-color);  font-size: 80%;}\n.datatable .sp {  opacity: 0.25;}\n.datatable .footer { font-size: 9px; }\n.datatable .frame_dimensions {  background: var(--jp-border-color3);  border-top: 1px solid var(--jp-border-color0);  color: var(--jp-ui-font-color3);  display: inline-block;  opacity: 0.6;  padding: 1px 10px 1px 5px;}\n</style>\n"
          },
          "metadata": {}
        }
      ]
    },
    {
      "cell_type": "code",
      "source": [
        "test = dt.fread('../input/cryptocurrency-extra-data-binance-coin/orig_example_test.jay').to_pandas()\n",
        "sample_prediction_df = dt.fread('../input/cryptocurrency-extra-data-binance-coin/orig_example_sample_submission.jay').to_pandas()\n",
        "assets = dt.fread('../input/cryptocurrency-extra-data-binance-coin/orig_asset_details.jay').to_pandas()\n",
        "assets_order = dt.fread('../input/cryptocurrency-extra-data-binance-coin/orig_supplemental_train.jay').to_pandas().Asset_ID[:N_ASSETS]\n",
        "\n",
        "assets_order = dict((t,i) for i,t in enumerate(assets_order))\n",
        "print(\"Loaded all data!\")"
      ],
      "metadata": {
        "execution": {
          "iopub.status.busy": "2022-02-16T23:47:53.686882Z",
          "iopub.execute_input": "2022-02-16T23:47:53.687135Z",
          "iopub.status.idle": "2022-02-16T23:47:53.796614Z",
          "shell.execute_reply.started": "2022-02-16T23:47:53.687097Z",
          "shell.execute_reply": "2022-02-16T23:47:53.795818Z"
        },
        "trusted": true,
        "id": "0JJhfqg9BN0g",
        "outputId": "7523a91e-b653-4b15-cbd6-1a74f6e090d2"
      },
      "execution_count": null,
      "outputs": [
        {
          "name": "stdout",
          "text": "Loaded all data!\n",
          "output_type": "stream"
        }
      ]
    },
    {
      "cell_type": "code",
      "source": [
        "train = load_data_for_all_assets().sort_values('timestamp').set_index(\"timestamp\")\n",
        "if DEBUG: \n",
        "    train = train[-500000:]  # [-2221694:]  #\n",
        "else:\n",
        "    train = train[1000000:]\n",
        "print(train.shape)"
      ],
      "metadata": {
        "papermill": {
          "duration": 17.031431,
          "end_time": "2021-11-29T18:06:17.210444",
          "exception": false,
          "start_time": "2021-11-29T18:06:00.179013",
          "status": "completed"
        },
        "tags": [],
        "execution": {
          "iopub.status.busy": "2022-02-16T23:47:53.798225Z",
          "iopub.execute_input": "2022-02-16T23:47:53.798512Z",
          "iopub.status.idle": "2022-02-16T23:48:04.476393Z",
          "shell.execute_reply.started": "2022-02-16T23:47:53.798473Z",
          "shell.execute_reply": "2022-02-16T23:48:04.475519Z"
        },
        "trusted": true,
        "id": "HcyXNV_GBN0h",
        "outputId": "01c6822a-2736-4040-9d88-de9dc71e4840"
      },
      "execution_count": null,
      "outputs": [
        {
          "name": "stdout",
          "text": "(500000, 10)\n",
          "output_type": "stream"
        }
      ]
    },
    {
      "cell_type": "code",
      "source": [
        "# Memory saving function credit to https://www.kaggle.com/gemartin/load-data-reduce-memory-usage\n",
        "def reduce_mem_usage(df):\n",
        "    \"\"\" iterate through all the columns of a dataframe and modify the data type\n",
        "        to reduce memory usage.\n",
        "    \"\"\"\n",
        "    start_mem = df.memory_usage().sum() / 1024**2\n",
        "    print('Memory usage of dataframe is {:.2f} MB'.format(start_mem))\n",
        "\n",
        "    for col in df.columns:\n",
        "        col_type = df[col].dtype.name\n",
        "        \n",
        "        if col_type not in ['object', 'category', 'datetime64[ns, UTC]', 'datetime64[ns]']:\n",
        "            c_min = df[col].min()\n",
        "            c_max = df[col].max()\n",
        "            if str(col_type)[:3] == 'int':\n",
        "                if c_min > np.iinfo(np.int8).min and c_max < np.iinfo(np.int8).max:\n",
        "                    df[col] = df[col].astype(np.int16)\n",
        "                elif c_min > np.iinfo(np.int16).min and c_max < np.iinfo(np.int16).max:\n",
        "                    df[col] = df[col].astype(np.int16)\n",
        "                elif c_min > np.iinfo(np.int32).min and c_max < np.iinfo(np.int32).max:\n",
        "                    df[col] = df[col].astype(np.int32)\n",
        "                elif c_min > np.iinfo(np.int64).min and c_max < np.iinfo(np.int64).max:\n",
        "                    df[col] = df[col].astype(np.int64)  \n",
        "            else:\n",
        "                if c_min > np.finfo(np.float16).min and c_max < np.finfo(np.float16).max:\n",
        "                    df[col] = df[col].astype(np.float16)\n",
        "                elif c_min > np.finfo(np.float32).min and c_max < np.finfo(np.float32).max:\n",
        "                    df[col] = df[col].astype(np.float32)\n",
        "                else:\n",
        "                    df[col] = df[col].astype(np.float64)\n",
        "\n",
        "    end_mem = df.memory_usage().sum() / 1024**2\n",
        "    print('Memory usage after optimization is: {:.2f} MB'.format(end_mem))\n",
        "    print('Decreased by {:.1f}%'.format(100 * (start_mem - end_mem) / start_mem))\n",
        "\n",
        "    return df\n"
      ],
      "metadata": {
        "_kg_hide-input": true,
        "_kg_hide-output": true,
        "papermill": {
          "duration": 0.054816,
          "end_time": "2021-11-29T18:06:17.597492",
          "exception": false,
          "start_time": "2021-11-29T18:06:17.542676",
          "status": "completed"
        },
        "tags": [],
        "execution": {
          "iopub.status.busy": "2022-02-16T23:48:04.477650Z",
          "iopub.execute_input": "2022-02-16T23:48:04.478322Z",
          "iopub.status.idle": "2022-02-16T23:48:04.494372Z",
          "shell.execute_reply.started": "2022-02-16T23:48:04.478276Z",
          "shell.execute_reply": "2022-02-16T23:48:04.492116Z"
        },
        "trusted": true,
        "id": "c-s1_P0NBN0l"
      },
      "execution_count": null,
      "outputs": []
    },
    {
      "cell_type": "code",
      "source": [
        "def upper_shadow(df): return df['High'] - np.maximum(df['Close'], df['Open'])\n",
        "def lower_shadow(df): return np.minimum(df['Close'], df['Open']) - df['Low']\n",
        "\n",
        "def get_features(df, row = False):\n",
        "    df_feat = df\n",
        "    df_feat['spread'] = df_feat['High'] - df_feat['Low']\n",
        "    df_feat['mean_trade'] = df_feat['Volume']/df_feat['Count']\n",
        "    df_feat['log_price_change'] = np.log(df_feat['Close']/df_feat['Open'])\n",
        "    df_feat['upper_Shadow'] = upper_shadow(df_feat)\n",
        "    df_feat['lower_Shadow'] = lower_shadow(df_feat)\n",
        "    df_feat[\"high_div_low\"] = df_feat[\"High\"] / df_feat[\"Low\"]\n",
        "    df_feat['UPS'] = (df_feat['High'] - np.maximum(df_feat['Close'], df_feat['Open']))\n",
        "    df_feat['LOS'] = (np.minimum(df_feat['Close'], df_feat['Open']) - df_feat['Low'])\n",
        "    df_feat['LOGVOL'] = np.log(1. + df_feat['Volume'])\n",
        "    df_feat['LOGCNT'] = np.log(1. + df_feat['Count'])\n",
        "    return df_feat\n",
        "\n",
        "\n",
        "# A utility function to build features around lags.\n",
        "def get_features_hist(df_feat, row=False):\n",
        "    \n",
        "    ### features to consider. See potential features...\n",
        "    ### note that we predicting returns 15 minutes ahead. This minutes price data is therefore not sufficient. We must roll the variables, 15, 30, 90, 250, 1250\n",
        "       \n",
        "    # df_feat = df[['Open', 'High', 'Low', 'Close', 'Volume', 'Count', 'VWAP', 'lr15', 'm', 'lr16', 'Asset_ID']].copy()\n",
        "\n",
        "    if df_feat.shape[0]<3750:\n",
        "        df_feat['beta_num'] = np.nan\n",
        "        df_feat['m2'] = np.nan\n",
        "    else:\n",
        "        df_feat['beta_num'] = (df_feat['lr15']*df_feat['m']).rolling(3750).mean().values\n",
        "        df_feat['m2'] = (df_feat['m']*df_feat['m']).rolling(3750).mean().values\n",
        "        \n",
        "    if row:\n",
        "        # first .iloc as far back as we need, compute feature, then downsize until .iloc[-1]\n",
        "        df_feat = df_feat.iloc[-1]\n",
        "#         mean_price = df_feat[['Open', 'High', 'Low', 'Close']].mean()\n",
        "#         med_price = df_feat[['Open', 'High', 'Low', 'Close']].median()\n",
        "        df_feat['upper_shadow'] = df_feat['High'] / df_feat[['Close', 'Open']].max()\n",
        "        df_feat['lower_shadow'] = df_feat[['Close', 'Open']].min() / df_feat['Low']\n",
        "    else:\n",
        "#         mean_price = df_feat[['Open', 'High', 'Low', 'Close']].mean(axis=1)\n",
        "#         med_price = df_feat[['Open', 'High', 'Low', 'Close']].median(axis=1)\n",
        "        df_feat['upper_shadow'] = df_feat['High'] / df_feat[['Close', 'Open']].max(axis=1)\n",
        "        df_feat['lower_shadow'] = df_feat[['Close', 'Open']].min(axis=1) / df_feat['Low']\n",
        "        # df_feat = df_feat.drop('Asset_ID', axis=1)\n",
        "        \n",
        "    df_feat['beta'] = np.nan_to_num(df_feat['beta_num'] / df_feat['m2'], nan=0., posinf=0., neginf=0.)\n",
        "    df_feat['target_lag'] = df_feat['lr15'] - df_feat['beta']*df_feat['m']  # first 15 entries of target_lagg are NaN\n",
        "\n",
        "        ### Sense checks\n",
        "#         print((df_feat['Target'] - df_feat.groupby('Asset_ID')['target_lag'].shift(-16)).abs().mean())\n",
        "#         print(df_feat.loc[(df_feat.Target.isnull())&(df_feat.target_lag.notnull())].shape)\n",
        "#         print(df_feat.loc[(df_feat.Target.notnull())&(df_feat.target_lag.isnull())].shape)        \n",
        "        \n",
        "    df_feat['open2close'] = df_feat['Close'] / df_feat['Open']\n",
        "    df_feat['high2low'] = df_feat['High'] / df_feat['Low']\n",
        "           \n",
        "#     df_feat['high2mean'] = df_feat['High'] / mean_price\n",
        "#     df_feat['low2mean'] = df_feat['Low'] / mean_price\n",
        "#     df_feat['high2median'] = df_feat['High'] / med_price\n",
        "#     df_feat['low2median'] = df_feat['Low'] / med_price\n",
        "    df_feat['volume2count'] = df_feat['Volume'] / (df_feat['Count'] + 1)\n",
        "    df_feat['close2vwap'] = df_feat['Close'] / df_feat['VWAP']\n",
        "    \n",
        "    return df_feat.replace([np.inf, -np.inf], np.nan)\n",
        "\n",
        "def log_return(series, periods=1):\n",
        "    return np.log(series).diff(periods=periods)\n",
        "\n",
        "def timestamp_to_date(timestamp):\n",
        "    return(datetime.fromtimestamp(timestamp))\n",
        "\n",
        "def get_lead_features():\n",
        "    # get_features from ethereum\n",
        "    pass\n",
        "\n"
      ],
      "metadata": {
        "papermill": {
          "duration": 37.064504,
          "end_time": "2021-11-29T18:06:54.699951",
          "exception": false,
          "start_time": "2021-11-29T18:06:17.635447",
          "status": "completed"
        },
        "tags": [],
        "execution": {
          "iopub.status.busy": "2022-02-16T23:48:04.496868Z",
          "iopub.execute_input": "2022-02-16T23:48:04.497442Z",
          "iopub.status.idle": "2022-02-16T23:48:04.540206Z",
          "shell.execute_reply.started": "2022-02-16T23:48:04.497398Z",
          "shell.execute_reply": "2022-02-16T23:48:04.539200Z"
        },
        "trusted": true,
        "id": "sYpdGRSUBN0m"
      },
      "execution_count": null,
      "outputs": []
    },
    {
      "cell_type": "code",
      "source": [
        "## FILTER DATAFRAME IF ONLY WORKING WITH ONE ASSET\n",
        "if SINGLE_ASSET:\n",
        "    train = train[train[\"Asset_ID\"]==asset_id]\n",
        "gc.collect()"
      ],
      "metadata": {
        "execution": {
          "iopub.status.busy": "2022-02-16T23:48:04.545259Z",
          "iopub.execute_input": "2022-02-16T23:48:04.545816Z",
          "iopub.status.idle": "2022-02-16T23:48:04.744903Z",
          "shell.execute_reply.started": "2022-02-16T23:48:04.545751Z",
          "shell.execute_reply": "2022-02-16T23:48:04.744171Z"
        },
        "trusted": true,
        "id": "UanoHN_9BN0o",
        "outputId": "6b6e5af6-742b-453e-c8f9-212388051a96"
      },
      "execution_count": null,
      "outputs": [
        {
          "execution_count": 11,
          "output_type": "execute_result",
          "data": {
            "text/plain": "24"
          },
          "metadata": {}
        }
      ]
    },
    {
      "cell_type": "code",
      "source": [
        "train[['Count', 'Open', 'High', 'Low', 'Close', 'Volume', 'VWAP', 'Target']] = train[['Count', 'Open', 'High', 'Low', 'Close', 'Volume', 'VWAP', 'Target']].astype(np.float32)\n",
        "print(train.shape)\n",
        "train['Target'] = train['Target'].fillna(0)\n",
        "VWAP_max = np.max(train[np.isfinite(train.VWAP)].VWAP)\n",
        "VWAP_min = np.min(train[np.isfinite(train.VWAP)].VWAP)\n",
        "train['VWAP'] = np.nan_to_num(train.VWAP, posinf=VWAP_max, neginf=VWAP_min)\n",
        "df = train[['Asset_ID', 'Target']].copy()\n",
        "times = dict((t,i) for i,t in enumerate(df.index.unique()))\n",
        "df['id'] = df.index.map(times)\n",
        "df['id'] = df['id'].astype(str) + '_' + df['Asset_ID'].astype(str)\n",
        "ids = df.id.copy()\n",
        "del df\n",
        "\n",
        "train = train.sort_index()\n",
        "ind = train.index.unique()\n",
        "def reindex(df):\n",
        "    df = df.reindex(range(ind[0],ind[-1]+60,60),method='nearest')\n",
        "    df = df.fillna(method=\"ffill\").fillna(method=\"bfill\")\n",
        "    return df\n",
        "train = train.groupby('Asset_ID').apply(reindex).reset_index(0, drop=True).sort_index()\n",
        "gc.collect()\n",
        "print(train.shape)\n",
        "\n",
        "# Matching records and marking generated rows as 'non-real'\n",
        "print(train.shape)\n",
        "train['group_num'] = train.index.map(times)\n",
        "train = train.dropna(subset=['group_num'])\n",
        "train['group_num'] = train['group_num'].astype('int')\n",
        "train['id'] = train['group_num'].astype(str) + '_' + train['Asset_ID'].astype(str)\n",
        "train['is_real'] = train.id.isin(ids) * 1\n",
        "train = train.drop('id', axis=1)\n",
        "print(train.shape)"
      ],
      "metadata": {
        "execution": {
          "iopub.status.busy": "2022-02-16T23:48:04.746176Z",
          "iopub.execute_input": "2022-02-16T23:48:04.746938Z",
          "iopub.status.idle": "2022-02-16T23:48:05.237219Z",
          "shell.execute_reply.started": "2022-02-16T23:48:04.746896Z",
          "shell.execute_reply": "2022-02-16T23:48:05.236285Z"
        },
        "trusted": true,
        "id": "ZbWQ9AD6BN0p",
        "outputId": "82d8a337-43ae-45de-c099-21edb1719348"
      },
      "execution_count": null,
      "outputs": [
        {
          "name": "stdout",
          "text": "(35716, 10)\n(35717, 10)\n(35717, 10)\n(35716, 12)\n",
          "output_type": "stream"
        }
      ]
    },
    {
      "cell_type": "code",
      "source": [
        "train['asset_order'] = train.Asset_ID.map(assets_order)\n",
        "train = train.sort_values(by=['group_num', 'asset_order'])\n",
        "# train = reduce_mem_usage(train)\n",
        "gc.collect()"
      ],
      "metadata": {
        "papermill": {
          "duration": 38.374972,
          "end_time": "2021-11-29T18:09:38.027192",
          "exception": false,
          "start_time": "2021-11-29T18:08:59.65222",
          "status": "completed"
        },
        "tags": [],
        "execution": {
          "iopub.status.busy": "2022-02-16T23:48:05.238612Z",
          "iopub.execute_input": "2022-02-16T23:48:05.238963Z",
          "iopub.status.idle": "2022-02-16T23:48:05.429156Z",
          "shell.execute_reply.started": "2022-02-16T23:48:05.238922Z",
          "shell.execute_reply": "2022-02-16T23:48:05.428278Z"
        },
        "trusted": true,
        "id": "sZd8tvS9BN0r",
        "outputId": "d2e72f99-9680-48b1-fd0e-ac85170cb0d6"
      },
      "execution_count": null,
      "outputs": [
        {
          "execution_count": 13,
          "output_type": "execute_result",
          "data": {
            "text/plain": "23"
          },
          "metadata": {}
        }
      ]
    },
    {
      "cell_type": "code",
      "source": [
        "if train.index.name == \"timestamp\":\n",
        "    train = train.reset_index()\n",
        "train['lr15'] = train.groupby('Asset_ID')['Close'].apply(lambda x: log_return(x, 15))\n",
        "train['lr16'] = train.groupby('Asset_ID')['Close'].apply(lambda x: log_return(x, 16))\n",
        "train = train.merge(df_asset_details[['Asset_ID','Weight']], how='left', on = 'Asset_ID')\n",
        "train['m'] = train['lr15']*train['Weight']\n",
        "train['m'] = train.groupby('timestamp')['m'].transform('sum') / np.sum(df_asset_details['Weight'])\n",
        "\n",
        "train.head(20)"
      ],
      "metadata": {
        "execution": {
          "iopub.status.busy": "2022-02-16T23:48:05.430694Z",
          "iopub.execute_input": "2022-02-16T23:48:05.430980Z",
          "iopub.status.idle": "2022-02-16T23:48:05.493682Z",
          "shell.execute_reply.started": "2022-02-16T23:48:05.430942Z",
          "shell.execute_reply": "2022-02-16T23:48:05.492960Z"
        },
        "trusted": true,
        "id": "1U6_6IK2BN0t",
        "outputId": "1d42f80c-d3b8-489a-8be3-dd5417dd712f"
      },
      "execution_count": null,
      "outputs": [
        {
          "execution_count": 14,
          "output_type": "execute_result",
          "data": {
            "text/plain": "     timestamp  Asset_ID    Count      Open      High       Low     Close  \\\n0   1621399380         3  13863.0  1.642700  1.649500  1.611000  1.623511   \n1   1621399440         3   9173.0  1.623793  1.654195  1.615200  1.645859   \n2   1621399500         3   9524.0  1.645627  1.673242  1.617400  1.664102   \n3   1621399560         3   7761.0  1.663457  1.669406  1.631900  1.640231   \n4   1621399620         3   6559.0  1.640461  1.664600  1.635679  1.658525   \n5   1621399680         3   5590.0  1.658125  1.671800  1.643700  1.657311   \n6   1621399740         3   8552.0  1.657763  1.660800  1.620500  1.639733   \n7   1621399800         3   7144.0  1.640014  1.656900  1.628995  1.648322   \n8   1621399860         3   8980.0  1.647378  1.649000  1.615000  1.628970   \n9   1621399920         3  10643.0  1.630148  1.635000  1.600000  1.610441   \n10  1621399980         3   9123.0  1.610199  1.620600  1.590000  1.599522   \n11  1621400040         3   8817.0  1.598771  1.608200  1.585420  1.594127   \n12  1621400100         3   9643.0  1.593979  1.609100  1.580200  1.602591   \n13  1621400160         3   9587.0  1.602049  1.620000  1.583223  1.604161   \n14  1621400220         3   8442.0  1.604467  1.635300  1.590800  1.625749   \n15  1621400280         3   9203.0  1.626747  1.654680  1.614000  1.646023   \n16  1621400340         3   7288.0  1.644431  1.665100  1.635800  1.660292   \n17  1621400400         3   7925.0  1.660577  1.690000  1.658100  1.683223   \n18  1621400460         3  10511.0  1.684452  1.715800  1.682200  1.705574   \n19  1621400520         3  10550.0  1.704350  1.707674  1.676489  1.680776   \n\n         Volume      VWAP    Target                date  group_num  is_real  \\\n0   10208457.00  1.627059  0.006264 2021-05-19 04:43:00          0        1   \n1    6408643.00  1.640546  0.010261 2021-05-19 04:44:00          1        1   \n2    6283014.50  1.647340  0.016606 2021-05-19 04:45:00          2        1   \n3    4516063.00  1.650989  0.013718 2021-05-19 04:46:00          3        1   \n4    4456316.50  1.651940  0.021053 2021-05-19 04:47:00          4        1   \n5    3973633.75  1.655983  0.023950 2021-05-19 04:48:00          5        1   \n6    4245567.50  1.643210  0.021678 2021-05-19 04:49:00          6        1   \n7    3585431.25  1.644723  0.026200 2021-05-19 04:50:00          7        1   \n8    5622760.00  1.628477  0.027583 2021-05-19 04:51:00          8        1   \n9    7331379.50  1.614531  0.028171 2021-05-19 04:52:00          9        1   \n10   6849127.00  1.604222  0.022879 2021-05-19 04:53:00         10        1   \n11   5408449.00  1.597099  0.030317 2021-05-19 04:54:00         11        1   \n12   6437179.50  1.597654  0.033699 2021-05-19 04:55:00         12        1   \n13   6343381.00  1.606019  0.038886 2021-05-19 04:56:00         13        1   \n14   4911103.00  1.616691  0.028503 2021-05-19 04:57:00         14        1   \n15   5982300.00  1.636194  0.025401 2021-05-19 04:58:00         15        1   \n16   5016601.50  1.654719  0.014743 2021-05-19 04:59:00         16        1   \n17   5371792.50  1.670483  0.008765 2021-05-19 05:00:00         17        1   \n18   7358236.50  1.701093  0.010435 2021-05-19 05:01:00         18        1   \n19   6785659.50  1.687330  0.003379 2021-05-19 05:02:00         19        1   \n\n    asset_order      lr15      lr16    Weight         m  \n0             0       NaN       NaN  4.406719  0.000000  \n1             0       NaN       NaN  4.406719  0.000000  \n2             0       NaN       NaN  4.406719  0.000000  \n3             0       NaN       NaN  4.406719  0.000000  \n4             0       NaN       NaN  4.406719  0.000000  \n5             0       NaN       NaN  4.406719  0.000000  \n6             0       NaN       NaN  4.406719  0.000000  \n7             0       NaN       NaN  4.406719  0.000000  \n8             0       NaN       NaN  4.406719  0.000000  \n9             0       NaN       NaN  4.406719  0.000000  \n10            0       NaN       NaN  4.406719  0.000000  \n11            0       NaN       NaN  4.406719  0.000000  \n12            0       NaN       NaN  4.406719  0.000000  \n13            0       NaN       NaN  4.406719  0.000000  \n14            0       NaN       NaN  4.406719  0.000000  \n15            0  0.013771       NaN  4.406719  0.001484  \n16            0  0.008731  0.022402  4.406719  0.000941  \n17            0  0.011425  0.022448  4.406719  0.001232  \n18            0  0.039064  0.024616  4.406719  0.004211  \n19            0  0.013327  0.024418  4.406719  0.001437  ",
            "text/html": "<div>\n<style scoped>\n    .dataframe tbody tr th:only-of-type {\n        vertical-align: middle;\n    }\n\n    .dataframe tbody tr th {\n        vertical-align: top;\n    }\n\n    .dataframe thead th {\n        text-align: right;\n    }\n</style>\n<table border=\"1\" class=\"dataframe\">\n  <thead>\n    <tr style=\"text-align: right;\">\n      <th></th>\n      <th>timestamp</th>\n      <th>Asset_ID</th>\n      <th>Count</th>\n      <th>Open</th>\n      <th>High</th>\n      <th>Low</th>\n      <th>Close</th>\n      <th>Volume</th>\n      <th>VWAP</th>\n      <th>Target</th>\n      <th>date</th>\n      <th>group_num</th>\n      <th>is_real</th>\n      <th>asset_order</th>\n      <th>lr15</th>\n      <th>lr16</th>\n      <th>Weight</th>\n      <th>m</th>\n    </tr>\n  </thead>\n  <tbody>\n    <tr>\n      <th>0</th>\n      <td>1621399380</td>\n      <td>3</td>\n      <td>13863.0</td>\n      <td>1.642700</td>\n      <td>1.649500</td>\n      <td>1.611000</td>\n      <td>1.623511</td>\n      <td>10208457.00</td>\n      <td>1.627059</td>\n      <td>0.006264</td>\n      <td>2021-05-19 04:43:00</td>\n      <td>0</td>\n      <td>1</td>\n      <td>0</td>\n      <td>NaN</td>\n      <td>NaN</td>\n      <td>4.406719</td>\n      <td>0.000000</td>\n    </tr>\n    <tr>\n      <th>1</th>\n      <td>1621399440</td>\n      <td>3</td>\n      <td>9173.0</td>\n      <td>1.623793</td>\n      <td>1.654195</td>\n      <td>1.615200</td>\n      <td>1.645859</td>\n      <td>6408643.00</td>\n      <td>1.640546</td>\n      <td>0.010261</td>\n      <td>2021-05-19 04:44:00</td>\n      <td>1</td>\n      <td>1</td>\n      <td>0</td>\n      <td>NaN</td>\n      <td>NaN</td>\n      <td>4.406719</td>\n      <td>0.000000</td>\n    </tr>\n    <tr>\n      <th>2</th>\n      <td>1621399500</td>\n      <td>3</td>\n      <td>9524.0</td>\n      <td>1.645627</td>\n      <td>1.673242</td>\n      <td>1.617400</td>\n      <td>1.664102</td>\n      <td>6283014.50</td>\n      <td>1.647340</td>\n      <td>0.016606</td>\n      <td>2021-05-19 04:45:00</td>\n      <td>2</td>\n      <td>1</td>\n      <td>0</td>\n      <td>NaN</td>\n      <td>NaN</td>\n      <td>4.406719</td>\n      <td>0.000000</td>\n    </tr>\n    <tr>\n      <th>3</th>\n      <td>1621399560</td>\n      <td>3</td>\n      <td>7761.0</td>\n      <td>1.663457</td>\n      <td>1.669406</td>\n      <td>1.631900</td>\n      <td>1.640231</td>\n      <td>4516063.00</td>\n      <td>1.650989</td>\n      <td>0.013718</td>\n      <td>2021-05-19 04:46:00</td>\n      <td>3</td>\n      <td>1</td>\n      <td>0</td>\n      <td>NaN</td>\n      <td>NaN</td>\n      <td>4.406719</td>\n      <td>0.000000</td>\n    </tr>\n    <tr>\n      <th>4</th>\n      <td>1621399620</td>\n      <td>3</td>\n      <td>6559.0</td>\n      <td>1.640461</td>\n      <td>1.664600</td>\n      <td>1.635679</td>\n      <td>1.658525</td>\n      <td>4456316.50</td>\n      <td>1.651940</td>\n      <td>0.021053</td>\n      <td>2021-05-19 04:47:00</td>\n      <td>4</td>\n      <td>1</td>\n      <td>0</td>\n      <td>NaN</td>\n      <td>NaN</td>\n      <td>4.406719</td>\n      <td>0.000000</td>\n    </tr>\n    <tr>\n      <th>5</th>\n      <td>1621399680</td>\n      <td>3</td>\n      <td>5590.0</td>\n      <td>1.658125</td>\n      <td>1.671800</td>\n      <td>1.643700</td>\n      <td>1.657311</td>\n      <td>3973633.75</td>\n      <td>1.655983</td>\n      <td>0.023950</td>\n      <td>2021-05-19 04:48:00</td>\n      <td>5</td>\n      <td>1</td>\n      <td>0</td>\n      <td>NaN</td>\n      <td>NaN</td>\n      <td>4.406719</td>\n      <td>0.000000</td>\n    </tr>\n    <tr>\n      <th>6</th>\n      <td>1621399740</td>\n      <td>3</td>\n      <td>8552.0</td>\n      <td>1.657763</td>\n      <td>1.660800</td>\n      <td>1.620500</td>\n      <td>1.639733</td>\n      <td>4245567.50</td>\n      <td>1.643210</td>\n      <td>0.021678</td>\n      <td>2021-05-19 04:49:00</td>\n      <td>6</td>\n      <td>1</td>\n      <td>0</td>\n      <td>NaN</td>\n      <td>NaN</td>\n      <td>4.406719</td>\n      <td>0.000000</td>\n    </tr>\n    <tr>\n      <th>7</th>\n      <td>1621399800</td>\n      <td>3</td>\n      <td>7144.0</td>\n      <td>1.640014</td>\n      <td>1.656900</td>\n      <td>1.628995</td>\n      <td>1.648322</td>\n      <td>3585431.25</td>\n      <td>1.644723</td>\n      <td>0.026200</td>\n      <td>2021-05-19 04:50:00</td>\n      <td>7</td>\n      <td>1</td>\n      <td>0</td>\n      <td>NaN</td>\n      <td>NaN</td>\n      <td>4.406719</td>\n      <td>0.000000</td>\n    </tr>\n    <tr>\n      <th>8</th>\n      <td>1621399860</td>\n      <td>3</td>\n      <td>8980.0</td>\n      <td>1.647378</td>\n      <td>1.649000</td>\n      <td>1.615000</td>\n      <td>1.628970</td>\n      <td>5622760.00</td>\n      <td>1.628477</td>\n      <td>0.027583</td>\n      <td>2021-05-19 04:51:00</td>\n      <td>8</td>\n      <td>1</td>\n      <td>0</td>\n      <td>NaN</td>\n      <td>NaN</td>\n      <td>4.406719</td>\n      <td>0.000000</td>\n    </tr>\n    <tr>\n      <th>9</th>\n      <td>1621399920</td>\n      <td>3</td>\n      <td>10643.0</td>\n      <td>1.630148</td>\n      <td>1.635000</td>\n      <td>1.600000</td>\n      <td>1.610441</td>\n      <td>7331379.50</td>\n      <td>1.614531</td>\n      <td>0.028171</td>\n      <td>2021-05-19 04:52:00</td>\n      <td>9</td>\n      <td>1</td>\n      <td>0</td>\n      <td>NaN</td>\n      <td>NaN</td>\n      <td>4.406719</td>\n      <td>0.000000</td>\n    </tr>\n    <tr>\n      <th>10</th>\n      <td>1621399980</td>\n      <td>3</td>\n      <td>9123.0</td>\n      <td>1.610199</td>\n      <td>1.620600</td>\n      <td>1.590000</td>\n      <td>1.599522</td>\n      <td>6849127.00</td>\n      <td>1.604222</td>\n      <td>0.022879</td>\n      <td>2021-05-19 04:53:00</td>\n      <td>10</td>\n      <td>1</td>\n      <td>0</td>\n      <td>NaN</td>\n      <td>NaN</td>\n      <td>4.406719</td>\n      <td>0.000000</td>\n    </tr>\n    <tr>\n      <th>11</th>\n      <td>1621400040</td>\n      <td>3</td>\n      <td>8817.0</td>\n      <td>1.598771</td>\n      <td>1.608200</td>\n      <td>1.585420</td>\n      <td>1.594127</td>\n      <td>5408449.00</td>\n      <td>1.597099</td>\n      <td>0.030317</td>\n      <td>2021-05-19 04:54:00</td>\n      <td>11</td>\n      <td>1</td>\n      <td>0</td>\n      <td>NaN</td>\n      <td>NaN</td>\n      <td>4.406719</td>\n      <td>0.000000</td>\n    </tr>\n    <tr>\n      <th>12</th>\n      <td>1621400100</td>\n      <td>3</td>\n      <td>9643.0</td>\n      <td>1.593979</td>\n      <td>1.609100</td>\n      <td>1.580200</td>\n      <td>1.602591</td>\n      <td>6437179.50</td>\n      <td>1.597654</td>\n      <td>0.033699</td>\n      <td>2021-05-19 04:55:00</td>\n      <td>12</td>\n      <td>1</td>\n      <td>0</td>\n      <td>NaN</td>\n      <td>NaN</td>\n      <td>4.406719</td>\n      <td>0.000000</td>\n    </tr>\n    <tr>\n      <th>13</th>\n      <td>1621400160</td>\n      <td>3</td>\n      <td>9587.0</td>\n      <td>1.602049</td>\n      <td>1.620000</td>\n      <td>1.583223</td>\n      <td>1.604161</td>\n      <td>6343381.00</td>\n      <td>1.606019</td>\n      <td>0.038886</td>\n      <td>2021-05-19 04:56:00</td>\n      <td>13</td>\n      <td>1</td>\n      <td>0</td>\n      <td>NaN</td>\n      <td>NaN</td>\n      <td>4.406719</td>\n      <td>0.000000</td>\n    </tr>\n    <tr>\n      <th>14</th>\n      <td>1621400220</td>\n      <td>3</td>\n      <td>8442.0</td>\n      <td>1.604467</td>\n      <td>1.635300</td>\n      <td>1.590800</td>\n      <td>1.625749</td>\n      <td>4911103.00</td>\n      <td>1.616691</td>\n      <td>0.028503</td>\n      <td>2021-05-19 04:57:00</td>\n      <td>14</td>\n      <td>1</td>\n      <td>0</td>\n      <td>NaN</td>\n      <td>NaN</td>\n      <td>4.406719</td>\n      <td>0.000000</td>\n    </tr>\n    <tr>\n      <th>15</th>\n      <td>1621400280</td>\n      <td>3</td>\n      <td>9203.0</td>\n      <td>1.626747</td>\n      <td>1.654680</td>\n      <td>1.614000</td>\n      <td>1.646023</td>\n      <td>5982300.00</td>\n      <td>1.636194</td>\n      <td>0.025401</td>\n      <td>2021-05-19 04:58:00</td>\n      <td>15</td>\n      <td>1</td>\n      <td>0</td>\n      <td>0.013771</td>\n      <td>NaN</td>\n      <td>4.406719</td>\n      <td>0.001484</td>\n    </tr>\n    <tr>\n      <th>16</th>\n      <td>1621400340</td>\n      <td>3</td>\n      <td>7288.0</td>\n      <td>1.644431</td>\n      <td>1.665100</td>\n      <td>1.635800</td>\n      <td>1.660292</td>\n      <td>5016601.50</td>\n      <td>1.654719</td>\n      <td>0.014743</td>\n      <td>2021-05-19 04:59:00</td>\n      <td>16</td>\n      <td>1</td>\n      <td>0</td>\n      <td>0.008731</td>\n      <td>0.022402</td>\n      <td>4.406719</td>\n      <td>0.000941</td>\n    </tr>\n    <tr>\n      <th>17</th>\n      <td>1621400400</td>\n      <td>3</td>\n      <td>7925.0</td>\n      <td>1.660577</td>\n      <td>1.690000</td>\n      <td>1.658100</td>\n      <td>1.683223</td>\n      <td>5371792.50</td>\n      <td>1.670483</td>\n      <td>0.008765</td>\n      <td>2021-05-19 05:00:00</td>\n      <td>17</td>\n      <td>1</td>\n      <td>0</td>\n      <td>0.011425</td>\n      <td>0.022448</td>\n      <td>4.406719</td>\n      <td>0.001232</td>\n    </tr>\n    <tr>\n      <th>18</th>\n      <td>1621400460</td>\n      <td>3</td>\n      <td>10511.0</td>\n      <td>1.684452</td>\n      <td>1.715800</td>\n      <td>1.682200</td>\n      <td>1.705574</td>\n      <td>7358236.50</td>\n      <td>1.701093</td>\n      <td>0.010435</td>\n      <td>2021-05-19 05:01:00</td>\n      <td>18</td>\n      <td>1</td>\n      <td>0</td>\n      <td>0.039064</td>\n      <td>0.024616</td>\n      <td>4.406719</td>\n      <td>0.004211</td>\n    </tr>\n    <tr>\n      <th>19</th>\n      <td>1621400520</td>\n      <td>3</td>\n      <td>10550.0</td>\n      <td>1.704350</td>\n      <td>1.707674</td>\n      <td>1.676489</td>\n      <td>1.680776</td>\n      <td>6785659.50</td>\n      <td>1.687330</td>\n      <td>0.003379</td>\n      <td>2021-05-19 05:02:00</td>\n      <td>19</td>\n      <td>1</td>\n      <td>0</td>\n      <td>0.013327</td>\n      <td>0.024418</td>\n      <td>4.406719</td>\n      <td>0.001437</td>\n    </tr>\n  </tbody>\n</table>\n</div>"
          },
          "metadata": {}
        }
      ]
    },
    {
      "cell_type": "code",
      "source": [
        "def get_split_indices(indices):\n",
        "    train_end_idx = int(len(indices) * (1 - (PCT_VALIDATION+PCT_TEST)/100))\n",
        "    val_end_idx = int(len(indices) * (1 - (PCT_TEST)/100))\n",
        "    return indices[train_end_idx], indices[val_end_idx]\n",
        "\n",
        "train_end_idx = {}\n",
        "val_end_idx = {}\n",
        "if not SINGLE_ASSET:\n",
        "    for i in range(N_ASSETS):\n",
        "        X_asset_indices = train[train[\"Asset_ID\"]==i].index\n",
        "        train_end_idx[i], val_end_idx[i] = get_split_indices(X_asset_indices)\n",
        "else:\n",
        "    X_asset_indices = train[train[\"Asset_ID\"]==asset_id].index\n",
        "    train_end_idx[asset_id], val_end_idx[asset_id] = get_split_indices(X_asset_indices)"
      ],
      "metadata": {
        "execution": {
          "iopub.status.busy": "2022-02-16T23:48:05.494947Z",
          "iopub.execute_input": "2022-02-16T23:48:05.495518Z",
          "iopub.status.idle": "2022-02-16T23:48:05.509062Z",
          "shell.execute_reply.started": "2022-02-16T23:48:05.495478Z",
          "shell.execute_reply": "2022-02-16T23:48:05.508130Z"
        },
        "trusted": true,
        "id": "zOLQMNEBBN0v"
      },
      "execution_count": null,
      "outputs": []
    },
    {
      "cell_type": "code",
      "source": [
        "# create train data of shape: Batch Size X Window Size X Num Assets --> bBATCH_SIZEon mean over all features\n",
        "# create train lables of shape: batch size X Num Assets  -->  based on target of t(win_len)\n",
        "# given data and index, train batches + labels are created\n",
        "\n",
        "\n",
        "class sample_generator(keras.utils.Sequence):\n",
        "    def __init__(self, x_set, y_set, batch_size, length, prediction_length):\n",
        "        self.x, self.y = x_set, y_set\n",
        "        self.batch_size = batch_size\n",
        "        self.length = length\n",
        "        self.prediction_length = prediction_length\n",
        "        self.size = len(x_set)\n",
        "    def __len__(self): return int((len(self.x)-self.length) / float(self.batch_size))\n",
        "    def __getitem__(self, idx):\n",
        "        batch_x=[]\n",
        "        batch_y=[]\n",
        "        for i in range(self.batch_size):\n",
        "            start_ind = self.batch_size*idx + i\n",
        "            end_ind = start_ind + self.length \n",
        "            if (end_ind+self.prediction_length-1) <= self.size:\n",
        "                batch_x.append(self.x[start_ind : end_ind])\n",
        "                batch_y.append(self.y[end_ind -1: end_ind+self.prediction_length-1]) \n",
        "        x,y = np.array(batch_x), np.array(batch_y)\n",
        "        assert x.shape == (BATCH_SIZE, WINDOW_SIZE,len(features)), f\"Shape Missmatch of train data generator X at idx {str(idx)} and i {str(i)}\"\n",
        "        assert x.shape == (BATCH_SIZE, WINDOW_SIZE,len(features)), f\"Shape Missmatch of train data generator Y at idx {str(idx)} and i {str(i)}\"\n",
        "        return x,y\n",
        "\n",
        "class multivariate_sample_generator(keras.utils.Sequence):\n",
        "    # generator which supports multivariate ex-features input into nbeats\n",
        "    # -> Single asset per sequence\n",
        "    # --> x_sequence.shape = batch_size x Window_size x 1\n",
        "    # --> y_sequence.shape = batch_size x 1\n",
        "    # --> e_sequence.shape = batch_size x Window_size x num_ex_var    \n",
        "    def __init__(self, x_set, y_set, e_set, batch_size, length, prediction_length):\n",
        "        self.x, self.y, self.e = x_set, y_set, e_set\n",
        "        self.batch_size = batch_size\n",
        "        self.length = length\n",
        "        self.prediction_length = prediction_length\n",
        "        self.size = len(x_set)\n",
        "        self.num_assets = self.x.shape[1]\n",
        "    def __len__(self): return int(np.ceil(len(self.x) / float(self.batch_size)))\n",
        "    def __getitem__(self, idx):\n",
        "        # idx: how many times the generator is already called\n",
        "        batch_x=[]\n",
        "        batch_y=[]\n",
        "        batch_e=[]\n",
        "        num_sample=0\n",
        "        while num_sample < self.batch_size:\n",
        "            start_ind = self.batch_size//self.num_assets*idx + num_sample//self.num_assets\n",
        "            end_ind = start_ind + self.length \n",
        "            if (end_ind+self.prediction_length-1) <= self.size:\n",
        "                for a in range(self.num_assets):\n",
        "                    batch_x.append(self.x[start_ind : end_ind, a])\n",
        "                    batch_e.append(self.e[start_ind : end_ind, a, :])\n",
        "                    batch_y.append(self.y[end_ind -1: end_ind+self.prediction_length-1, a]) \n",
        "                    num_sample += 1\n",
        "                    if num_sample >= self.batch_size: break;  ## TODO: FIND BETTER SOLUTION (here we throw aray samples if we break out of loop)\n",
        "        return [np.array(batch_x).reshape(-1,self.length,1), np.array(batch_e)], np.array(batch_y)\n",
        "    \n",
        "\n",
        "def assert_data_validity_generator(gen, batch_size, test_shift_size=1, num_tests=200):\n",
        "    for i in range(num_tests):\n",
        "        num_batch = np.random.randint(0, len(gen), dtype=int)\n",
        "        num_sample = np.random.randint(0, batch_size-1, dtype=int)\n",
        "        assert gen[num_batch][0][num_sample+test_shift_size,-1,0] == gen[num_batch][1][num_sample,0,0], \"Data Missmatch between Series and Target in generator data\"\n",
        "    print(\"All tests passed.\")\n"
      ],
      "metadata": {
        "execution": {
          "iopub.status.busy": "2022-02-16T23:48:05.512531Z",
          "iopub.execute_input": "2022-02-16T23:48:05.513042Z",
          "iopub.status.idle": "2022-02-16T23:48:05.532970Z",
          "shell.execute_reply.started": "2022-02-16T23:48:05.513007Z",
          "shell.execute_reply": "2022-02-16T23:48:05.532157Z"
        },
        "trusted": true,
        "id": "dAZBXovJBN0x"
      },
      "execution_count": null,
      "outputs": []
    },
    {
      "cell_type": "code",
      "source": [
        "X_asset = train.copy()\n",
        "X_asset = get_features_hist(X_asset)\n",
        "X_asset[\"Target_shifted\"] = X_asset[\"Target\"].shift(num_shift)\n",
        "X_asset[\"Target\"].plot()\n",
        "\n",
        "train_end_idx[asset_id], val_end_idx[asset_id]\n",
        "# features = [\"Target_shifted\"]\n",
        "features = [\"Target_shifted\", \"m\", \"upper_shadow\", \"lower_shadow\", \"open2close\", \"high2low\", \"volume2count\", \"close2vwap\"] \n",
        "target = [\"Target\"]\n",
        "X_asset.loc[X_asset.is_real==0, features] = 0 \n",
        "X_asset[features] = X_asset[features].fillna(0)\n",
        "scaler = MinMaxScaler()\n",
        "X_asset[features] = scaler.fit_transform(X_asset[features])  # TODO: NEEDS TO BE SEPARATED FOR TRAIN TEST\n",
        " \n",
        "train_generator = sample_generator(X_asset.loc[:train_end_idx[asset_id], features], \n",
        "                                   X_asset.loc[:train_end_idx[asset_id], target], \n",
        "                                   length = WINDOW_SIZE, batch_size = BATCH_SIZE, prediction_length=prediction_length)\n",
        "val_generator = sample_generator(X_asset.loc[train_end_idx[asset_id]:val_end_idx[asset_id], features], \n",
        "                                 X_asset.loc[train_end_idx[asset_id]:val_end_idx[asset_id], target], \n",
        "                                 length = WINDOW_SIZE, batch_size = BATCH_SIZE, prediction_length=prediction_length)\n",
        "test_generator = sample_generator(X_asset.loc[val_end_idx[asset_id]:, features], \n",
        "                                  X_asset.loc[val_end_idx[asset_id]:, target], \n",
        "                                  length = WINDOW_SIZE, batch_size = BATCH_SIZE, prediction_length=prediction_length)\n",
        "\n",
        "print(\"BATCH_SIZE: \", BATCH_SIZE)\n",
        "print(f'Train batch shape: {train_generator[0][0].shape}')\n",
        "print(f'Target batch shape: {train_generator[0][1].shape}')\n",
        "\n",
        "print(\"Num batches of train, validation and test generator: \", len(train_generator),\", \", len(val_generator),\", \", len(test_generator))\n",
        "print(\"Num Training Samples: \", len(train_generator)*BATCH_SIZE)"
      ],
      "metadata": {
        "execution": {
          "iopub.status.busy": "2022-02-16T23:48:05.534632Z",
          "iopub.execute_input": "2022-02-16T23:48:05.535193Z",
          "iopub.status.idle": "2022-02-16T23:48:05.899126Z",
          "shell.execute_reply.started": "2022-02-16T23:48:05.535152Z",
          "shell.execute_reply": "2022-02-16T23:48:05.897138Z"
        },
        "trusted": true,
        "id": "2edJBanzBN0y",
        "outputId": "48078280-a612-410f-fb43-3f60bf479bd9"
      },
      "execution_count": null,
      "outputs": [
        {
          "name": "stdout",
          "text": "BATCH_SIZE:  64\nTrain batch shape: (64, 64, 8)\nTarget batch shape: (64, 1, 1)\nNum batches of train, validation and test generator:  445 ,  54 ,  54\nNum Training Samples:  28480\n",
          "output_type": "stream"
        },
        {
          "output_type": "display_data",
          "data": {
            "text/plain": "<Figure size 432x288 with 1 Axes>",
            "image/png": "[encoded data removed]"
          },
          "metadata": {
            "needs_background": "light"
          }
        }
      ]
    },
    {
      "cell_type": "markdown",
      "source": [
        "# <span class=\"title-section w3-xxlarge\" id=\"training\">Training 🏋️</span>\n",
        "<hr>\n",
        "\n",
        "Our model will be trained for the number of FOLDS and EPOCHS you chose in the configuration above. Each fold the model with lowest validation loss will be saved and used to predict OOF and test. Adjust the variable `VERBOSE`. The variable `VERBOSE=1 or 2` will display the training and validation loss for each epoch as text. "
      ],
      "metadata": {
        "papermill": {
          "duration": 0.038491,
          "end_time": "2021-11-29T18:09:46.955605",
          "exception": false,
          "start_time": "2021-11-29T18:09:46.917114",
          "status": "completed"
        },
        "tags": [],
        "id": "6_ydxVveBN01"
      }
    },
    {
      "cell_type": "code",
      "source": [
        "class Time2Vec(keras.layers.Layer):\n",
        "    def __init__(self, kernel_size=1):\n",
        "        super(Time2Vec, self).__init__(trainable=True, name='Time2VecLayer')\n",
        "        self.k = kernel_size\n",
        "    \n",
        "    def build(self, input_shape):  # build automatically executed before layer is called for the first time --  mostly used to instantiate weights\n",
        "        # trend\n",
        "        self.wb = self.add_weight(name='wb',shape=(input_shape[1],),initializer='uniform',trainable=True)\n",
        "        self.bb = self.add_weight(name='bb',shape=(input_shape[1],),initializer='uniform',trainable=True)\n",
        "        # periodic\n",
        "        self.wa = self.add_weight(name='wa',shape=(1, input_shape[1], self.k),initializer='uniform',trainable=True)\n",
        "        self.ba = self.add_weight(name='ba',shape=(1, input_shape[1], self.k),initializer='uniform',trainable=True)\n",
        "        super(Time2Vec, self).build(input_shape)\n",
        "    \n",
        "    def call(self, inputs, **kwargs):  # where the layer logic lives\n",
        "        bias = self.wb * inputs + self.bb\n",
        "        dp = K.dot(inputs, self.wa) + self.ba\n",
        "        wgts = K.sin(dp) # or K.cos(.)\n",
        "\n",
        "        ret = K.concatenate([K.expand_dims(bias, -1), wgts], -1)\n",
        "        ret = K.reshape(ret, (-1, inputs.shape[1]*(self.k+1)))\n",
        "        return ret\n",
        "    \n",
        "    def compute_output_shape(self, input_shape):\n",
        "        return (input_shape[0], input_shape[1]*(self.k + 1))\n",
        "    \n",
        "\n",
        "# https://towardsdatascience.com/time2vec-for-time-series-features-encoding-a03a4f3f937e\n",
        "class T2V(keras.layers.Layer):\n",
        "    \n",
        "    def __init__(self, output_dim=None, **kwargs):\n",
        "        self.output_dim = output_dim\n",
        "        super(T2V, self).__init__(**kwargs)\n",
        "        \n",
        "    def build(self, input_shape):        \n",
        "        self.W = self.add_weight(name='W',\n",
        "                      shape=(input_shape[-1], self.output_dim),\n",
        "                      initializer='uniform',\n",
        "                      trainable=True)        \n",
        "        self.P = self.add_weight(name='P',\n",
        "                      shape=(input_shape[1], self.output_dim),\n",
        "                      initializer='uniform',\n",
        "                      trainable=True)        \n",
        "        self.w = self.add_weight(name='w',\n",
        "                      shape=(input_shape[1], 1),\n",
        "                      initializer='uniform',\n",
        "                      trainable=True)        \n",
        "        self.p = self.add_weight(name='p',\n",
        "                      shape=(input_shape[1], 1),\n",
        "                      initializer='uniform',\n",
        "                      trainable=True)        \n",
        "        super(T2V, self).build(input_shape)\n",
        "        \n",
        "    def call(self, x):\n",
        "        \n",
        "        original = self.w * x + self.p\n",
        "        sin_trans = K.sin(K.dot(x, self.W) + self.P)\n",
        "        \n",
        "        return K.concatenate([sin_trans, original], -1)"
      ],
      "metadata": {
        "execution": {
          "iopub.status.busy": "2022-02-16T23:48:05.900707Z",
          "iopub.execute_input": "2022-02-16T23:48:05.901038Z",
          "iopub.status.idle": "2022-02-16T23:48:05.919205Z",
          "shell.execute_reply.started": "2022-02-16T23:48:05.900994Z",
          "shell.execute_reply": "2022-02-16T23:48:05.918366Z"
        },
        "trusted": true,
        "id": "sMaey7ZHBN02"
      },
      "execution_count": null,
      "outputs": []
    },
    {
      "cell_type": "code",
      "source": [
        "# https://towardsdatascience.com/the-time-series-transformer-2a521a0efad3\n",
        "from tensorflow_addons.layers import MultiHeadAttention\n",
        "\n",
        "class AttentionBlock(keras.Model):\n",
        "    def __init__(self, name='AttentionBlock', num_heads=2, head_size=128, ff_dim=None, dropout=0, **kwargs):\n",
        "        super().__init__(name=name, **kwargs)\n",
        "\n",
        "        if ff_dim is None:\n",
        "            ff_dim = head_size\n",
        "\n",
        "        self.attention = MultiHeadAttention(num_heads=num_heads, head_size=head_size, dropout=dropout)\n",
        "        self.attention_dropout = keras.layers.Dropout(dropout)\n",
        "        self.attention_norm = keras.layers.BatchNormalization(epsilon=1e-6)\n",
        "\n",
        "        self.ff_conv1 = keras.layers.Conv1D(filters=ff_dim, kernel_size=1, activation='relu')\n",
        "        # self.ff_conv2 at build()\n",
        "        self.ff_dropout = keras.layers.Dropout(dropout)\n",
        "        self.ff_norm = keras.layers.BatchNormalization(epsilon=1e-6)\n",
        "\n",
        "    def build(self, input_shape):\n",
        "        self.ff_conv2 = keras.layers.Conv1D(filters=input_shape[-1], kernel_size=1) \n",
        "\n",
        "    def call(self, inputs):\n",
        "        x = self.attention([inputs, inputs])\n",
        "        x = self.attention_dropout(x)\n",
        "        x = self.attention_norm(inputs + x)\n",
        "\n",
        "        x = self.ff_conv1(x)\n",
        "        x = self.ff_conv2(x)\n",
        "        x = self.ff_dropout(x)\n",
        "\n",
        "        x = self.ff_norm(inputs + x)\n",
        "        return x\n",
        "    \n",
        "\n",
        "class ModelTrunk(keras.Model):\n",
        "    def __init__(self, name='ModelTrunk', time2vec_dim=1, num_heads=2, head_size=128, ff_dim=None, num_layers=1, dropout=0, **kwargs):\n",
        "        super().__init__(name=name, **kwargs)\n",
        "        self.time2vec = Time2Vec(kernel_size=time2vec_dim)\n",
        "        if ff_dim is None:\n",
        "            ff_dim = head_size\n",
        "        self.dropout = dropout\n",
        "        self.attention_layers = [AttentionBlock(num_heads=num_heads, head_size=head_size, ff_dim=ff_dim, dropout=dropout) for _ in range(num_layers)]\n",
        "\n",
        "        \n",
        "    def call(self, inputs):\n",
        "        time_embedding = keras.layers.TimeDistributed(self.time2vec)(inputs)\n",
        "        x = K.concatenate([inputs, time_embedding], -1)\n",
        "        for attention_layer in self.attention_layers:\n",
        "            x = attention_layer(x)\n",
        "\n",
        "        return K.reshape(x, (-1, x.shape[1] * x.shape[2])) # flat vector of features out\n",
        "    \n",
        "\n",
        "def build_model_new(\n",
        "    input_shape,  # shape of time series sample\n",
        "    head_size, # size of multi head attention\n",
        "    num_heads,  # number of multi-head attention \n",
        "    ff_dim,  # \n",
        "    num_transformer_blocks, # \n",
        "    mlp_units, # list of N dense layers with i neurons\n",
        "    dropout=0,  # transformer block dropout rate\n",
        "    mlp_dropout=0,  # \n",
        "    time2vec_dim=3\n",
        "):\n",
        "    inputs = keras.Input(shape=input_shape)\n",
        "    \n",
        "    x = ModelTrunk(num_heads=num_heads, head_size=head_size, ff_dim=ff_dim, num_layers=num_transformer_blocks, time2vec_dim=time2vec_dim, dropout=dropout)(inputs)\n",
        "\n",
        "    # x = layers.GlobalAveragePooling1D(data_format=\"channels_first\")(x)\n",
        "    for dim in mlp_units:\n",
        "        x = layers.Dense(dim, activation=\"relu\")(x)\n",
        "        x = layers.Dropout(mlp_dropout)(x)\n",
        "    outputs = layers.Dense(1, kernel_initializer=\"normal\")(x)\n",
        "    return keras.Model(inputs, outputs)\n",
        "\n",
        "\n",
        "# https://github.com/tatp22/multidim-positional-encoding/blob/master/positional_encodings/tf_positional_encodings.py\n",
        "class TFPositionalEncoding1D(tf.keras.layers.Layer):\n",
        "    def __init__(self, channels: int, dtype=tf.float32):\n",
        "        \"\"\"\n",
        "        Args:\n",
        "            channels int: The last dimension of the tensor you want to apply pos emb to.\n",
        "        Keyword Args:\n",
        "            dtype: output type of the encodings. Default is \"tf.float32\".\n",
        "        \"\"\"\n",
        "        super(TFPositionalEncoding1D, self).__init__()\n",
        "\n",
        "        self.channels = int(np.ceil(channels / 2) * 2)\n",
        "        self.inv_freq = np.float32(\n",
        "            1\n",
        "            / np.power(\n",
        "                10000, np.arange(0, self.channels, 2) / np.float32(self.channels)\n",
        "            )\n",
        "        )\n",
        "\n",
        "    @tf.function\n",
        "    def call(self, inputs):\n",
        "        \"\"\"\n",
        "        :param tensor: A 3d tensor of size (batch_size, x, ch)\n",
        "        :return: Positional Encoding Matrix of size (batch_size, x, ch)\n",
        "        \"\"\"\n",
        "        if len(inputs.shape) != 3:\n",
        "            raise RuntimeError(\"The input tensor has to be 3d!\")\n",
        "        _, x, org_channels = inputs.shape\n",
        "\n",
        "        dtype = self.inv_freq.dtype\n",
        "        pos_x = tf.range(x, dtype=dtype)\n",
        "        sin_inp_x = tf.einsum(\"i,j->ij\", pos_x, self.inv_freq)\n",
        "        emb = tf.expand_dims(tf.concat((tf.sin(sin_inp_x), tf.cos(sin_inp_x)), -1), 0)\n",
        "        emb = emb[0]  # A bit of a hack\n",
        "        return tf.repeat(emb[None, :, :org_channels], tf.shape(inputs)[0], axis=0)        \n",
        "        "
      ],
      "metadata": {
        "execution": {
          "iopub.status.busy": "2022-02-16T23:48:05.920891Z",
          "iopub.execute_input": "2022-02-16T23:48:05.921422Z",
          "iopub.status.idle": "2022-02-16T23:48:06.097689Z",
          "shell.execute_reply.started": "2022-02-16T23:48:05.921379Z",
          "shell.execute_reply": "2022-02-16T23:48:06.096733Z"
        },
        "trusted": true,
        "id": "M2lWgi9LBN03"
      },
      "execution_count": null,
      "outputs": []
    },
    {
      "cell_type": "code",
      "source": [
        "# https://keras.io/examples/timeseries/timeseries_transformer_classification/\n",
        "\n",
        "from tensorflow import keras\n",
        "from tensorflow.keras import layers\n",
        "\n",
        "\n",
        "def transformer_encoder(inputs, head_size, num_heads, ff_dim, dropout=0):\n",
        "    # Normalization and Attention\n",
        "    x = layers.BatchNormalization(epsilon=1e-6)(inputs)\n",
        "    x = layers.MultiHeadAttention(\n",
        "        key_dim=head_size, num_heads=num_heads, dropout=dropout\n",
        "    )(x, x)\n",
        "    x = layers.Dropout(dropout)(x)\n",
        "    res = x + inputs\n",
        "\n",
        "    # Feed Forward Part\n",
        "    x = layers.BatchNormalization(epsilon=1e-6)(res)\n",
        "    x = layers.Conv1D(filters=ff_dim, kernel_size=1, activation=\"relu\")(x)\n",
        "    x = layers.Dropout(dropout)(x)\n",
        "    x = layers.Conv1D(filters=inputs.shape[-1], kernel_size=1)(x)\n",
        "    return x + res\n",
        "\n",
        "# self.time2vec = Time2Vec(kernel_size=time2vec_dim)\n",
        "\n",
        "def build_model(\n",
        "    input_shape,  # shape of time series sample\n",
        "    head_size, # size of multi head attention\n",
        "    num_heads,  # number of multi-head attention \n",
        "    ff_dim,  # \n",
        "    num_transformer_blocks, # \n",
        "    mlp_units, # list of N dense layers with i neurons\n",
        "    dropout=0,  # transformer block dropout rate\n",
        "    mlp_dropout=0,  # \n",
        "    time2vec_dim=1\n",
        "):\n",
        "    inputs = keras.Input(shape=input_shape)\n",
        "    \n",
        "    time_embedding = TFPositionalEncoding1D(channels=input_shape[-1])(inputs)\n",
        "    x = tf.keras.layers.Add()([inputs, time_embedding])\n",
        "    \n",
        "    # x = inputs\n",
        "    for _ in range(num_transformer_blocks):\n",
        "        x = transformer_encoder(x, head_size, num_heads, ff_dim, dropout)\n",
        "\n",
        "    x = layers.GlobalAveragePooling1D(data_format=\"channels_first\")(x)\n",
        "    for dim in mlp_units:\n",
        "        x = layers.Dense(dim, activation=\"relu\")(x)\n",
        "        x = layers.Dropout(mlp_dropout)(x)\n",
        "    outputs = layers.Dense(1, kernel_initializer=\"normal\")(x)\n",
        "    return keras.Model(inputs, outputs)\n"
      ],
      "metadata": {
        "execution": {
          "iopub.status.busy": "2022-02-16T23:57:05.289538Z",
          "iopub.execute_input": "2022-02-16T23:57:05.289880Z",
          "iopub.status.idle": "2022-02-16T23:57:05.316472Z",
          "shell.execute_reply.started": "2022-02-16T23:57:05.289841Z",
          "shell.execute_reply": "2022-02-16T23:57:05.315274Z"
        },
        "trusted": true,
        "id": "xbPYC2zgBN05"
      },
      "execution_count": null,
      "outputs": []
    },
    {
      "cell_type": "code",
      "source": [
        "input_shape = train_generator[0][0].shape[1:]\n",
        "\n",
        "model = build_model(\n",
        "    input_shape,\n",
        "    head_size=256,\n",
        "    num_heads=4,\n",
        "    ff_dim=4,\n",
        "    num_transformer_blocks=8,\n",
        "    mlp_units=[128, 128],\n",
        "    mlp_dropout=0.1,\n",
        "    dropout=0.1,\n",
        "    time2vec_dim=TIME2VEC_DIM\n",
        ")\n",
        "\n",
        "# tfp.stats.correlation\n",
        "#tf_corr_new = tfp.stats.correlation(x, y=None, sample_axis=0, event_axis=-1, keepdims=False, name=None)\n",
        "# tf.contrib.metrics.streaming_pearson_correlation(logits,labels)\n",
        "\n",
        "# model.compile(\n",
        "#     optimizer=\"Adam\",\n",
        "#     loss={\"head1\": \"mse\", \"head2\": \"mse\"},\n",
        "#     loss_weights={\"head1\": HEAD1_WEIGHT, \"head2\": HEAD2_WEIGHT},\n",
        "#     metrics={\"head1\": [\"mae\"], \"head2\": [\"mae\"]}\n",
        "# )\n",
        "# \n",
        "loss_func = combined_loss\n",
        "model.compile(\n",
        "    loss=loss_func,\n",
        "    optimizer=keras.optimizers.Adam(learning_rate=1e-2),\n",
        "    metrics=[\"mae\", tfp.stats.correlation],\n",
        ")\n",
        "model.summary()\n"
      ],
      "metadata": {
        "execution": {
          "iopub.status.busy": "2022-02-16T23:57:07.134095Z",
          "iopub.execute_input": "2022-02-16T23:57:07.134622Z",
          "iopub.status.idle": "2022-02-16T23:57:08.533446Z",
          "shell.execute_reply.started": "2022-02-16T23:57:07.134585Z",
          "shell.execute_reply": "2022-02-16T23:57:08.532463Z"
        },
        "trusted": true,
        "id": "X0YhVD-JBN06",
        "outputId": "f35e06bc-275c-4548-8b5a-71f7a30369dd"
      },
      "execution_count": null,
      "outputs": [
        {
          "name": "stdout",
          "text": "Model: \"model_1\"\n__________________________________________________________________________________________________\nLayer (type)                    Output Shape         Param #     Connected to                     \n==================================================================================================\ninput_2 (InputLayer)            [(None, 64, 8)]      0                                            \n__________________________________________________________________________________________________\ntf_positional_encoding1d (TFPos (None, 64, 8)        0           input_2[0][0]                    \n__________________________________________________________________________________________________\nadd (Add)                       (None, 64, 8)        0           input_2[0][0]                    \n                                                                 tf_positional_encoding1d[0][0]   \n__________________________________________________________________________________________________\nbatch_normalization_16 (BatchNo (None, 64, 8)        32          add[0][0]                        \n__________________________________________________________________________________________________\nmulti_head_attention_8 (MultiHe (None, 64, 8)        35848       batch_normalization_16[0][0]     \n                                                                 batch_normalization_16[0][0]     \n__________________________________________________________________________________________________\ndropout_18 (Dropout)            (None, 64, 8)        0           multi_head_attention_8[0][0]     \n__________________________________________________________________________________________________\ntf.__operators__.add_16 (TFOpLa (None, 64, 8)        0           dropout_18[0][0]                 \n                                                                 add[0][0]                        \n__________________________________________________________________________________________________\nbatch_normalization_17 (BatchNo (None, 64, 8)        32          tf.__operators__.add_16[0][0]    \n__________________________________________________________________________________________________\nconv1d_16 (Conv1D)              (None, 64, 4)        36          batch_normalization_17[0][0]     \n__________________________________________________________________________________________________\ndropout_19 (Dropout)            (None, 64, 4)        0           conv1d_16[0][0]                  \n__________________________________________________________________________________________________\nconv1d_17 (Conv1D)              (None, 64, 8)        40          dropout_19[0][0]                 \n__________________________________________________________________________________________________\ntf.__operators__.add_17 (TFOpLa (None, 64, 8)        0           conv1d_17[0][0]                  \n                                                                 tf.__operators__.add_16[0][0]    \n__________________________________________________________________________________________________\nbatch_normalization_18 (BatchNo (None, 64, 8)        32          tf.__operators__.add_17[0][0]    \n__________________________________________________________________________________________________\nmulti_head_attention_9 (MultiHe (None, 64, 8)        35848       batch_normalization_18[0][0]     \n                                                                 batch_normalization_18[0][0]     \n__________________________________________________________________________________________________\ndropout_20 (Dropout)            (None, 64, 8)        0           multi_head_attention_9[0][0]     \n__________________________________________________________________________________________________\ntf.__operators__.add_18 (TFOpLa (None, 64, 8)        0           dropout_20[0][0]                 \n                                                                 tf.__operators__.add_17[0][0]    \n__________________________________________________________________________________________________\nbatch_normalization_19 (BatchNo (None, 64, 8)        32          tf.__operators__.add_18[0][0]    \n__________________________________________________________________________________________________\nconv1d_18 (Conv1D)              (None, 64, 4)        36          batch_normalization_19[0][0]     \n__________________________________________________________________________________________________\ndropout_21 (Dropout)            (None, 64, 4)        0           conv1d_18[0][0]                  \n__________________________________________________________________________________________________\nconv1d_19 (Conv1D)              (None, 64, 8)        40          dropout_21[0][0]                 \n__________________________________________________________________________________________________\ntf.__operators__.add_19 (TFOpLa (None, 64, 8)        0           conv1d_19[0][0]                  \n                                                                 tf.__operators__.add_18[0][0]    \n__________________________________________________________________________________________________\nbatch_normalization_20 (BatchNo (None, 64, 8)        32          tf.__operators__.add_19[0][0]    \n__________________________________________________________________________________________________\nmulti_head_attention_10 (MultiH (None, 64, 8)        35848       batch_normalization_20[0][0]     \n                                                                 batch_normalization_20[0][0]     \n__________________________________________________________________________________________________\ndropout_22 (Dropout)            (None, 64, 8)        0           multi_head_attention_10[0][0]    \n__________________________________________________________________________________________________\ntf.__operators__.add_20 (TFOpLa (None, 64, 8)        0           dropout_22[0][0]                 \n                                                                 tf.__operators__.add_19[0][0]    \n__________________________________________________________________________________________________\nbatch_normalization_21 (BatchNo (None, 64, 8)        32          tf.__operators__.add_20[0][0]    \n__________________________________________________________________________________________________\nconv1d_20 (Conv1D)              (None, 64, 4)        36          batch_normalization_21[0][0]     \n__________________________________________________________________________________________________\ndropout_23 (Dropout)            (None, 64, 4)        0           conv1d_20[0][0]                  \n__________________________________________________________________________________________________\nconv1d_21 (Conv1D)              (None, 64, 8)        40          dropout_23[0][0]                 \n__________________________________________________________________________________________________\ntf.__operators__.add_21 (TFOpLa (None, 64, 8)        0           conv1d_21[0][0]                  \n                                                                 tf.__operators__.add_20[0][0]    \n__________________________________________________________________________________________________\nbatch_normalization_22 (BatchNo (None, 64, 8)        32          tf.__operators__.add_21[0][0]    \n__________________________________________________________________________________________________\nmulti_head_attention_11 (MultiH (None, 64, 8)        35848       batch_normalization_22[0][0]     \n                                                                 batch_normalization_22[0][0]     \n__________________________________________________________________________________________________\ndropout_24 (Dropout)            (None, 64, 8)        0           multi_head_attention_11[0][0]    \n__________________________________________________________________________________________________\ntf.__operators__.add_22 (TFOpLa (None, 64, 8)        0           dropout_24[0][0]                 \n                                                                 tf.__operators__.add_21[0][0]    \n__________________________________________________________________________________________________\nbatch_normalization_23 (BatchNo (None, 64, 8)        32          tf.__operators__.add_22[0][0]    \n__________________________________________________________________________________________________\nconv1d_22 (Conv1D)              (None, 64, 4)        36          batch_normalization_23[0][0]     \n__________________________________________________________________________________________________\ndropout_25 (Dropout)            (None, 64, 4)        0           conv1d_22[0][0]                  \n__________________________________________________________________________________________________\nconv1d_23 (Conv1D)              (None, 64, 8)        40          dropout_25[0][0]                 \n__________________________________________________________________________________________________\ntf.__operators__.add_23 (TFOpLa (None, 64, 8)        0           conv1d_23[0][0]                  \n                                                                 tf.__operators__.add_22[0][0]    \n__________________________________________________________________________________________________\nbatch_normalization_24 (BatchNo (None, 64, 8)        32          tf.__operators__.add_23[0][0]    \n__________________________________________________________________________________________________\nmulti_head_attention_12 (MultiH (None, 64, 8)        35848       batch_normalization_24[0][0]     \n                                                                 batch_normalization_24[0][0]     \n__________________________________________________________________________________________________\ndropout_26 (Dropout)            (None, 64, 8)        0           multi_head_attention_12[0][0]    \n__________________________________________________________________________________________________\ntf.__operators__.add_24 (TFOpLa (None, 64, 8)        0           dropout_26[0][0]                 \n                                                                 tf.__operators__.add_23[0][0]    \n__________________________________________________________________________________________________\nbatch_normalization_25 (BatchNo (None, 64, 8)        32          tf.__operators__.add_24[0][0]    \n__________________________________________________________________________________________________\nconv1d_24 (Conv1D)              (None, 64, 4)        36          batch_normalization_25[0][0]     \n__________________________________________________________________________________________________\ndropout_27 (Dropout)            (None, 64, 4)        0           conv1d_24[0][0]                  \n__________________________________________________________________________________________________\nconv1d_25 (Conv1D)              (None, 64, 8)        40          dropout_27[0][0]                 \n__________________________________________________________________________________________________\ntf.__operators__.add_25 (TFOpLa (None, 64, 8)        0           conv1d_25[0][0]                  \n                                                                 tf.__operators__.add_24[0][0]    \n__________________________________________________________________________________________________\nbatch_normalization_26 (BatchNo (None, 64, 8)        32          tf.__operators__.add_25[0][0]    \n__________________________________________________________________________________________________\nmulti_head_attention_13 (MultiH (None, 64, 8)        35848       batch_normalization_26[0][0]     \n                                                                 batch_normalization_26[0][0]     \n__________________________________________________________________________________________________\ndropout_28 (Dropout)            (None, 64, 8)        0           multi_head_attention_13[0][0]    \n__________________________________________________________________________________________________\ntf.__operators__.add_26 (TFOpLa (None, 64, 8)        0           dropout_28[0][0]                 \n                                                                 tf.__operators__.add_25[0][0]    \n__________________________________________________________________________________________________\nbatch_normalization_27 (BatchNo (None, 64, 8)        32          tf.__operators__.add_26[0][0]    \n__________________________________________________________________________________________________\nconv1d_26 (Conv1D)              (None, 64, 4)        36          batch_normalization_27[0][0]     \n__________________________________________________________________________________________________\ndropout_29 (Dropout)            (None, 64, 4)        0           conv1d_26[0][0]                  \n__________________________________________________________________________________________________\nconv1d_27 (Conv1D)              (None, 64, 8)        40          dropout_29[0][0]                 \n__________________________________________________________________________________________________\ntf.__operators__.add_27 (TFOpLa (None, 64, 8)        0           conv1d_27[0][0]                  \n                                                                 tf.__operators__.add_26[0][0]    \n__________________________________________________________________________________________________\nbatch_normalization_28 (BatchNo (None, 64, 8)        32          tf.__operators__.add_27[0][0]    \n__________________________________________________________________________________________________\nmulti_head_attention_14 (MultiH (None, 64, 8)        35848       batch_normalization_28[0][0]     \n                                                                 batch_normalization_28[0][0]     \n__________________________________________________________________________________________________\ndropout_30 (Dropout)            (None, 64, 8)        0           multi_head_attention_14[0][0]    \n__________________________________________________________________________________________________\ntf.__operators__.add_28 (TFOpLa (None, 64, 8)        0           dropout_30[0][0]                 \n                                                                 tf.__operators__.add_27[0][0]    \n__________________________________________________________________________________________________\nbatch_normalization_29 (BatchNo (None, 64, 8)        32          tf.__operators__.add_28[0][0]    \n__________________________________________________________________________________________________\nconv1d_28 (Conv1D)              (None, 64, 4)        36          batch_normalization_29[0][0]     \n__________________________________________________________________________________________________\ndropout_31 (Dropout)            (None, 64, 4)        0           conv1d_28[0][0]                  \n__________________________________________________________________________________________________\nconv1d_29 (Conv1D)              (None, 64, 8)        40          dropout_31[0][0]                 \n__________________________________________________________________________________________________\ntf.__operators__.add_29 (TFOpLa (None, 64, 8)        0           conv1d_29[0][0]                  \n                                                                 tf.__operators__.add_28[0][0]    \n__________________________________________________________________________________________________\nbatch_normalization_30 (BatchNo (None, 64, 8)        32          tf.__operators__.add_29[0][0]    \n__________________________________________________________________________________________________\nmulti_head_attention_15 (MultiH (None, 64, 8)        35848       batch_normalization_30[0][0]     \n                                                                 batch_normalization_30[0][0]     \n__________________________________________________________________________________________________\ndropout_32 (Dropout)            (None, 64, 8)        0           multi_head_attention_15[0][0]    \n__________________________________________________________________________________________________\ntf.__operators__.add_30 (TFOpLa (None, 64, 8)        0           dropout_32[0][0]                 \n                                                                 tf.__operators__.add_29[0][0]    \n__________________________________________________________________________________________________\nbatch_normalization_31 (BatchNo (None, 64, 8)        32          tf.__operators__.add_30[0][0]    \n__________________________________________________________________________________________________\nconv1d_30 (Conv1D)              (None, 64, 4)        36          batch_normalization_31[0][0]     \n__________________________________________________________________________________________________\ndropout_33 (Dropout)            (None, 64, 4)        0           conv1d_30[0][0]                  \n__________________________________________________________________________________________________\nconv1d_31 (Conv1D)              (None, 64, 8)        40          dropout_33[0][0]                 \n__________________________________________________________________________________________________\ntf.__operators__.add_31 (TFOpLa (None, 64, 8)        0           conv1d_31[0][0]                  \n                                                                 tf.__operators__.add_30[0][0]    \n__________________________________________________________________________________________________\nglobal_average_pooling1d_1 (Glo (None, 64)           0           tf.__operators__.add_31[0][0]    \n__________________________________________________________________________________________________\ndense_3 (Dense)                 (None, 128)          8320        global_average_pooling1d_1[0][0] \n__________________________________________________________________________________________________\ndropout_34 (Dropout)            (None, 128)          0           dense_3[0][0]                    \n__________________________________________________________________________________________________\ndense_4 (Dense)                 (None, 128)          16512       dropout_34[0][0]                 \n__________________________________________________________________________________________________\ndropout_35 (Dropout)            (None, 128)          0           dense_4[0][0]                    \n__________________________________________________________________________________________________\ndense_5 (Dense)                 (None, 1)            129         dropout_35[0][0]                 \n==================================================================================================\nTotal params: 312,865\nTrainable params: 312,609\nNon-trainable params: 256\n__________________________________________________________________________________________________\n",
          "output_type": "stream"
        }
      ]
    },
    {
      "cell_type": "code",
      "source": [
        "# input_shape = train_generator[0][0].shape[1:]\n",
        "# \n",
        "# model = build_model_new(\n",
        "#     input_shape,\n",
        "#     head_size=256,\n",
        "#     num_heads=4,\n",
        "#     ff_dim=4,\n",
        "#     num_transformer_blocks=8,\n",
        "#     mlp_units=[128, 128],\n",
        "#     mlp_dropout=0.1,\n",
        "#     dropout=0.1,\n",
        "#     time2vec_dim=TIME2VEC_DIM\n",
        "# )\n",
        "# \n",
        "# model.compile(\n",
        "#     loss=\"mae\",\n",
        "#     optimizer=keras.optimizers.Adam(learning_rate=1e-2),\n",
        "#     metrics=[\"mae\", tf_wcorr],\n",
        "# )\n",
        "# model.summary()"
      ],
      "metadata": {
        "execution": {
          "iopub.status.busy": "2022-02-16T23:57:08.535592Z",
          "iopub.execute_input": "2022-02-16T23:57:08.535942Z",
          "iopub.status.idle": "2022-02-16T23:57:08.540893Z",
          "shell.execute_reply.started": "2022-02-16T23:57:08.535898Z",
          "shell.execute_reply": "2022-02-16T23:57:08.539817Z"
        },
        "trusted": true,
        "id": "ugV70yKIBN08"
      },
      "execution_count": null,
      "outputs": []
    },
    {
      "cell_type": "code",
      "source": [
        "def lr_scheduler(epoch, lr, warmup_epochs=15, decay_epochs=100, initial_lr=1e-6, base_lr=1e-3, min_lr=5e-5):\n",
        "    if epoch <= warmup_epochs:\n",
        "        pct = epoch / warmup_epochs\n",
        "        return ((base_lr - initial_lr) * pct) + initial_lr\n",
        "\n",
        "    if epoch > warmup_epochs and epoch < warmup_epochs+decay_epochs:\n",
        "        pct = 1 - ((epoch - warmup_epochs) / decay_epochs)\n",
        "        return ((base_lr - min_lr) * pct) + min_lr\n",
        "\n",
        "    return min_lr\n",
        "\n"
      ],
      "metadata": {
        "execution": {
          "iopub.status.busy": "2022-02-16T23:57:08.542526Z",
          "iopub.execute_input": "2022-02-16T23:57:08.542898Z",
          "iopub.status.idle": "2022-02-16T23:57:08.553774Z",
          "shell.execute_reply.started": "2022-02-16T23:57:08.542833Z",
          "shell.execute_reply": "2022-02-16T23:57:08.552739Z"
        },
        "trusted": true,
        "id": "SgC0nSNtBN09"
      },
      "execution_count": null,
      "outputs": []
    },
    {
      "cell_type": "code",
      "source": [
        "callbacks = [keras.callbacks.EarlyStopping(monitor='val_correlation', mode='max',patience=5, restore_best_weights=True)]\n",
        "callbacks += [keras.callbacks.LearningRateScheduler(lr_scheduler, verbose=1)]\n",
        "filepath = \"./transformer_model\"\n",
        "callbacks += [keras.callbacks.ModelCheckpoint(filepath, monitor='val_loss', verbose=1, save_best_only=True, save_weights_only=False)]\n",
        "\n",
        "EPOCHS = 10\n",
        "history = model.fit(\n",
        "            train_generator, \n",
        "            validation_data = (val_generator),\n",
        "            epochs=EPOCHS,\n",
        "            batch_size=BATCH_SIZE,\n",
        "            callbacks=callbacks)\n",
        "\n",
        "model.evaluate(test_generator, verbose=1)"
      ],
      "metadata": {
        "execution": {
          "iopub.status.busy": "2022-02-16T23:57:08.711875Z",
          "iopub.execute_input": "2022-02-16T23:57:08.714694Z",
          "iopub.status.idle": "2022-02-17T00:04:22.650268Z",
          "shell.execute_reply.started": "2022-02-16T23:57:08.714645Z",
          "shell.execute_reply": "2022-02-17T00:04:22.648841Z"
        },
        "trusted": true,
        "id": "7tQDapq4BN0-",
        "outputId": "0f96c7ea-20af-43e4-b9b4-0a671445b8a9"
      },
      "execution_count": null,
      "outputs": [
        {
          "name": "stdout",
          "text": "Epoch 1/10\n\nEpoch 00001: LearningRateScheduler setting learning rate to 1e-06.\n445/445 [==============================] - 38s 67ms/step - loss: 0.1175 - mae: 0.2359 - correlation: 8.3939e-04 - val_loss: 0.1016 - val_mae: 0.2231 - val_correlation: 0.0198\n\nEpoch 00001: val_loss improved from inf to 0.10163, saving model to ./transformer_model\n",
          "output_type": "stream"
        },
        {
          "name": "stderr",
          "text": "/opt/conda/lib/python3.7/site-packages/keras/utils/generic_utils.py:497: CustomMaskWarning: Custom mask layers require a config and must override get_config. When loading, the custom mask layer must be passed to the custom_objects argument.\n  category=CustomMaskWarning)\n",
          "output_type": "stream"
        },
        {
          "name": "stdout",
          "text": "Epoch 2/10\n\nEpoch 00002: LearningRateScheduler setting learning rate to 6.76e-05.\n445/445 [==============================] - 29s 64ms/step - loss: 0.0323 - mae: 0.0772 - correlation: 0.0126 - val_loss: 0.0566 - val_mae: 0.1813 - val_correlation: 0.0680\n\nEpoch 00002: val_loss improved from 0.10163 to 0.05662, saving model to ./transformer_model\n",
          "output_type": "stream"
        },
        {
          "name": "stderr",
          "text": "/opt/conda/lib/python3.7/site-packages/keras/utils/generic_utils.py:497: CustomMaskWarning: Custom mask layers require a config and must override get_config. When loading, the custom mask layer must be passed to the custom_objects argument.\n  category=CustomMaskWarning)\n",
          "output_type": "stream"
        },
        {
          "name": "stdout",
          "text": "Epoch 3/10\n\nEpoch 00003: LearningRateScheduler setting learning rate to 0.0001342.\n445/445 [==============================] - 28s 63ms/step - loss: 0.0040 - mae: 0.0603 - correlation: 0.0523 - val_loss: -0.0088 - val_mae: 0.0622 - val_correlation: 0.0798\n\nEpoch 00003: val_loss improved from 0.05662 to -0.00882, saving model to ./transformer_model\n",
          "output_type": "stream"
        },
        {
          "name": "stderr",
          "text": "/opt/conda/lib/python3.7/site-packages/keras/utils/generic_utils.py:497: CustomMaskWarning: Custom mask layers require a config and must override get_config. When loading, the custom mask layer must be passed to the custom_objects argument.\n  category=CustomMaskWarning)\n",
          "output_type": "stream"
        },
        {
          "name": "stdout",
          "text": "Epoch 4/10\n\nEpoch 00004: LearningRateScheduler setting learning rate to 0.00020080000000000003.\n445/445 [==============================] - 28s 64ms/step - loss: -0.0131 - mae: 0.0517 - correlation: 0.0779 - val_loss: 0.0369 - val_mae: 0.0578 - val_correlation: -0.0161\n\nEpoch 00004: val_loss did not improve from -0.00882\nEpoch 5/10\n\nEpoch 00005: LearningRateScheduler setting learning rate to 0.00026740000000000005.\n445/445 [==============================] - 29s 65ms/step - loss: -0.0228 - mae: 0.0402 - correlation: 0.0859 - val_loss: -0.0216 - val_mae: 0.0120 - val_correlation: 0.0551\n\nEpoch 00005: val_loss improved from -0.00882 to -0.02156, saving model to ./transformer_model\n",
          "output_type": "stream"
        },
        {
          "name": "stderr",
          "text": "/opt/conda/lib/python3.7/site-packages/keras/utils/generic_utils.py:497: CustomMaskWarning: Custom mask layers require a config and must override get_config. When loading, the custom mask layer must be passed to the custom_objects argument.\n  category=CustomMaskWarning)\n",
          "output_type": "stream"
        },
        {
          "name": "stdout",
          "text": "Epoch 6/10\n\nEpoch 00006: LearningRateScheduler setting learning rate to 0.00033400000000000004.\n445/445 [==============================] - 29s 65ms/step - loss: -0.0245 - mae: 0.0409 - correlation: 0.0899 - val_loss: -0.0022 - val_mae: 0.0582 - val_correlation: 0.0626\n\nEpoch 00006: val_loss did not improve from -0.02156\nEpoch 7/10\n\nEpoch 00007: LearningRateScheduler setting learning rate to 0.0004006000000000001.\n445/445 [==============================] - 28s 62ms/step - loss: -0.0593 - mae: 0.0252 - correlation: 0.1438 - val_loss: -0.0386 - val_mae: 0.0599 - val_correlation: 0.1371\n\nEpoch 00007: val_loss improved from -0.02156 to -0.03858, saving model to ./transformer_model\n",
          "output_type": "stream"
        },
        {
          "name": "stderr",
          "text": "/opt/conda/lib/python3.7/site-packages/keras/utils/generic_utils.py:497: CustomMaskWarning: Custom mask layers require a config and must override get_config. When loading, the custom mask layer must be passed to the custom_objects argument.\n  category=CustomMaskWarning)\n",
          "output_type": "stream"
        },
        {
          "name": "stdout",
          "text": "Epoch 8/10\n\nEpoch 00008: LearningRateScheduler setting learning rate to 0.0004672000000000001.\n445/445 [==============================] - 28s 62ms/step - loss: -0.0664 - mae: 0.0202 - correlation: 0.1531 - val_loss: -0.1068 - val_mae: 0.0389 - val_correlation: 0.2525\n\nEpoch 00008: val_loss improved from -0.03858 to -0.10681, saving model to ./transformer_model\n",
          "output_type": "stream"
        },
        {
          "name": "stderr",
          "text": "/opt/conda/lib/python3.7/site-packages/keras/utils/generic_utils.py:497: CustomMaskWarning: Custom mask layers require a config and must override get_config. When loading, the custom mask layer must be passed to the custom_objects argument.\n  category=CustomMaskWarning)\n",
          "output_type": "stream"
        },
        {
          "name": "stdout",
          "text": "Epoch 9/10\n\nEpoch 00009: LearningRateScheduler setting learning rate to 0.0005338000000000001.\n445/445 [==============================] - 27s 61ms/step - loss: -0.0733 - mae: 0.0164 - correlation: 0.1629 - val_loss: -0.0973 - val_mae: 0.0245 - val_correlation: 0.2192\n\nEpoch 00009: val_loss did not improve from -0.10681\nEpoch 10/10\n\nEpoch 00010: LearningRateScheduler setting learning rate to 0.0006004000000000001.\n445/445 [==============================] - 27s 61ms/step - loss: -0.0962 - mae: 0.0170 - correlation: 0.2093 - val_loss: -0.0520 - val_mae: 0.0268 - val_correlation: 0.1308\n\nEpoch 00010: val_loss did not improve from -0.10681\n54/54 [==============================] - 1s 24ms/step - loss: -0.0334 - mae: 0.0294 - correlation: 0.0961\n",
          "output_type": "stream"
        },
        {
          "execution_count": 38,
          "output_type": "execute_result",
          "data": {
            "text/plain": "[-0.033364370465278625, 0.02939314767718315, 0.09612186998128891]"
          },
          "metadata": {}
        }
      ]
    },
    {
      "cell_type": "code",
      "source": [
        "# tf.keras.utils.plot_model(get_model(), show_shapes=True)"
      ],
      "metadata": {
        "papermill": {
          "duration": 6.240302,
          "end_time": "2021-11-29T18:09:55.791092",
          "exception": false,
          "start_time": "2021-11-29T18:09:49.55079",
          "status": "completed"
        },
        "tags": [],
        "execution": {
          "iopub.status.busy": "2022-02-16T23:55:13.609947Z",
          "iopub.execute_input": "2022-02-16T23:55:13.610955Z",
          "iopub.status.idle": "2022-02-16T23:55:13.616031Z",
          "shell.execute_reply.started": "2022-02-16T23:55:13.610905Z",
          "shell.execute_reply": "2022-02-16T23:55:13.615245Z"
        },
        "trusted": true,
        "id": "AyyUjE-QBN0_"
      },
      "execution_count": null,
      "outputs": []
    },
    {
      "cell_type": "code",
      "source": [
        "# EPOCHS = 100\n",
        "# seed = 1 \n",
        "# \n",
        "# tf.random.set_seed(seed)\n",
        "# estop = keras.callbacks.EarlyStopping(monitor = 'val_loss', patience = 5, verbose = 0, mode = 'min',restore_best_weights = True)\n",
        "# # scheduler = keras.optimizers.schedules.ExponentialDecay(1e-3, (0.5 * len(X_train) / BATCH_SIZE), 1e-3)\n",
        "# # lr = keras.callbacks.LearningRateScheduler(scheduler, verbose = 1)\n",
        "# mcp_save = keras.callbacks.ModelCheckpoint('model_multivariate_min_val_loss', save_best_only=True, monitor='val_loss', mode='min')\n",
        "# plateau = tf.keras.callbacks.ReduceLROnPlateau(monitor='val_loss', factor=0.5, patience=2, verbose=1, mode='min')\n",
        "# \n",
        "# history = model.fit(train_generator, validation_data = (val_generator), epochs = EPOCHS, callbacks = [estop, mcp_save, plateau], verbose=1)\n",
        "# model.save(\"model_multivariate\")\n",
        "\n"
      ],
      "metadata": {
        "papermill": {
          "duration": 791.992821,
          "end_time": "2021-11-29T18:23:07.875583",
          "exception": false,
          "start_time": "2021-11-29T18:09:55.882762",
          "status": "completed"
        },
        "tags": [],
        "execution": {
          "iopub.status.busy": "2022-02-16T23:55:13.617549Z",
          "iopub.execute_input": "2022-02-16T23:55:13.618597Z",
          "iopub.status.idle": "2022-02-16T23:55:13.625113Z",
          "shell.execute_reply.started": "2022-02-16T23:55:13.618550Z",
          "shell.execute_reply": "2022-02-16T23:55:13.624308Z"
        },
        "trusted": true,
        "id": "pYhUbWbPBN0_"
      },
      "execution_count": null,
      "outputs": []
    },
    {
      "cell_type": "code",
      "source": [
        "plt.plot(history.history['val_loss'], label= \"validation_loss\")\n",
        "plt.plot(history.history['loss'], label= \"train_loss\")\n",
        "plt.legend(loc=\"upper left\", bbox_to_anchor=(1, 0.5))\n",
        "plt.show()"
      ],
      "metadata": {
        "execution": {
          "iopub.status.busy": "2022-02-16T23:55:13.626919Z",
          "iopub.execute_input": "2022-02-16T23:55:13.627403Z",
          "iopub.status.idle": "2022-02-16T23:55:13.849532Z",
          "shell.execute_reply.started": "2022-02-16T23:55:13.627357Z",
          "shell.execute_reply": "2022-02-16T23:55:13.848718Z"
        },
        "trusted": true,
        "id": "1NA5ogw7BN1A",
        "outputId": "d9599b7e-6c2f-45aa-bd34-abd065c1deb1"
      },
      "execution_count": null,
      "outputs": [
        {
          "output_type": "display_data",
          "data": {
            "text/plain": "<Figure size 432x288 with 1 Axes>",
            "image/png": "[encoded data removed]"
          },
          "metadata": {
            "needs_background": "light"
          }
        }
      ]
    },
    {
      "cell_type": "code",
      "source": [
        "plt.plot(history.history['val_mae'], label= \"validation metric (mae)\")\n",
        "plt.plot(history.history['mae'], label= \"train metric (mae)\")\n",
        "plt.legend(loc=\"upper left\", bbox_to_anchor=(1, 0.5))\n",
        "plt.show()"
      ],
      "metadata": {
        "execution": {
          "iopub.status.busy": "2022-02-16T23:55:13.850899Z",
          "iopub.execute_input": "2022-02-16T23:55:13.851422Z",
          "iopub.status.idle": "2022-02-16T23:55:14.096647Z",
          "shell.execute_reply.started": "2022-02-16T23:55:13.851383Z",
          "shell.execute_reply": "2022-02-16T23:55:14.095727Z"
        },
        "trusted": true,
        "id": "bG62PmMPBN1C",
        "outputId": "5a7a53c5-f429-4629-d20e-e7cf9bd56ba9"
      },
      "execution_count": null,
      "outputs": [
        {
          "output_type": "display_data",
          "data": {
            "text/plain": "<Figure size 432x288 with 1 Axes>",
            "image/png": "[encoded data removed]"
          },
          "metadata": {
            "needs_background": "light"
          }
        }
      ]
    },
    {
      "cell_type": "code",
      "source": [
        "history.history.keys()"
      ],
      "metadata": {
        "execution": {
          "iopub.status.busy": "2022-02-16T23:55:14.101395Z",
          "iopub.execute_input": "2022-02-16T23:55:14.101776Z",
          "iopub.status.idle": "2022-02-16T23:55:14.107960Z",
          "shell.execute_reply.started": "2022-02-16T23:55:14.101737Z",
          "shell.execute_reply": "2022-02-16T23:55:14.106860Z"
        },
        "trusted": true,
        "id": "KhGQd_IgBN1E",
        "outputId": "719669e7-c920-402b-9eed-c50d9250b73a"
      },
      "execution_count": null,
      "outputs": [
        {
          "execution_count": 29,
          "output_type": "execute_result",
          "data": {
            "text/plain": "dict_keys(['loss', 'mae', 'correlation', 'val_loss', 'val_mae', 'val_correlation', 'lr'])"
          },
          "metadata": {}
        }
      ]
    },
    {
      "cell_type": "code",
      "source": [
        "plt.plot(history.history['val_correlation'], label= \"validation metric W-Corr\")\n",
        "plt.plot(history.history['correlation'], label= \"train metric W-Corr\")\n",
        "plt.legend(loc=\"upper left\", bbox_to_anchor=(1, 0.5))\n",
        "plt.show()"
      ],
      "metadata": {
        "execution": {
          "iopub.status.busy": "2022-02-16T23:55:14.109687Z",
          "iopub.execute_input": "2022-02-16T23:55:14.110102Z",
          "iopub.status.idle": "2022-02-16T23:55:14.345633Z",
          "shell.execute_reply.started": "2022-02-16T23:55:14.110059Z",
          "shell.execute_reply": "2022-02-16T23:55:14.344747Z"
        },
        "trusted": true,
        "id": "2xHXYC45BN1F",
        "outputId": "2c8ca905-64ef-4b2e-b8f6-d8cb1fd41fe7"
      },
      "execution_count": null,
      "outputs": [
        {
          "output_type": "display_data",
          "data": {
            "text/plain": "<Figure size 432x288 with 1 Axes>",
            "image/png": "[encoded data removed]"
          },
          "metadata": {
            "needs_background": "light"
          }
        }
      ]
    },
    {
      "cell_type": "code",
      "source": [
        "# create predictions on training set\n",
        "predictions = model.predict(train_generator)\n",
        "y_true = []\n",
        "for x,y in train_generator: y_true.append(y)\n",
        "y_true = np.squeeze(np.concatenate(y_true), axis=-1)\n",
        "\n",
        "\n",
        "print(predictions.shape, y_true.shape)\n",
        "assert predictions.shape == y_true.shape, f\"{predictions.shape}, {y_true.shape}\"\n",
        "\n",
        "# Evaluate predictions on validation set\n",
        "print(\"Window Size: \", WINDOW_SIZE)\n",
        "print(\"Prediction length: \", prediction_length)\n",
        "print(\"Epochs: \", EPOCHS)\n",
        "\n",
        "print('---------------------')\n",
        "print('Asset:    Corr. coef.')\n",
        "print('---------------------')\n",
        "asset_w_corr = []\n",
        "asset_corrs = []\n",
        "asset_mae = []\n",
        "y_true = np.squeeze(y_true)\n",
        "y_pred = np.squeeze(predictions)\n",
        "real_target_ind = np.argwhere(y_true!=0)\n",
        "# asset_id = list(assets_order.keys())[i]\n",
        "# asset_name = assets[assets.Asset_ID == asset_id]['Asset_Name'].item()\n",
        "mae_asset = mae(y_true, y_pred)\n",
        "asset_corr = np.corrcoef(np.nan_to_num(y_pred.flatten()), np.nan_to_num(y_true.flatten()))[0,1]\n",
        "\n",
        "print(f\"corr: {asset_corr:.4f}\")\n",
        "print(f\"mae: {mae_asset:.4f}\")\n",
        "print(\"\\n\")\n",
        "print(f\"Predictions Min: {predictions.min()}, Predictions Max: {predictions.max()}, Predictions mean:{predictions.mean()}, Predictions var:{predictions.var()}\") \n",
        "print(f\"y_true Min: {y_true.min()}, y_true Max: {y_true.max()}, y_true mean:{y_true.mean()}, y_true var:{y_true.var()}\") "
      ],
      "metadata": {
        "execution": {
          "iopub.status.busy": "2022-02-16T23:55:14.347082Z",
          "iopub.execute_input": "2022-02-16T23:55:14.347826Z",
          "iopub.status.idle": "2022-02-16T23:55:29.274659Z",
          "shell.execute_reply.started": "2022-02-16T23:55:14.347761Z",
          "shell.execute_reply": "2022-02-16T23:55:29.273749Z"
        },
        "trusted": true,
        "id": "8xerfFLQBN1H",
        "outputId": "b8f67843-6247-4b60-d453-adec37a19670"
      },
      "execution_count": null,
      "outputs": [
        {
          "name": "stdout",
          "text": "(28480, 1) (28480, 1)\nWindow Size:  64\nPrediction length:  1\nEpochs:  10\n---------------------\nAsset:    Corr. coef.\n---------------------\ncorr: 0.3798\nmae: 0.0085\n\n\nPredictions Min: -0.82203608751297, Predictions Max: 0.6891940236091614, Predictions mean:-0.00030043613514862955, Predictions var:0.0006620517815463245\ny_true Min: -0.06692692637443542, y_true Max: 0.12924709916114807, y_true mean:9.333968773717061e-05, y_true var:2.5452485715504736e-05\n",
          "output_type": "stream"
        }
      ]
    },
    {
      "cell_type": "code",
      "source": [
        "# create predictions on validation set\n",
        "predictions = model.predict(val_generator)\n",
        "y_true = []\n",
        "for x,y in val_generator: y_true.append(y)\n",
        "y_true = np.squeeze(np.concatenate(y_true), axis=-1)\n",
        "\n",
        "\n",
        "print(predictions.shape, y_true.shape)\n",
        "assert predictions.shape == y_true.shape, f\"{predictions.shape}, {y_true.shape}\"\n",
        "\n",
        "# Evaluate predictions on validation set\n",
        "print(\"Window Size: \", WINDOW_SIZE)\n",
        "print(\"Prediction length: \", prediction_length)\n",
        "print(\"Epochs: \", EPOCHS)\n",
        "\n",
        "print('---------------------')\n",
        "print('Asset:    Corr. coef.')\n",
        "print('---------------------')\n",
        "asset_w_corr = []\n",
        "asset_corrs = []\n",
        "asset_mae = []\n",
        "y_true = np.squeeze(y_true)\n",
        "y_pred = np.squeeze(predictions)\n",
        "real_target_ind = np.argwhere(y_true!=0)\n",
        "# asset_id = list(assets_order.keys())[i]\n",
        "# asset_name = assets[assets.Asset_ID == asset_id]['Asset_Name'].item()\n",
        "mae_asset = mae(y_true, y_pred)\n",
        "asset_corr = np.corrcoef(np.nan_to_num(y_pred.flatten()), np.nan_to_num(y_true.flatten()))[0,1]\n",
        "\n",
        "print(f\"corr: {asset_corr:.4f}\")\n",
        "print(f\"mae: {mae_asset:.4f}\")\n",
        "print(\"\\n\")\n",
        "print(f\"Predictions Min: {predictions.min()}, Predictions Max: {predictions.max()}, Predictions mean:{predictions.mean()}, Predictions var:{predictions.var()}\") \n",
        "print(f\"y_true Min: {y_true.min()}, y_true Max: {y_true.max()}, y_true mean:{y_true.mean()}, y_true var:{y_true.var()}\") "
      ],
      "metadata": {
        "execution": {
          "iopub.status.busy": "2022-02-16T23:55:29.276432Z",
          "iopub.execute_input": "2022-02-16T23:55:29.276750Z",
          "iopub.status.idle": "2022-02-16T23:55:30.682831Z",
          "shell.execute_reply.started": "2022-02-16T23:55:29.276708Z",
          "shell.execute_reply": "2022-02-16T23:55:30.681744Z"
        },
        "trusted": true,
        "id": "_GslWmcVBN1J",
        "outputId": "d7aa94d0-0695-4639-df25-9807460a6671"
      },
      "execution_count": null,
      "outputs": [
        {
          "name": "stdout",
          "text": "(3456, 1) (3456, 1)\nWindow Size:  64\nPrediction length:  1\nEpochs:  10\n---------------------\nAsset:    Corr. coef.\n---------------------\ncorr: 0.6892\nmae: 0.0047\n\n\nPredictions Min: -0.030504096299409866, Predictions Max: 0.039875004440546036, Predictions mean:-0.0010224042925983667, Predictions var:5.996235631755553e-05\ny_true Min: -0.00931723602116108, y_true Max: 0.010553549975156784, y_true mean:-0.00014779226330574602, y_true var:5.8813193390960805e-06\n",
          "output_type": "stream"
        }
      ]
    },
    {
      "cell_type": "code",
      "source": [
        "# create predictions on validation set\n",
        "predictions = model.predict(test_generator)\n",
        "y_true = []\n",
        "for x,y in test_generator: y_true.append(y)\n",
        "y_true = np.squeeze(np.concatenate(y_true), axis=-1)\n",
        "\n",
        "\n",
        "print(predictions.shape, y_true.shape)\n",
        "assert predictions.shape == y_true.shape, f\"{predictions.shape}, {y_true.shape}\"\n",
        "\n",
        "# Evaluate predictions on validation set\n",
        "print(\"Window Size: \", WINDOW_SIZE)\n",
        "print(\"Prediction length: \", prediction_length)\n",
        "print(\"Epochs: \", EPOCHS)\n",
        "\n",
        "asset_w_corr = []\n",
        "asset_corrs = []\n",
        "asset_mae = []\n",
        "y_true = np.squeeze(y_true)\n",
        "predictions = np.squeeze(predictions)\n",
        "real_target_ind = np.argwhere(y_true!=0)\n",
        "# asset_id = list(assets_order.keys())[i]\n",
        "# asset_name = assets[assets.Asset_ID == asset_id]['Asset_Name'].item()\n",
        "mae_asset = mae(y_true, predictions)\n",
        "asset_corr = np.corrcoef(np.nan_to_num(y_pred.flatten()), np.nan_to_num(y_true.flatten()))[0,1]\n",
        "\n",
        "print('---------------------')\n",
        "print('Asset:    Corr. coef.')\n",
        "print('---------------------')\n",
        "print(f\"corr: {asset_corr:.4f}\")\n",
        "print(f\"mae: {mae_asset:.4f}\")\n",
        "print(\"\\n\")\n",
        "print(f\"Predictions Min: {predictions.min()}, Predictions Max: {predictions.max()}, Predictions mean:{predictions.mean()}, Predictions var:{predictions.var()}\") \n",
        "print(f\"y_true Min: {y_true.min()}, y_true Max: {y_true.max()}, y_true mean:{y_true.mean()}, y_true var:{y_true.var()}\") \n",
        "\n"
      ],
      "metadata": {
        "execution": {
          "iopub.status.busy": "2022-02-16T23:55:30.684775Z",
          "iopub.execute_input": "2022-02-16T23:55:30.685144Z",
          "iopub.status.idle": "2022-02-16T23:55:32.078635Z",
          "shell.execute_reply.started": "2022-02-16T23:55:30.685100Z",
          "shell.execute_reply": "2022-02-16T23:55:32.077778Z"
        },
        "trusted": true,
        "id": "dfFTkFFUBN1K",
        "outputId": "50e50bcc-5cb2-45e3-920d-ea2cfd90f24c"
      },
      "execution_count": null,
      "outputs": [
        {
          "name": "stdout",
          "text": "(3456, 1) (3456, 1)\nWindow Size:  64\nPrediction length:  1\nEpochs:  10\n---------------------\nAsset:    Corr. coef.\n---------------------\ncorr: -0.0540\nmae: 0.0039\n\n\nPredictions Min: -0.024076171219348907, Predictions Max: 0.04401088133454323, Predictions mean:-0.001201344421133399, Predictions var:4.027350223623216e-05\ny_true Min: -0.009781436994671822, y_true Max: 0.016066623851656914, y_true mean:2.7860420232173055e-05, y_true var:5.2875429901177995e-06\n",
          "output_type": "stream"
        }
      ]
    },
    {
      "cell_type": "code",
      "source": [
        ""
      ],
      "metadata": {
        "id": "q_yn5jP_BN1L"
      },
      "execution_count": null,
      "outputs": []
    },
    {
      "cell_type": "code",
      "source": [
        ""
      ],
      "metadata": {
        "id": "MCPpurM9BN1M"
      },
      "execution_count": null,
      "outputs": []
    },
    {
      "cell_type": "code",
      "source": [
        ""
      ],
      "metadata": {
        "id": "uA34mfcLBN1M"
      },
      "execution_count": null,
      "outputs": []
    },
    {
      "cell_type": "code",
      "source": [
        ""
      ],
      "metadata": {
        "id": "tNg9IbwUBN1N"
      },
      "execution_count": null,
      "outputs": []
    },
    {
      "cell_type": "code",
      "source": [
        ""
      ],
      "metadata": {
        "id": "qbF-Mq9wBN1e"
      },
      "execution_count": null,
      "outputs": []
    },
    {
      "cell_type": "code",
      "source": [
        ""
      ],
      "metadata": {
        "id": "AGn_DGSUBN1e"
      },
      "execution_count": null,
      "outputs": []
    },
    {
      "cell_type": "code",
      "source": [
        ""
      ],
      "metadata": {
        "id": "hMM22n5DBN1f"
      },
      "execution_count": null,
      "outputs": []
    }
  ]
}