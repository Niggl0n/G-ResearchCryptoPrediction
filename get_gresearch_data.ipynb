{
  "metadata": {
    "kernelspec": {
      "language": "python",
      "display_name": "Python 3",
      "name": "python3"
    },
    "language_info": {
      "name": "python",
      "version": "3.7.10",
      "mimetype": "text/x-python",
      "codemirror_mode": {
        "name": "ipython",
        "version": 3
      },
      "pygments_lexer": "ipython3",
      "nbconvert_exporter": "python",
      "file_extension": ".py"
    },
    "colab": {
      "name": "transformer-model.ipynb",
      "provenance": [],
      "include_colab_link": true
    }
  },
  "nbformat_minor": 0,
  "nbformat": 4,
  "cells": [
    {
      "cell_type": "markdown",
      "metadata": {
        "id": "view-in-github",
        "colab_type": "text"
      },
      "source": [
        "<a href=\"https://colab.research.google.com/github/Niggl0n/G-ResearchCryptoPrediction/blob/main/get_gresearch_data.ipynb\" target=\"_parent\"><img src=\"https://colab.research.google.com/assets/colab-badge.svg\" alt=\"Open In Colab\"/></a>"
      ]
    },
    {
      "cell_type": "code",
      "source": [
        "from google.colab import drive\n",
        "drive.mount('/content/gdrive')"
      ],
      "metadata": {
        "id": "R-sG5TUqBN0E",
        "outputId": "93c59b63-5752-45a0-c563-1e2cb577fdca",
        "colab": {
          "base_uri": "https://localhost:8080/"
        }
      },
      "execution_count": 3,
      "outputs": [
        {
          "output_type": "stream",
          "name": "stdout",
          "text": [
            "Mounted at /content/gdrive\n"
          ]
        }
      ]
    },
    {
      "cell_type": "code",
      "source": [
        "%cd /content/gdrive/MyDrive/Github/GResearch/"
      ],
      "metadata": {
        "colab": {
          "base_uri": "https://localhost:8080/"
        },
        "id": "P28kJrqFDscC",
        "outputId": "24ef932d-3b1e-4f6a-ddfe-91844536f514"
      },
      "execution_count": 10,
      "outputs": [
        {
          "output_type": "stream",
          "name": "stdout",
          "text": [
            "/content/gdrive/MyDrive/Github/GResearch_data\n"
          ]
        }
      ]
    },
    {
      "cell_type": "code",
      "source": [
        "%ls -a"
      ],
      "metadata": {
        "id": "2Oi7hvRneHak",
        "outputId": "f170fbe6-14ea-455d-fb4d-96c620bc0e8e",
        "colab": {
          "base_uri": "https://localhost:8080/"
        }
      },
      "execution_count": 11,
      "outputs": [
        {
          "output_type": "stream",
          "name": "stdout",
          "text": [
            "cryptocurrency-extra-data-binance-coin.zip  full_data__1__2021.csv\n",
            "cryptocurrency-extra-data-bitcoin-cash.zip  full_data__1__2021.jay\n",
            "cryptocurrency-extra-data-bitcoin.zip       full_data__2__2018.csv\n",
            "cryptocurrency-extra-data-cardano.zip       full_data__2__2018.jay\n",
            "cryptocurrency-extra-data-dogecoin.zip      full_data__2__2019.csv\n",
            "cryptocurrency-extra-data-maker.zip         full_data__2__2019.jay\n",
            "full_data__0__2017.csv                      full_data__2__2020.csv\n",
            "full_data__0__2017.jay                      full_data__2__2020.jay\n",
            "full_data__0__2018.csv                      full_data__2__2021.csv\n",
            "full_data__0__2018.jay                      full_data__2__2021.jay\n",
            "full_data__0__2019.csv                      full_data__3__2018.csv\n",
            "full_data__0__2019.jay                      full_data__3__2018.jay\n",
            "full_data__0__2020.csv                      full_data__3__2019.csv\n",
            "full_data__0__2020.jay                      full_data__3__2019.jay\n",
            "full_data__0__2021.csv                      full_data__3__2020.csv\n",
            "full_data__0__2021.jay                      full_data__3__2020.jay\n",
            "full_data__10__2018.csv                     full_data__3__2021.csv\n",
            "full_data__10__2018.jay                     full_data__3__2021.jay\n",
            "full_data__10__2019.csv                     full_data__4__2019.csv\n",
            "full_data__10__2019.jay                     full_data__4__2019.jay\n",
            "full_data__10__2020.csv                     full_data__4__2020.csv\n",
            "full_data__10__2020.jay                     full_data__4__2020.jay\n",
            "full_data__10__2021.csv                     full_data__4__2021.csv\n",
            "full_data__10__2021.jay                     full_data__4__2021.jay\n",
            "full_data__1__2017.csv                      \u001b[0m\u001b[01;34mG-ResearchCryptoPrediction\u001b[0m/\n",
            "full_data__1__2017.jay                      \u001b[01;34m.ipynb_checkpoints\u001b[0m/\n",
            "full_data__1__2018.csv                      orig_asset_details.jay\n",
            "full_data__1__2018.jay                      orig_example_sample_submission.jay\n",
            "full_data__1__2019.csv                      orig_example_test.jay\n",
            "full_data__1__2019.jay                      orig_supplemental_train.jay\n",
            "full_data__1__2020.csv                      orig_train.jay\n",
            "full_data__1__2020.jay\n"
          ]
        }
      ]
    },
    {
      "cell_type": "code",
      "source": [
        "## to add kaggle api key to colab\n",
        "\n",
        "from google.colab import files\n",
        "files.upload()\n",
        "\n",
        "!pip install -q kaggle\n",
        "!mkdir -p ~/.kaggle\n",
        "!cp kaggle.json ~/.kaggle/\n",
        "!ls ~/.kaggle\n",
        "!chmod 600 /root/.kaggle/kaggle.json"
      ],
      "metadata": {
        "colab": {
          "resources": {
            "http://localhost:8080/nbextensions/google.colab/files.js": {
              "data": "Ly8gQ29weXJpZ2h0IDIwMTcgR29vZ2xlIExMQwovLwovLyBMaWNlbnNlZCB1bmRlciB0aGUgQXBhY2hlIExpY2Vuc2UsIFZlcnNpb24gMi4wICh0aGUgIkxpY2Vuc2UiKTsKLy8geW91IG1heSBub3QgdXNlIHRoaXMgZmlsZSBleGNlcHQgaW4gY29tcGxpYW5jZSB3aXRoIHRoZSBMaWNlbnNlLgovLyBZb3UgbWF5IG9idGFpbiBhIGNvcHkgb2YgdGhlIExpY2Vuc2UgYXQKLy8KLy8gICAgICBodHRwOi8vd3d3LmFwYWNoZS5vcmcvbGljZW5zZXMvTElDRU5TRS0yLjAKLy8KLy8gVW5sZXNzIHJlcXVpcmVkIGJ5IGFwcGxpY2FibGUgbGF3IG9yIGFncmVlZCB0byBpbiB3cml0aW5nLCBzb2Z0d2FyZQovLyBkaXN0cmlidXRlZCB1bmRlciB0aGUgTGljZW5zZSBpcyBkaXN0cmlidXRlZCBvbiBhbiAiQVMgSVMiIEJBU0lTLAovLyBXSVRIT1VUIFdBUlJBTlRJRVMgT1IgQ09ORElUSU9OUyBPRiBBTlkgS0lORCwgZWl0aGVyIGV4cHJlc3Mgb3IgaW1wbGllZC4KLy8gU2VlIHRoZSBMaWNlbnNlIGZvciB0aGUgc3BlY2lmaWMgbGFuZ3VhZ2UgZ292ZXJuaW5nIHBlcm1pc3Npb25zIGFuZAovLyBsaW1pdGF0aW9ucyB1bmRlciB0aGUgTGljZW5zZS4KCi8qKgogKiBAZmlsZW92ZXJ2aWV3IEhlbHBlcnMgZm9yIGdvb2dsZS5jb2xhYiBQeXRob24gbW9kdWxlLgogKi8KKGZ1bmN0aW9uKHNjb3BlKSB7CmZ1bmN0aW9uIHNwYW4odGV4dCwgc3R5bGVBdHRyaWJ1dGVzID0ge30pIHsKICBjb25zdCBlbGVtZW50ID0gZG9jdW1lbnQuY3JlYXRlRWxlbWVudCgnc3BhbicpOwogIGVsZW1lbnQudGV4dENvbnRlbnQgPSB0ZXh0OwogIGZvciAoY29uc3Qga2V5IG9mIE9iamVjdC5rZXlzKHN0eWxlQXR0cmlidXRlcykpIHsKICAgIGVsZW1lbnQuc3R5bGVba2V5XSA9IHN0eWxlQXR0cmlidXRlc1trZXldOwogIH0KICByZXR1cm4gZWxlbWVudDsKfQoKLy8gTWF4IG51bWJlciBvZiBieXRlcyB3aGljaCB3aWxsIGJlIHVwbG9hZGVkIGF0IGEgdGltZS4KY29uc3QgTUFYX1BBWUxPQURfU0laRSA9IDEwMCAqIDEwMjQ7CgpmdW5jdGlvbiBfdXBsb2FkRmlsZXMoaW5wdXRJZCwgb3V0cHV0SWQpIHsKICBjb25zdCBzdGVwcyA9IHVwbG9hZEZpbGVzU3RlcChpbnB1dElkLCBvdXRwdXRJZCk7CiAgY29uc3Qgb3V0cHV0RWxlbWVudCA9IGRvY3VtZW50LmdldEVsZW1lbnRCeUlkKG91dHB1dElkKTsKICAvLyBDYWNoZSBzdGVwcyBvbiB0aGUgb3V0cHV0RWxlbWVudCB0byBtYWtlIGl0IGF2YWlsYWJsZSBmb3IgdGhlIG5leHQgY2FsbAogIC8vIHRvIHVwbG9hZEZpbGVzQ29udGludWUgZnJvbSBQeXRob24uCiAgb3V0cHV0RWxlbWVudC5zdGVwcyA9IHN0ZXBzOwoKICByZXR1cm4gX3VwbG9hZEZpbGVzQ29udGludWUob3V0cHV0SWQpOwp9CgovLyBUaGlzIGlzIHJvdWdobHkgYW4gYXN5bmMgZ2VuZXJhdG9yIChub3Qgc3VwcG9ydGVkIGluIHRoZSBicm93c2VyIHlldCksCi8vIHdoZXJlIHRoZXJlIGFyZSBtdWx0aXBsZSBhc3luY2hyb25vdXMgc3RlcHMgYW5kIHRoZSBQeXRob24gc2lkZSBpcyBnb2luZwovLyB0byBwb2xsIGZvciBjb21wbGV0aW9uIG9mIGVhY2ggc3RlcC4KLy8gVGhpcyB1c2VzIGEgUHJvbWlzZSB0byBibG9jayB0aGUgcHl0aG9uIHNpZGUgb24gY29tcGxldGlvbiBvZiBlYWNoIHN0ZXAsCi8vIHRoZW4gcGFzc2VzIHRoZSByZXN1bHQgb2YgdGhlIHByZXZpb3VzIHN0ZXAgYXMgdGhlIGlucHV0IHRvIHRoZSBuZXh0IHN0ZXAuCmZ1bmN0aW9uIF91cGxvYWRGaWxlc0NvbnRpbnVlKG91dHB1dElkKSB7CiAgY29uc3Qgb3V0cHV0RWxlbWVudCA9IGRvY3VtZW50LmdldEVsZW1lbnRCeUlkKG91dHB1dElkKTsKICBjb25zdCBzdGVwcyA9IG91dHB1dEVsZW1lbnQuc3RlcHM7CgogIGNvbnN0IG5leHQgPSBzdGVwcy5uZXh0KG91dHB1dEVsZW1lbnQubGFzdFByb21pc2VWYWx1ZSk7CiAgcmV0dXJuIFByb21pc2UucmVzb2x2ZShuZXh0LnZhbHVlLnByb21pc2UpLnRoZW4oKHZhbHVlKSA9PiB7CiAgICAvLyBDYWNoZSB0aGUgbGFzdCBwcm9taXNlIHZhbHVlIHRvIG1ha2UgaXQgYXZhaWxhYmxlIHRvIHRoZSBuZXh0CiAgICAvLyBzdGVwIG9mIHRoZSBnZW5lcmF0b3IuCiAgICBvdXRwdXRFbGVtZW50Lmxhc3RQcm9taXNlVmFsdWUgPSB2YWx1ZTsKICAgIHJldHVybiBuZXh0LnZhbHVlLnJlc3BvbnNlOwogIH0pOwp9CgovKioKICogR2VuZXJhdG9yIGZ1bmN0aW9uIHdoaWNoIGlzIGNhbGxlZCBiZXR3ZWVuIGVhY2ggYXN5bmMgc3RlcCBvZiB0aGUgdXBsb2FkCiAqIHByb2Nlc3MuCiAqIEBwYXJhbSB7c3RyaW5nfSBpbnB1dElkIEVsZW1lbnQgSUQgb2YgdGhlIGlucHV0IGZpbGUgcGlja2VyIGVsZW1lbnQuCiAqIEBwYXJhbSB7c3RyaW5nfSBvdXRwdXRJZCBFbGVtZW50IElEIG9mIHRoZSBvdXRwdXQgZGlzcGxheS4KICogQHJldHVybiB7IUl0ZXJhYmxlPCFPYmplY3Q+fSBJdGVyYWJsZSBvZiBuZXh0IHN0ZXBzLgogKi8KZnVuY3Rpb24qIHVwbG9hZEZpbGVzU3RlcChpbnB1dElkLCBvdXRwdXRJZCkgewogIGNvbnN0IGlucHV0RWxlbWVudCA9IGRvY3VtZW50LmdldEVsZW1lbnRCeUlkKGlucHV0SWQpOwogIGlucHV0RWxlbWVudC5kaXNhYmxlZCA9IGZhbHNlOwoKICBjb25zdCBvdXRwdXRFbGVtZW50ID0gZG9jdW1lbnQuZ2V0RWxlbWVudEJ5SWQob3V0cHV0SWQpOwogIG91dHB1dEVsZW1lbnQuaW5uZXJIVE1MID0gJyc7CgogIGNvbnN0IHBpY2tlZFByb21pc2UgPSBuZXcgUHJvbWlzZSgocmVzb2x2ZSkgPT4gewogICAgaW5wdXRFbGVtZW50LmFkZEV2ZW50TGlzdGVuZXIoJ2NoYW5nZScsIChlKSA9PiB7CiAgICAgIHJlc29sdmUoZS50YXJnZXQuZmlsZXMpOwogICAgfSk7CiAgfSk7CgogIGNvbnN0IGNhbmNlbCA9IGRvY3VtZW50LmNyZWF0ZUVsZW1lbnQoJ2J1dHRvbicpOwogIGlucHV0RWxlbWVudC5wYXJlbnRFbGVtZW50LmFwcGVuZENoaWxkKGNhbmNlbCk7CiAgY2FuY2VsLnRleHRDb250ZW50ID0gJ0NhbmNlbCB1cGxvYWQnOwogIGNvbnN0IGNhbmNlbFByb21pc2UgPSBuZXcgUHJvbWlzZSgocmVzb2x2ZSkgPT4gewogICAgY2FuY2VsLm9uY2xpY2sgPSAoKSA9PiB7CiAgICAgIHJlc29sdmUobnVsbCk7CiAgICB9OwogIH0pOwoKICAvLyBXYWl0IGZvciB0aGUgdXNlciB0byBwaWNrIHRoZSBmaWxlcy4KICBjb25zdCBmaWxlcyA9IHlpZWxkIHsKICAgIHByb21pc2U6IFByb21pc2UucmFjZShbcGlja2VkUHJvbWlzZSwgY2FuY2VsUHJvbWlzZV0pLAogICAgcmVzcG9uc2U6IHsKICAgICAgYWN0aW9uOiAnc3RhcnRpbmcnLAogICAgfQogIH07CgogIGNhbmNlbC5yZW1vdmUoKTsKCiAgLy8gRGlzYWJsZSB0aGUgaW5wdXQgZWxlbWVudCBzaW5jZSBmdXJ0aGVyIHBpY2tzIGFyZSBub3QgYWxsb3dlZC4KICBpbnB1dEVsZW1lbnQuZGlzYWJsZWQgPSB0cnVlOwoKICBpZiAoIWZpbGVzKSB7CiAgICByZXR1cm4gewogICAgICByZXNwb25zZTogewogICAgICAgIGFjdGlvbjogJ2NvbXBsZXRlJywKICAgICAgfQogICAgfTsKICB9CgogIGZvciAoY29uc3QgZmlsZSBvZiBmaWxlcykgewogICAgY29uc3QgbGkgPSBkb2N1bWVudC5jcmVhdGVFbGVtZW50KCdsaScpOwogICAgbGkuYXBwZW5kKHNwYW4oZmlsZS5uYW1lLCB7Zm9udFdlaWdodDogJ2JvbGQnfSkpOwogICAgbGkuYXBwZW5kKHNwYW4oCiAgICAgICAgYCgke2ZpbGUudHlwZSB8fCAnbi9hJ30pIC0gJHtmaWxlLnNpemV9IGJ5dGVzLCBgICsKICAgICAgICBgbGFzdCBtb2RpZmllZDogJHsKICAgICAgICAgICAgZmlsZS5sYXN0TW9kaWZpZWREYXRlID8gZmlsZS5sYXN0TW9kaWZpZWREYXRlLnRvTG9jYWxlRGF0ZVN0cmluZygpIDoKICAgICAgICAgICAgICAgICAgICAgICAgICAgICAgICAgICAgJ24vYSd9IC0gYCkpOwogICAgY29uc3QgcGVyY2VudCA9IHNwYW4oJzAlIGRvbmUnKTsKICAgIGxpLmFwcGVuZENoaWxkKHBlcmNlbnQpOwoKICAgIG91dHB1dEVsZW1lbnQuYXBwZW5kQ2hpbGQobGkpOwoKICAgIGNvbnN0IGZpbGVEYXRhUHJvbWlzZSA9IG5ldyBQcm9taXNlKChyZXNvbHZlKSA9PiB7CiAgICAgIGNvbnN0IHJlYWRlciA9IG5ldyBGaWxlUmVhZGVyKCk7CiAgICAgIHJlYWRlci5vbmxvYWQgPSAoZSkgPT4gewogICAgICAgIHJlc29sdmUoZS50YXJnZXQucmVzdWx0KTsKICAgICAgfTsKICAgICAgcmVhZGVyLnJlYWRBc0FycmF5QnVmZmVyKGZpbGUpOwogICAgfSk7CiAgICAvLyBXYWl0IGZvciB0aGUgZGF0YSB0byBiZSByZWFkeS4KICAgIGxldCBmaWxlRGF0YSA9IHlpZWxkIHsKICAgICAgcHJvbWlzZTogZmlsZURhdGFQcm9taXNlLAogICAgICByZXNwb25zZTogewogICAgICAgIGFjdGlvbjogJ2NvbnRpbnVlJywKICAgICAgfQogICAgfTsKCiAgICAvLyBVc2UgYSBjaHVua2VkIHNlbmRpbmcgdG8gYXZvaWQgbWVzc2FnZSBzaXplIGxpbWl0cy4gU2VlIGIvNjIxMTU2NjAuCiAgICBsZXQgcG9zaXRpb24gPSAwOwogICAgZG8gewogICAgICBjb25zdCBsZW5ndGggPSBNYXRoLm1pbihmaWxlRGF0YS5ieXRlTGVuZ3RoIC0gcG9zaXRpb24sIE1BWF9QQVlMT0FEX1NJWkUpOwogICAgICBjb25zdCBjaHVuayA9IG5ldyBVaW50OEFycmF5KGZpbGVEYXRhLCBwb3NpdGlvbiwgbGVuZ3RoKTsKICAgICAgcG9zaXRpb24gKz0gbGVuZ3RoOwoKICAgICAgY29uc3QgYmFzZTY0ID0gYnRvYShTdHJpbmcuZnJvbUNoYXJDb2RlLmFwcGx5KG51bGwsIGNodW5rKSk7CiAgICAgIHlpZWxkIHsKICAgICAgICByZXNwb25zZTogewogICAgICAgICAgYWN0aW9uOiAnYXBwZW5kJywKICAgICAgICAgIGZpbGU6IGZpbGUubmFtZSwKICAgICAgICAgIGRhdGE6IGJhc2U2NCwKICAgICAgICB9LAogICAgICB9OwoKICAgICAgbGV0IHBlcmNlbnREb25lID0gZmlsZURhdGEuYnl0ZUxlbmd0aCA9PT0gMCA/CiAgICAgICAgICAxMDAgOgogICAgICAgICAgTWF0aC5yb3VuZCgocG9zaXRpb24gLyBmaWxlRGF0YS5ieXRlTGVuZ3RoKSAqIDEwMCk7CiAgICAgIHBlcmNlbnQudGV4dENvbnRlbnQgPSBgJHtwZXJjZW50RG9uZX0lIGRvbmVgOwoKICAgIH0gd2hpbGUgKHBvc2l0aW9uIDwgZmlsZURhdGEuYnl0ZUxlbmd0aCk7CiAgfQoKICAvLyBBbGwgZG9uZS4KICB5aWVsZCB7CiAgICByZXNwb25zZTogewogICAgICBhY3Rpb246ICdjb21wbGV0ZScsCiAgICB9CiAgfTsKfQoKc2NvcGUuZ29vZ2xlID0gc2NvcGUuZ29vZ2xlIHx8IHt9OwpzY29wZS5nb29nbGUuY29sYWIgPSBzY29wZS5nb29nbGUuY29sYWIgfHwge307CnNjb3BlLmdvb2dsZS5jb2xhYi5fZmlsZXMgPSB7CiAgX3VwbG9hZEZpbGVzLAogIF91cGxvYWRGaWxlc0NvbnRpbnVlLAp9Owp9KShzZWxmKTsK",
              "ok": true,
              "headers": [
                [
                  "content-type",
                  "application/javascript"
                ]
              ],
              "status": 200,
              "status_text": "OK"
            }
          },
          "base_uri": "https://localhost:8080/",
          "height": 91
        },
        "id": "w1yDBXFUCgjF",
        "outputId": "5a71b22f-aaf2-43c0-e344-5c99e101ed19"
      },
      "execution_count": 13,
      "outputs": [
        {
          "output_type": "display_data",
          "data": {
            "text/html": [
              "\n",
              "     <input type=\"file\" id=\"files-ce71b7b2-476f-4078-851a-c2f8123399f0\" name=\"files[]\" multiple disabled\n",
              "        style=\"border:none\" />\n",
              "     <output id=\"result-ce71b7b2-476f-4078-851a-c2f8123399f0\">\n",
              "      Upload widget is only available when the cell has been executed in the\n",
              "      current browser session. Please rerun this cell to enable.\n",
              "      </output>\n",
              "      <script src=\"/nbextensions/google.colab/files.js\"></script> "
            ],
            "text/plain": [
              "<IPython.core.display.HTML object>"
            ]
          },
          "metadata": {}
        },
        {
          "output_type": "stream",
          "name": "stdout",
          "text": [
            "Saving kaggle.json to kaggle.json\n",
            "kaggle.json\n"
          ]
        }
      ]
    },
    {
      "cell_type": "code",
      "source": [
        "# download all datasets necessary\n",
        "\n",
        "# link to all dataset: https://www.kaggle.com/c/g-research-crypto-forecasting/discussion/285726\n",
        "\n",
        "! kaggle datasets download -d yamqwe/cryptocurrency-extra-data-iota\n",
        "# ! kaggle datasets download -d yamqwe/cryptocurrency-extra-data-binance-coin\n",
        "# ! kaggle datasets download -d yamqwe/cryptocurrency-extra-data-bitcoin-cash\n",
        "# ! kaggle datasets download -d yamqwe/cryptocurrency-extra-data-bitcoin\n",
        "# ! kaggle datasets download -d yamqwe/cryptocurrency-extra-data-cardano\n",
        "# ! kaggle datasets download -d yamqwe/cryptocurrency-extra-data-dogecoin\n",
        "! kaggle datasets download -d yamqwe/cryptocurrency-extra-data-eos-io\n",
        "! kaggle datasets download -d yamqwe/cryptocurrency-extra-data-ethereum\n",
        "! kaggle datasets download -d yamqwe/cryptocurrency-extra-data-ethereum-classic\n",
        "! kaggle datasets download -d yamqwe/cryptocurrency-extra-data-litecoin\n",
        "! kaggle datasets download -d yamqwe/cryptocurrency-extra-data-monero\n",
        "# ! kaggle datasets download -d yamqwe/cryptocurrency-extra-data-maker\n",
        "! kaggle datasets download -d yamqwe/cryptocurrency-extra-data-stellar\n",
        "! kaggle datasets download -d yamqwe/cryptocurrency-extra-data-tron\n",
        "\n",
        "\n"
      ],
      "metadata": {
        "colab": {
          "base_uri": "https://localhost:8080/"
        },
        "id": "mzUyCTeaIL0S",
        "outputId": "d98a9369-ecc2-4e15-bf50-540ad867c9e1"
      },
      "execution_count": 14,
      "outputs": [
        {
          "output_type": "stream",
          "name": "stdout",
          "text": [
            "Downloading cryptocurrency-extra-data-iota.zip to /content/gdrive/MyDrive/Github/GResearch\n",
            " 99% 1.11G/1.11G [00:20<00:00, 43.3MB/s]\n",
            "100% 1.11G/1.11G [00:20<00:00, 58.9MB/s]\n",
            "Downloading cryptocurrency-extra-data-eos-io.zip to /content/gdrive/MyDrive/Github/GResearch\n",
            "100% 1.17G/1.18G [00:23<00:00, 51.0MB/s]\n",
            "100% 1.18G/1.18G [00:23<00:00, 53.9MB/s]\n",
            "Downloading cryptocurrency-extra-data-ethereum.zip to /content/gdrive/MyDrive/Github/GResearch\n",
            " 99% 1.18G/1.19G [00:15<00:00, 74.1MB/s]\n",
            "100% 1.19G/1.19G [00:15<00:00, 84.2MB/s]\n",
            "Downloading cryptocurrency-extra-data-ethereum-classic.zip to /content/gdrive/MyDrive/Github/GResearch\n",
            "100% 1.17G/1.17G [00:14<00:00, 46.7MB/s]\n",
            "100% 1.17G/1.17G [00:14<00:00, 88.5MB/s]\n",
            "Downloading cryptocurrency-extra-data-litecoin.zip to /content/gdrive/MyDrive/Github/GResearch\n",
            " 99% 1.17G/1.17G [00:15<00:00, 37.4MB/s]\n",
            "100% 1.17G/1.17G [00:15<00:00, 79.6MB/s]\n",
            "Downloading cryptocurrency-extra-data-monero.zip to /content/gdrive/MyDrive/Github/GResearch\n",
            "100% 1.12G/1.12G [00:22<00:00, 61.0MB/s]\n",
            "100% 1.12G/1.12G [00:22<00:00, 54.7MB/s]\n",
            "Downloading cryptocurrency-extra-data-stellar.zip to /content/gdrive/MyDrive/Github/GResearch\n",
            "100% 1.16G/1.16G [00:21<00:00, 59.6MB/s]\n",
            "\n",
            "Downloading cryptocurrency-extra-data-tron.zip to /content/gdrive/MyDrive/Github/GResearch\n",
            "100% 1.17G/1.17G [00:20<00:00, 83.7MB/s]\n",
            "100% 1.17G/1.17G [00:20<00:00, 60.2MB/s]\n"
          ]
        }
      ]
    },
    {
      "cell_type": "code",
      "source": [
        "# ! unzip /content/gdrive/MyDrive/Github/cryptocurrency-extra-data-iota.zip\n",
        "\n",
        "! unzip \\*.zip"
      ],
      "metadata": {
        "colab": {
          "base_uri": "https://localhost:8080/"
        },
        "id": "sx694qVhJCCG",
        "outputId": "ceb541ba-6afa-4a60-fd5d-5048968eb058"
      },
      "execution_count": 15,
      "outputs": [
        {
          "output_type": "stream",
          "name": "stdout",
          "text": [
            "Archive:  cryptocurrency-extra-data-iota.zip\n",
            "  inflating: full_data__8__2018.csv  \n",
            "  inflating: full_data__8__2018.jay  \n",
            "  inflating: full_data__8__2019.csv  \n",
            "  inflating: full_data__8__2019.jay  \n",
            "  inflating: full_data__8__2020.csv  \n",
            "  inflating: full_data__8__2020.jay  \n",
            "  inflating: full_data__8__2021.csv  \n",
            "  inflating: full_data__8__2021.jay  \n",
            "replace orig_asset_details.jay? [y]es, [n]o, [A]ll, [N]one, [r]ename: n\n",
            "replace orig_example_sample_submission.jay? [y]es, [n]o, [A]ll, [N]one, [r]ename: n\n",
            "replace orig_example_test.jay? [y]es, [n]o, [A]ll, [N]one, [r]ename: n\n",
            "replace orig_supplemental_train.jay? [y]es, [n]o, [A]ll, [N]one, [r]ename: n\n",
            "replace orig_train.jay? [y]es, [n]o, [A]ll, [N]one, [r]ename: n\n",
            "\n",
            "Archive:  cryptocurrency-extra-data-eos-io.zip\n",
            "  inflating: full_data__5__2018.csv  n\n",
            "\n",
            "  inflating: full_data__5__2018.jay  \n",
            "  inflating: full_data__5__2019.csv  \n",
            "  inflating: full_data__5__2019.jay  \n",
            "  inflating: full_data__5__2020.csv  \n",
            "  inflating: full_data__5__2020.jay  \n",
            "  inflating: full_data__5__2021.csv  \n",
            "  inflating: full_data__5__2021.jay  \n",
            "replace orig_asset_details.jay? [y]es, [n]o, [A]ll, [N]one, [r]ename: replace orig_example_sample_submission.jay? [y]es, [n]o, [A]ll, [N]one, [r]ename: n\n",
            "replace orig_example_test.jay? [y]es, [n]o, [A]ll, [N]one, [r]ename: n\n",
            "replace orig_supplemental_train.jay? [y]es, [n]o, [A]ll, [N]one, [r]ename: n\n",
            "replace orig_train.jay? [y]es, [n]o, [A]ll, [N]one, [r]ename: n\n",
            "\n",
            "Archive:  cryptocurrency-extra-data-ethereum.zip\n",
            "  inflating: full_data__6__2017.csv  \n",
            "  inflating: full_data__6__2017.jay  n\n",
            "\n",
            "  inflating: full_data__6__2018.csv  n\n",
            "n\n",
            "\n",
            "  inflating: full_data__6__2018.jay  \n",
            "  inflating: full_data__6__2019.csv  \n",
            "  inflating: full_data__6__2019.jay  \n",
            "  inflating: full_data__6__2020.csv  n\n",
            "n\n",
            "\n",
            "  inflating: full_data__6__2020.jay  n\n",
            "n\n",
            "n\n",
            "n\n",
            "n\n",
            "\n",
            "  inflating: full_data__6__2021.csv  n\n",
            "n\n",
            "n\n",
            "\n",
            "  inflating: full_data__6__2021.jay  \n",
            "replace orig_asset_details.jay? [y]es, [n]o, [A]ll, [N]one, [r]ename: replace orig_example_sample_submission.jay? [y]es, [n]o, [A]ll, [N]one, [r]ename: replace orig_example_test.jay? [y]es, [n]o, [A]ll, [N]one, [r]ename: replace orig_supplemental_train.jay? [y]es, [n]o, [A]ll, [N]one, [r]ename: replace orig_train.jay? [y]es, [n]o, [A]ll, [N]one, [r]ename: \n",
            "Archive:  cryptocurrency-extra-data-ethereum-classic.zip\n",
            "  inflating: full_data__7__2018.csv  \n",
            "  inflating: full_data__7__2018.jay  \n",
            "  inflating: full_data__7__2019.csv  \n",
            "  inflating: full_data__7__2019.jay  \n",
            "  inflating: full_data__7__2020.csv  \n",
            "  inflating: full_data__7__2020.jay  \n",
            "  inflating: full_data__7__2021.csv  n\n",
            "\n",
            "  inflating: full_data__7__2021.jay  n\n",
            "n\n",
            "n\n",
            "n\n",
            "\n",
            "replace orig_asset_details.jay? [y]es, [n]o, [A]ll, [N]one, [r]ename: replace orig_example_sample_submission.jay? [y]es, [n]o, [A]ll, [N]one, [r]ename: replace orig_example_test.jay? [y]es, [n]o, [A]ll, [N]one, [r]ename: replace orig_supplemental_train.jay? [y]es, [n]o, [A]ll, [N]one, [r]ename: replace orig_train.jay? [y]es, [n]o, [A]ll, [N]one, [r]ename: \n",
            "Archive:  cryptocurrency-extra-data-litecoin.zip\n",
            "  inflating: full_data__9__2017.csv  \n",
            "  inflating: full_data__9__2017.jay  n\n",
            "\n",
            "  inflating: full_data__9__2018.csv  \n",
            "  inflating: full_data__9__2018.jay  \n",
            "  inflating: full_data__9__2019.csv  \n",
            "  inflating: full_data__9__2019.jay  \n",
            "  inflating: full_data__9__2020.csv  \n",
            "  inflating: full_data__9__2020.jay  \n",
            "  inflating: full_data__9__2021.csv  \n",
            "  inflating: full_data__9__2021.jay  \n",
            "replace orig_asset_details.jay? [y]es, [n]o, [A]ll, [N]one, [r]ename: replace orig_example_sample_submission.jay? [y]es, [n]o, [A]ll, [N]one, [r]ename: replace orig_example_test.jay? [y]es, [n]o, [A]ll, [N]one, [r]ename: replace orig_supplemental_train.jay? [y]es, [n]o, [A]ll, [N]one, [r]ename: replace orig_train.jay? [y]es, [n]o, [A]ll, [N]one, [r]ename: \n",
            "Archive:  cryptocurrency-extra-data-monero.zip\n",
            "  inflating: full_data__11__2018.csv  \n",
            "  inflating: full_data__11__2018.jay  \n",
            "  inflating: full_data__11__2019.csv  \n",
            "  inflating: full_data__11__2019.jay  \n",
            "  inflating: full_data__11__2020.csv  \n",
            "  inflating: full_data__11__2020.jay  \n",
            "  inflating: full_data__11__2021.csv  \n",
            "  inflating: full_data__11__2021.jay  \n",
            "replace orig_asset_details.jay? [y]es, [n]o, [A]ll, [N]one, [r]ename: replace orig_example_sample_submission.jay? [y]es, [n]o, [A]ll, [N]one, [r]ename: replace orig_example_test.jay? [y]es, [n]o, [A]ll, [N]one, [r]ename: replace orig_supplemental_train.jay? [y]es, [n]o, [A]ll, [N]one, [r]ename: replace orig_train.jay? [y]es, [n]o, [A]ll, [N]one, [r]ename: n\n",
            "\n",
            "Archive:  cryptocurrency-extra-data-stellar.zip\n",
            "  inflating: full_data__12__2018.csv  n\n",
            "\n",
            "  inflating: full_data__12__2018.jay  n\n",
            "n\n",
            "\n",
            "  inflating: full_data__12__2019.csv  n\n",
            "n\n",
            "n\n",
            "n\n",
            "n\n",
            "\n",
            "  inflating: full_data__12__2019.jay  n\n",
            "n\n",
            "n\n",
            "n\n",
            "\n",
            "  inflating: full_data__12__2020.csv  n\n",
            "n\n",
            "n\n",
            "\n",
            "  inflating: full_data__12__2020.jay  \n",
            "  inflating: full_data__12__2021.csv  \n",
            "  inflating: full_data__12__2021.jay  \n",
            "replace orig_asset_details.jay? [y]es, [n]o, [A]ll, [N]one, [r]ename: replace orig_example_sample_submission.jay? [y]es, [n]o, [A]ll, [N]one, [r]ename: replace orig_example_test.jay? [y]es, [n]o, [A]ll, [N]one, [r]ename: replace orig_supplemental_train.jay? [y]es, [n]o, [A]ll, [N]one, [r]ename: replace orig_train.jay? [y]es, [n]o, [A]ll, [N]one, [r]ename: \n",
            "Archive:  cryptocurrency-extra-data-tron.zip\n",
            "  inflating: full_data__13__2018.csv  \n",
            "  inflating: full_data__13__2018.jay  \n",
            "  inflating: full_data__13__2019.csv  \n",
            "  inflating: full_data__13__2019.jay  \n",
            "  inflating: full_data__13__2020.csv  \n",
            "  inflating: full_data__13__2020.jay  \n",
            "  inflating: full_data__13__2021.csv  \n",
            "  inflating: full_data__13__2021.jay  \n",
            "replace orig_asset_details.jay? [y]es, [n]o, [A]ll, [N]one, [r]ename: replace orig_example_sample_submission.jay? [y]es, [n]o, [A]ll, [N]one, [r]ename: replace orig_example_test.jay? [y]es, [n]o, [A]ll, [N]one, [r]ename: replace orig_supplemental_train.jay? [y]es, [n]o, [A]ll, [N]one, [r]ename: replace orig_train.jay? [y]es, [n]o, [A]ll, [N]one, [r]ename: \n",
            "8 archives were successfully processed.\n"
          ]
        }
      ]
    },
    {
      "cell_type": "code",
      "source": [
        "## Cloning git repo to gdrive\n",
        "\n",
        "# !git clone https://{TOKEN}@github.com/Niggl0n/G-ResearchCryptoPrediction"
      ],
      "metadata": {
        "id": "NhwBsD_Fe-UR"
      },
      "execution_count": null,
      "outputs": []
    },
    {
      "cell_type": "code",
      "source": [
        ""
      ],
      "metadata": {
        "id": "S-bH6MW-e9y2"
      },
      "execution_count": null,
      "outputs": []
    },
    {
      "cell_type": "code",
      "source": [
        ""
      ],
      "metadata": {
        "id": "tNg9IbwUBN1N"
      },
      "execution_count": null,
      "outputs": []
    },
    {
      "cell_type": "code",
      "source": [
        ""
      ],
      "metadata": {
        "id": "qbF-Mq9wBN1e"
      },
      "execution_count": null,
      "outputs": []
    },
    {
      "cell_type": "code",
      "source": [
        ""
      ],
      "metadata": {
        "id": "AGn_DGSUBN1e"
      },
      "execution_count": null,
      "outputs": []
    },
    {
      "cell_type": "code",
      "source": [
        ""
      ],
      "metadata": {
        "id": "hMM22n5DBN1f"
      },
      "execution_count": null,
      "outputs": []
    }
  ]
}